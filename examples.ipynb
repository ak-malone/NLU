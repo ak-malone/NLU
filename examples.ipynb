{
  "nbformat": 4,
  "nbformat_minor": 0,
  "metadata": {
    "colab": {
      "provenance": [],
      "authorship_tag": "ABX9TyPRk0F3KtVxsavGQs3AAJiC"
    },
    "kernelspec": {
      "name": "python3",
      "display_name": "Python 3"
    },
    "language_info": {
      "name": "python"
    }
  },
  "cells": [
    {
      "cell_type": "code",
      "execution_count": 16,
      "metadata": {
        "id": "yZiTIYb0i0zP"
      },
      "outputs": [],
      "source": [
        "import pandas as pd\n",
        "import numpy as np\n",
        "import seaborn as sns\n",
        "\n",
        "import re\n",
        "import spacy\n",
        "from gensim.parsing.preprocessing import remove_stopwords\n",
        "\n",
        "from sklearn.feature_extraction.text import CountVectorizer\n",
        "from sklearn.metrics.pairwise import cosine_similarity\n",
        "from sklearn.feature_extraction.text import TfidfVectorizer"
      ]
    },
    {
      "cell_type": "code",
      "source": [
        "#!python -m spacy download en_core_web_md"
      ],
      "metadata": {
        "id": "IWstVfUgnajV"
      },
      "execution_count": 17,
      "outputs": []
    },
    {
      "cell_type": "code",
      "source": [
        "pics = pd.read_json(\"hf://datasets/embedding-data/flickr30k_captions_quintets/flickr30k_captions.jsonl.gz\", lines=True)"
      ],
      "metadata": {
        "colab": {
          "base_uri": "https://localhost:8080/"
        },
        "id": "uIkubck3qULA",
        "outputId": "59ddc5cf-68f6-4db0-ae3e-f219d7eccd6f"
      },
      "execution_count": 18,
      "outputs": [
        {
          "output_type": "stream",
          "name": "stderr",
          "text": [
            "/usr/local/lib/python3.10/dist-packages/huggingface_hub/utils/_token.py:89: UserWarning: \n",
            "The secret `HF_TOKEN` does not exist in your Colab secrets.\n",
            "To authenticate with the Hugging Face Hub, create a token in your settings tab (https://huggingface.co/settings/tokens), set it as secret in your Google Colab and restart your session.\n",
            "You will be able to reuse this secret in all of your notebooks.\n",
            "Please note that authentication is recommended but still optional to access public models or datasets.\n",
            "  warnings.warn(\n"
          ]
        }
      ]
    },
    {
      "cell_type": "code",
      "source": [
        "pic11013 = pics.iloc[11013]['set']\n",
        "pic11013"
      ],
      "metadata": {
        "colab": {
          "base_uri": "https://localhost:8080/"
        },
        "id": "z_jgIw05Yv9i",
        "outputId": "f16cae73-6a6a-4ec4-dd18-4bbc585dbf3e"
      },
      "execution_count": 19,
      "outputs": [
        {
          "output_type": "execute_result",
          "data": {
            "text/plain": [
              "['Some women in white perform on a stage.',\n",
              " 'Women who look alike are performing on a stage.',\n",
              " 'Women participate in a skit on stage.',\n",
              " 'A group of women are performing on stage.',\n",
              " 'People in a dance']"
            ]
          },
          "metadata": {},
          "execution_count": 19
        }
      ]
    },
    {
      "cell_type": "code",
      "source": [
        "def Jaccard(text1, text2, prints=False):\n",
        "  intersection = set(text1.split()) & set(text2.split())\n",
        "  union = len(set(text1.split()) | set(text2.split()))\n",
        "  if prints:\n",
        "    print(set(text1.split()))\n",
        "    print(set(text2.split()))\n",
        "    print(\"overlap: \", intersection)\n",
        "    print(\"Total words: \", union)\n",
        "  return(len(intersection)/union)"
      ],
      "metadata": {
        "id": "wx5uqvNBjWDv"
      },
      "execution_count": 20,
      "outputs": []
    },
    {
      "cell_type": "code",
      "source": [
        "Jaccard(pic11013[0], pic11013[1], True)"
      ],
      "metadata": {
        "colab": {
          "base_uri": "https://localhost:8080/"
        },
        "id": "wSKpL66ofmTL",
        "outputId": "eec792de-c015-4eec-ba0f-58896ceee024"
      },
      "execution_count": 21,
      "outputs": [
        {
          "output_type": "stream",
          "name": "stdout",
          "text": [
            "{'stage.', 'a', 'women', 'Some', 'perform', 'white', 'on', 'in'}\n",
            "{'performing', 'stage.', 'Women', 'look', 'a', 'alike', 'are', 'on', 'who'}\n",
            "overlap:  {'on', 'stage.', 'a'}\n",
            "Total words:  14\n"
          ]
        },
        {
          "output_type": "execute_result",
          "data": {
            "text/plain": [
              "0.21428571428571427"
            ]
          },
          "metadata": {},
          "execution_count": 21
        }
      ]
    },
    {
      "cell_type": "code",
      "source": [
        "nlp = spacy.load(\"en_core_web_md\")\n",
        "from gensim.parsing.preprocessing import remove_stopwords\n",
        "\n",
        "def process(sentences):\n",
        "  print(\"Original: \")\n",
        "  print(sentences)\n",
        "  sentences1 = [sentence.lower() for sentence in sentences]\n",
        "  print(\"After case normalisation: \")\n",
        "  print(sentences1)\n",
        "  sentences2 = [re.sub(r'[^\\w\\s]',' ',s) for s in sentences1]\n",
        "  print(\"After punctuation removal: \")\n",
        "  print(sentences2)\n",
        "  sentences3 = [\" \".join([word.lemma_ for word in nlp(s)]) for s in sentences2]\n",
        "  print(\"After lemmatization: \")\n",
        "  print(sentences3)\n",
        "  print(\"After stopword removal: \")\n",
        "  sentences4 = [remove_stopwords(sentence) for sentence in sentences3]\n",
        "  print(sentences4)\n",
        "  return sentences4\n"
      ],
      "metadata": {
        "id": "WTX46YzOaasx"
      },
      "execution_count": 22,
      "outputs": []
    },
    {
      "cell_type": "code",
      "source": [
        "processed_pic11013 = process(pic11013)"
      ],
      "metadata": {
        "colab": {
          "base_uri": "https://localhost:8080/"
        },
        "id": "5e5i5abDfuMq",
        "outputId": "13707ce2-5d64-4daf-92c1-96145284eb96"
      },
      "execution_count": 23,
      "outputs": [
        {
          "output_type": "stream",
          "name": "stdout",
          "text": [
            "Original: \n",
            "['Some women in white perform on a stage.', 'Women who look alike are performing on a stage.', 'Women participate in a skit on stage.', 'A group of women are performing on stage.', 'People in a dance']\n",
            "After case normalisation: \n",
            "['some women in white perform on a stage.', 'women who look alike are performing on a stage.', 'women participate in a skit on stage.', 'a group of women are performing on stage.', 'people in a dance']\n",
            "After punctuation removal: \n",
            "['some women in white perform on a stage ', 'women who look alike are performing on a stage ', 'women participate in a skit on stage ', 'a group of women are performing on stage ', 'people in a dance']\n",
            "After lemmatization: \n",
            "['some woman in white perform on a stage', 'woman who look alike be perform on a stage', 'woman participate in a skit on stage', 'a group of woman be perform on stage', 'people in a dance']\n",
            "After stopword removal: \n",
            "['woman white perform stage', 'woman look alike perform stage', 'woman participate skit stage', 'group woman perform stage', 'people dance']\n"
          ]
        }
      ]
    },
    {
      "cell_type": "code",
      "source": [
        "Jaccard(processed_pic11013[0], processed_pic11013[1], True)"
      ],
      "metadata": {
        "colab": {
          "base_uri": "https://localhost:8080/"
        },
        "id": "7f96jFESPQKm",
        "outputId": "11bcd397-f9bf-4477-cfb1-139afed8d8ed"
      },
      "execution_count": 24,
      "outputs": [
        {
          "output_type": "stream",
          "name": "stdout",
          "text": [
            "{'perform', 'stage', 'white', 'woman'}\n",
            "{'look', 'woman', 'alike', 'perform', 'stage'}\n",
            "overlap:  {'perform', 'stage', 'woman'}\n",
            "Total words:  6\n"
          ]
        },
        {
          "output_type": "execute_result",
          "data": {
            "text/plain": [
              "0.5"
            ]
          },
          "metadata": {},
          "execution_count": 24
        }
      ]
    },
    {
      "cell_type": "code",
      "source": [
        "from sklearn.feature_extraction.text import CountVectorizer\n",
        "count_vectorizer = CountVectorizer()\n",
        "X = count_vectorizer.fit_transform(processed_pic11013[:4])\n",
        "print(count_vectorizer.get_feature_names_out())\n",
        "print(X.toarray())"
      ],
      "metadata": {
        "colab": {
          "base_uri": "https://localhost:8080/"
        },
        "id": "s7LF00mhgB9F",
        "outputId": "f51844f8-87ad-456b-8a2b-a5217be426de"
      },
      "execution_count": 25,
      "outputs": [
        {
          "output_type": "stream",
          "name": "stdout",
          "text": [
            "['alike' 'group' 'look' 'participate' 'perform' 'skit' 'stage' 'white'\n",
            " 'woman']\n",
            "[[0 0 0 0 1 0 1 1 1]\n",
            " [1 0 1 0 1 0 1 0 1]\n",
            " [0 0 0 1 0 1 1 0 1]\n",
            " [0 1 0 0 1 0 1 0 1]]\n"
          ]
        }
      ]
    },
    {
      "cell_type": "code",
      "source": [
        "pic16 = pics.iloc[16]['set']\n",
        "pic2 = pics.iloc[2]['set']\n",
        "pic31782 = pics.iloc[31782]['set']"
      ],
      "metadata": {
        "id": "O-qsnfjRnpt8"
      },
      "execution_count": 32,
      "outputs": []
    },
    {
      "cell_type": "code",
      "source": [
        "pics.iloc[19521]['set']"
      ],
      "metadata": {
        "id": "t14JodtKwvhE",
        "outputId": "11309aa5-1575-4029-f6a3-e92d2be8d80f",
        "colab": {
          "base_uri": "https://localhost:8080/"
        }
      },
      "execution_count": 44,
      "outputs": [
        {
          "output_type": "execute_result",
          "data": {
            "text/plain": [
              "['Four young boy scouts on stage in front of green tents.',\n",
              " 'Four boy scouts are on a stage in front of their green tents.',\n",
              " 'Children performing on a stage with tents in the background.',\n",
              " 'Four boy scouts perform on stage.',\n",
              " 'Four Eagle Scouts are on stage with camping gear in the background.']"
            ]
          },
          "metadata": {},
          "execution_count": 44
        }
      ]
    },
    {
      "cell_type": "code",
      "source": [
        "processed_pic16 = process(pic16)"
      ],
      "metadata": {
        "colab": {
          "base_uri": "https://localhost:8080/"
        },
        "id": "6wQ73ryMnpkJ",
        "outputId": "27fb2930-5885-493f-8c37-fa05efc821cc"
      },
      "execution_count": 28,
      "outputs": [
        {
          "output_type": "stream",
          "name": "stdout",
          "text": [
            "Original: \n",
            "['A little girl covered in paint sits in front of a painted rainbow with her hands in a bowl.', 'A little girl is sitting in front of a large painted rainbow.', 'A small girl in the grass plays with fingerpaints in front of a white canvas with a rainbow on it.', 'There is a girl with pigtails sitting in front of a rainbow painting.', 'Young girl with pigtails painting outside in the grass.']\n",
            "After case normalisation: \n",
            "['a little girl covered in paint sits in front of a painted rainbow with her hands in a bowl.', 'a little girl is sitting in front of a large painted rainbow.', 'a small girl in the grass plays with fingerpaints in front of a white canvas with a rainbow on it.', 'there is a girl with pigtails sitting in front of a rainbow painting.', 'young girl with pigtails painting outside in the grass.']\n",
            "After punctuation removal: \n",
            "['a little girl covered in paint sits in front of a painted rainbow with her hands in a bowl ', 'a little girl is sitting in front of a large painted rainbow ', 'a small girl in the grass plays with fingerpaints in front of a white canvas with a rainbow on it ', 'there is a girl with pigtails sitting in front of a rainbow painting ', 'young girl with pigtails painting outside in the grass ']\n",
            "After lemmatization: \n",
            "['a little girl cover in paint sit in front of a paint rainbow with her hand in a bowl', 'a little girl be sit in front of a large paint rainbow', 'a small girl in the grass play with fingerpaint in front of a white canvas with a rainbow on it', 'there be a girl with pigtail sit in front of a rainbow painting', 'young girl with pigtail paint outside in the grass']\n",
            "After stopword removal: \n",
            "['little girl cover paint sit paint rainbow hand bowl', 'little girl sit large paint rainbow', 'small girl grass play fingerpaint white canvas rainbow', 'girl pigtail sit rainbow painting', 'young girl pigtail paint outside grass']\n"
          ]
        }
      ]
    },
    {
      "cell_type": "code",
      "source": [
        "processed_pic2 = process(pic2)"
      ],
      "metadata": {
        "colab": {
          "base_uri": "https://localhost:8080/"
        },
        "id": "UCZeYuDKnpez",
        "outputId": "2a5b1294-c082-432c-ac13-f5757cc482b2"
      },
      "execution_count": 29,
      "outputs": [
        {
          "output_type": "stream",
          "name": "stdout",
          "text": [
            "Original: \n",
            "['A child in a pink dress is climbing up a set of stairs in an entry way.', 'A girl going into a wooden building.', 'A little girl climbing into a wooden playhouse', 'A little girl in a pink dress going into a wooden cabin.', 'A little girl climbing the stairs to her playhouse.']\n",
            "After case normalisation: \n",
            "['a child in a pink dress is climbing up a set of stairs in an entry way.', 'a girl going into a wooden building.', 'a little girl climbing into a wooden playhouse', 'a little girl in a pink dress going into a wooden cabin.', 'a little girl climbing the stairs to her playhouse.']\n",
            "After punctuation removal: \n",
            "['a child in a pink dress is climbing up a set of stairs in an entry way ', 'a girl going into a wooden building ', 'a little girl climbing into a wooden playhouse', 'a little girl in a pink dress going into a wooden cabin ', 'a little girl climbing the stairs to her playhouse ']\n",
            "After lemmatization: \n",
            "['a child in a pink dress be climb up a set of stair in an entry way', 'a girl go into a wooden building', 'a little girl climb into a wooden playhouse', 'a little girl in a pink dress go into a wooden cabin', 'a little girl climb the stair to her playhouse']\n",
            "After stopword removal: \n",
            "['child pink dress climb set stair entry way', 'girl wooden building', 'little girl climb wooden playhouse', 'little girl pink dress wooden cabin', 'little girl climb stair playhouse']\n"
          ]
        }
      ]
    },
    {
      "cell_type": "code",
      "source": [
        "processed_pic31782 = process(pic31782)"
      ],
      "metadata": {
        "colab": {
          "base_uri": "https://localhost:8080/"
        },
        "id": "15jR7yDLq6MA",
        "outputId": "a1d6e3c8-f6ab-4f92-ea5c-8688201cde89"
      },
      "execution_count": 34,
      "outputs": [
        {
          "output_type": "stream",
          "name": "stdout",
          "text": [
            "Original: \n",
            "['A man riding a small boat in a harbor, with fog and mountains in the background.', 'A man in shorts and a Hawaiian shirt leans over the rail of a pilot boat, with fog and mountains in the background.', 'A young man hanging over the side of a boat, which is in a like with fog rolling over a hill behind it.', 'A man is leaning off of the side of a blue and white boat as it sits in a body of water.', 'A man on a moored blue and white boat with hills and mist in the background.']\n",
            "After case normalisation: \n",
            "['a man riding a small boat in a harbor, with fog and mountains in the background.', 'a man in shorts and a hawaiian shirt leans over the rail of a pilot boat, with fog and mountains in the background.', 'a young man hanging over the side of a boat, which is in a like with fog rolling over a hill behind it.', 'a man is leaning off of the side of a blue and white boat as it sits in a body of water.', 'a man on a moored blue and white boat with hills and mist in the background.']\n",
            "After punctuation removal: \n",
            "['a man riding a small boat in a harbor  with fog and mountains in the background ', 'a man in shorts and a hawaiian shirt leans over the rail of a pilot boat  with fog and mountains in the background ', 'a young man hanging over the side of a boat  which is in a like with fog rolling over a hill behind it ', 'a man is leaning off of the side of a blue and white boat as it sits in a body of water ', 'a man on a moored blue and white boat with hills and mist in the background ']\n",
            "After lemmatization: \n",
            "['a man ride a small boat in a harbor   with fog and mountain in the background', 'a man in short and a hawaiian shirt lean over the rail of a pilot boat   with fog and mountain in the background', 'a young man hang over the side of a boat   which be in a like with fog roll over a hill behind it', 'a man be lean off of the side of a blue and white boat as it sit in a body of water', 'a man on a moor blue and white boat with hill and mist in the background']\n",
            "After stopword removal: \n",
            "['man ride small boat harbor fog mountain background', 'man short hawaiian shirt lean rail pilot boat fog mountain background', 'young man hang boat like fog roll hill', 'man lean blue white boat sit body water', 'man moor blue white boat hill mist background']\n"
          ]
        }
      ]
    },
    {
      "cell_type": "code",
      "source": [
        "cv = CountVectorizer()\n",
        "X4 = cv.fit_transform(processed_pic11013+processed_pic16+processed_pic2+processed_pic31782)\n",
        "cv.get_feature_names_out()"
      ],
      "metadata": {
        "colab": {
          "base_uri": "https://localhost:8080/"
        },
        "id": "aSjNNekQkxJM",
        "outputId": "7348f9bf-ed30-4d48-82a2-a18f37c69655"
      },
      "execution_count": 35,
      "outputs": [
        {
          "output_type": "execute_result",
          "data": {
            "text/plain": [
              "array(['alike', 'background', 'blue', 'boat', 'body', 'bowl', 'building',\n",
              "       'cabin', 'canvas', 'child', 'climb', 'cover', 'dance', 'dress',\n",
              "       'entry', 'fingerpaint', 'fog', 'girl', 'grass', 'group', 'hand',\n",
              "       'hang', 'harbor', 'hawaiian', 'hill', 'large', 'lean', 'like',\n",
              "       'little', 'look', 'man', 'mist', 'moor', 'mountain', 'outside',\n",
              "       'paint', 'painting', 'participate', 'people', 'perform', 'pigtail',\n",
              "       'pilot', 'pink', 'play', 'playhouse', 'rail', 'rainbow', 'ride',\n",
              "       'roll', 'set', 'shirt', 'short', 'sit', 'skit', 'small', 'stage',\n",
              "       'stair', 'water', 'way', 'white', 'woman', 'wooden', 'young'],\n",
              "      dtype=object)"
            ]
          },
          "metadata": {},
          "execution_count": 35
        }
      ]
    },
    {
      "cell_type": "code",
      "source": [
        "\n",
        "sns.heatmap(cosine_similarity(X4))"
      ],
      "metadata": {
        "colab": {
          "base_uri": "https://localhost:8080/",
          "height": 453
        },
        "id": "vyXbuAIzmIyF",
        "outputId": "c691a626-9d8c-4f32-918b-dc5f79b1b7e7"
      },
      "execution_count": 36,
      "outputs": [
        {
          "output_type": "execute_result",
          "data": {
            "text/plain": [
              "<Axes: >"
            ]
          },
          "metadata": {},
          "execution_count": 36
        },
        {
          "output_type": "display_data",
          "data": {
            "text/plain": [
              "<Figure size 640x480 with 2 Axes>"
            ],
            "image/png": "[encoded data removed]"
          },
          "metadata": {}
        }
      ]
    },
    {
      "cell_type": "code",
      "source": [
        "vectorizer2 = CountVectorizer(analyzer='word', ngram_range=(2, 2))\n",
        "X2 = vectorizer2.fit_transform(processed_pic11013)\n",
        "vectorizer2.get_feature_names_out()"
      ],
      "metadata": {
        "colab": {
          "base_uri": "https://localhost:8080/"
        },
        "id": "BBwB8MPVhEUO",
        "outputId": "c9e5f5b0-8c6b-4e72-ef46-e8bc5852fea9"
      },
      "execution_count": 146,
      "outputs": [
        {
          "output_type": "execute_result",
          "data": {
            "text/plain": [
              "array(['alike perform', 'group woman', 'look alike', 'participate skit',\n",
              "       'people dance', 'perform stage', 'skit stage', 'white perform',\n",
              "       'woman look', 'woman participate', 'woman perform', 'woman white'],\n",
              "      dtype=object)"
            ]
          },
          "metadata": {},
          "execution_count": 146
        }
      ]
    },
    {
      "cell_type": "markdown",
      "source": [],
      "metadata": {
        "id": "XJxYXnZph1D4"
      }
    },
    {
      "cell_type": "code",
      "source": [
        "print(X2.toarray())"
      ],
      "metadata": {
        "colab": {
          "base_uri": "https://localhost:8080/"
        },
        "id": "HEORS1fphTBO",
        "outputId": "18c0395a-3cba-4a37-8f00-55b6a0102e7c"
      },
      "execution_count": 147,
      "outputs": [
        {
          "output_type": "stream",
          "name": "stdout",
          "text": [
            "[[0 0 0 0 0 1 0 1 0 0 0 1]\n",
            " [1 0 1 0 0 1 0 0 1 0 0 0]\n",
            " [0 0 0 1 0 0 1 0 0 1 0 0]\n",
            " [0 1 0 0 0 1 0 0 0 0 1 0]\n",
            " [0 0 0 0 1 0 0 0 0 0 0 0]]\n"
          ]
        }
      ]
    },
    {
      "cell_type": "code",
      "source": [
        "vectorizer = TfidfVectorizer()\n",
        "tfidf_matrix = vectorizer.fit_transform(processed_pic11013+processed_pic16+processed_pic2+processed_pic31782)"
      ],
      "metadata": {
        "id": "eVTjyDYAljPr"
      },
      "execution_count": 37,
      "outputs": []
    },
    {
      "cell_type": "code",
      "source": [
        "tfidf_matrix.todense()"
      ],
      "metadata": {
        "colab": {
          "base_uri": "https://localhost:8080/"
        },
        "id": "Rp9BiSNvlns9",
        "outputId": "14225180-2f98-449c-8943-cd71c27e23ba"
      },
      "execution_count": 38,
      "outputs": [
        {
          "output_type": "execute_result",
          "data": {
            "text/plain": [
              "matrix([[0.        , 0.        , 0.        , ..., 0.48843458, 0.        ,\n",
              "         0.        ],\n",
              "        [0.52093221, 0.        , 0.        , ..., 0.3785055 , 0.        ,\n",
              "         0.        ],\n",
              "        [0.        , 0.        , 0.        , ..., 0.41564569, 0.        ,\n",
              "         0.        ],\n",
              "        ...,\n",
              "        [0.        , 0.        , 0.        , ..., 0.        , 0.        ,\n",
              "         0.35654222],\n",
              "        [0.        , 0.        , 0.37464688, ..., 0.        , 0.        ,\n",
              "         0.        ],\n",
              "        [0.        , 0.33499593, 0.37125028, ..., 0.        , 0.        ,\n",
              "         0.        ]])"
            ]
          },
          "metadata": {},
          "execution_count": 38
        }
      ]
    },
    {
      "cell_type": "code",
      "source": [],
      "metadata": {
        "id": "hpUXFsYCdZih"
      },
      "execution_count": 38,
      "outputs": []
    },
    {
      "cell_type": "code",
      "source": [],
      "metadata": {
        "id": "SK0qZqy_mrcE"
      },
      "execution_count": 38,
      "outputs": []
    },
    {
      "cell_type": "code",
      "source": [
        "dictionary = vectorizer.get_feature_names_out()\n",
        "dictionary"
      ],
      "metadata": {
        "colab": {
          "base_uri": "https://localhost:8080/"
        },
        "id": "neM56_21mneI",
        "outputId": "d54586d2-6734-4e2b-ada0-a7256eb4a7df"
      },
      "execution_count": 39,
      "outputs": [
        {
          "output_type": "execute_result",
          "data": {
            "text/plain": [
              "array(['alike', 'background', 'blue', 'boat', 'body', 'bowl', 'building',\n",
              "       'cabin', 'canvas', 'child', 'climb', 'cover', 'dance', 'dress',\n",
              "       'entry', 'fingerpaint', 'fog', 'girl', 'grass', 'group', 'hand',\n",
              "       'hang', 'harbor', 'hawaiian', 'hill', 'large', 'lean', 'like',\n",
              "       'little', 'look', 'man', 'mist', 'moor', 'mountain', 'outside',\n",
              "       'paint', 'painting', 'participate', 'people', 'perform', 'pigtail',\n",
              "       'pilot', 'pink', 'play', 'playhouse', 'rail', 'rainbow', 'ride',\n",
              "       'roll', 'set', 'shirt', 'short', 'sit', 'skit', 'small', 'stage',\n",
              "       'stair', 'water', 'way', 'white', 'woman', 'wooden', 'young'],\n",
              "      dtype=object)"
            ]
          },
          "metadata": {},
          "execution_count": 39
        }
      ]
    },
    {
      "cell_type": "code",
      "source": [
        "np.argmin(vectorizer.idf_)"
      ],
      "metadata": {
        "colab": {
          "base_uri": "https://localhost:8080/"
        },
        "id": "jzHQMcHzeas1",
        "outputId": "8a318f25-9e98-47ee-b907-40711dde2e4f"
      },
      "execution_count": 40,
      "outputs": [
        {
          "output_type": "execute_result",
          "data": {
            "text/plain": [
              "17"
            ]
          },
          "metadata": {},
          "execution_count": 40
        }
      ]
    },
    {
      "cell_type": "code",
      "source": [
        "dictionary[np.argmin(vectorizer.idf_)]"
      ],
      "metadata": {
        "colab": {
          "base_uri": "https://localhost:8080/",
          "height": 35
        },
        "id": "JcPpU9bpmm3Z",
        "outputId": "7484e58b-86ba-4bb4-ef91-fa2336234d1d"
      },
      "execution_count": 41,
      "outputs": [
        {
          "output_type": "execute_result",
          "data": {
            "text/plain": [
              "'girl'"
            ],
            "application/vnd.google.colaboratory.intrinsic+json": {
              "type": "string"
            }
          },
          "metadata": {},
          "execution_count": 41
        }
      ]
    },
    {
      "cell_type": "code",
      "source": [
        "dictionary[np.argmax(vectorizer.idf_)]"
      ],
      "metadata": {
        "colab": {
          "base_uri": "https://localhost:8080/",
          "height": 35
        },
        "id": "aXJWdfxkrc62",
        "outputId": "3d8141c1-78d3-4fc6-8c04-49675bd4451f"
      },
      "execution_count": 42,
      "outputs": [
        {
          "output_type": "execute_result",
          "data": {
            "text/plain": [
              "'alike'"
            ],
            "application/vnd.google.colaboratory.intrinsic+json": {
              "type": "string"
            }
          },
          "metadata": {},
          "execution_count": 42
        }
      ]
    },
    {
      "cell_type": "code",
      "source": [
        "import seaborn as sns\n",
        "sns.heatmap(cosine_similarity(tfidf_matrix))"
      ],
      "metadata": {
        "colab": {
          "base_uri": "https://localhost:8080/",
          "height": 453
        },
        "id": "Kvq6g8dzfG3f",
        "outputId": "ad65c470-048f-4faf-a914-ade8f4fbeb4e"
      },
      "execution_count": 43,
      "outputs": [
        {
          "output_type": "execute_result",
          "data": {
            "text/plain": [
              "<Axes: >"
            ]
          },
          "metadata": {},
          "execution_count": 43
        },
        {
          "output_type": "display_data",
          "data": {
            "text/plain": [
              "<Figure size 640x480 with 2 Axes>"
            ],
            "image/png": "[encoded data removed]"
          },
          "metadata": {}
        }
      ]
    },
    {
      "cell_type": "markdown",
      "source": [
        "# New section"
      ],
      "metadata": {
        "id": "I-prD9UFtOWY"
      }
    },
    {
      "cell_type": "code",
      "source": [
        "seaborn.heatmap("
      ],
      "metadata": {
        "id": "fnN3bmMHfFPq"
      },
      "execution_count": null,
      "outputs": []
    },
    {
      "cell_type": "code",
      "source": [
        "cosine_similarity(tfidf_matrix[0], tfidf_matrix[1])"
      ],
      "metadata": {
        "colab": {
          "base_uri": "https://localhost:8080/"
        },
        "id": "bh-b94nWmOol",
        "outputId": "2ffbbd9e-cd72-4eb6-8777-c2dfcd9f5fe5"
      },
      "execution_count": 30,
      "outputs": [
        {
          "output_type": "execute_result",
          "data": {
            "text/plain": [
              "array([[0.42743295]])"
            ]
          },
          "metadata": {},
          "execution_count": 30
        }
      ]
    },
    {
      "cell_type": "code",
      "source": [
        "cosine_similarity(tfidf_matrix[0], tfidf_matrix[2])"
      ],
      "metadata": {
        "colab": {
          "base_uri": "https://localhost:8080/"
        },
        "id": "pm50NXarmcgc",
        "outputId": "84e621e7-83a3-42d6-f258-8accb2ea976a"
      },
      "execution_count": 91,
      "outputs": [
        {
          "output_type": "execute_result",
          "data": {
            "text/plain": [
              "array([[0.7289748]])"
            ]
          },
          "metadata": {},
          "execution_count": 91
        }
      ]
    },
    {
      "cell_type": "code",
      "source": [
        "cosine_similarity(tfidf_matrix[0], tfidf_matrix[3])"
      ],
      "metadata": {
        "colab": {
          "base_uri": "https://localhost:8080/"
        },
        "id": "SXOot5uwnf0B",
        "outputId": "50ae8a22-5e7d-422c-9bb0-e15434fc734d"
      },
      "execution_count": 92,
      "outputs": [
        {
          "output_type": "execute_result",
          "data": {
            "text/plain": [
              "array([[0.57941731]])"
            ]
          },
          "metadata": {},
          "execution_count": 92
        }
      ]
    },
    {
      "cell_type": "code",
      "source": [
        "cosine_similarity(tfidf_matrix[0], tfidf_matrix[4])"
      ],
      "metadata": {
        "colab": {
          "base_uri": "https://localhost:8080/"
        },
        "id": "cLUSms3TPwwt",
        "outputId": "a2841c1a-1c04-438f-e4d4-209a61750a34"
      },
      "execution_count": 31,
      "outputs": [
        {
          "output_type": "execute_result",
          "data": {
            "text/plain": [
              "array([[0.]])"
            ]
          },
          "metadata": {},
          "execution_count": 31
        }
      ]
    },
    {
      "cell_type": "code",
      "source": [
        "nlp(sentences[0]).similarity(nlp(sentences[1]))"
      ],
      "metadata": {
        "colab": {
          "base_uri": "https://localhost:8080/"
        },
        "id": "bLIel0Ckm-jD",
        "outputId": "b8a1bc1e-9a6a-4235-a63c-24ceb658e244"
      },
      "execution_count": null,
      "outputs": [
        {
          "output_type": "execute_result",
          "data": {
            "text/plain": [
              "0.6559949871590907"
            ]
          },
          "metadata": {},
          "execution_count": 37
        }
      ]
    },
    {
      "cell_type": "code",
      "source": [
        "nlp(sentences[2]).similarity(nlp(sentences[3]))"
      ],
      "metadata": {
        "colab": {
          "base_uri": "https://localhost:8080/"
        },
        "id": "6svdPrTwnNH3",
        "outputId": "0705f7db-38e5-493a-caac-12a8580030c4"
      },
      "execution_count": null,
      "outputs": [
        {
          "output_type": "execute_result",
          "data": {
            "text/plain": [
              "0.9999999729939644"
            ]
          },
          "metadata": {},
          "execution_count": 38
        }
      ]
    },
    {
      "cell_type": "code",
      "source": [
        "example_sentences = [\"President Obama visited Beijing last week\", \"The first African-American US President arrived at Peking a few days ago\",\n",
        "             \"Hamilton beats Button and wins the game\", \"Button beats Hamilton and wins the game\"]"
      ],
      "metadata": {
        "id": "q9t1u-3hnSC-"
      },
      "execution_count": null,
      "outputs": []
    },
    {
      "cell_type": "code",
      "source": [
        "Jaccard(example_sentences[0], example_sentences[1], True)"
      ],
      "metadata": {
        "id": "hqki0ePDoeO4"
      },
      "execution_count": null,
      "outputs": []
    },
    {
      "cell_type": "code",
      "source": [
        "Jaccard(example_sentences[2], example_sentences[3], True)"
      ],
      "metadata": {
        "id": "AWb_bSHRoeJa"
      },
      "execution_count": null,
      "outputs": []
    },
    {
      "cell_type": "code",
      "source": [],
      "metadata": {
        "id": "vhWB8ICRoeD-"
      },
      "execution_count": null,
      "outputs": []
    }
  ]
}