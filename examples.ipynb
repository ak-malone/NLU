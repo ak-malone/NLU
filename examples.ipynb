{
  "nbformat": 4,
  "nbformat_minor": 0,
  "metadata": {
    "colab": {
      "provenance": [],
      "authorship_tag": "ABX9TyOV2kdu7r0q+4ouL6A9nV2J"
    },
    "kernelspec": {
      "name": "python3",
      "display_name": "Python 3"
    },
    "language_info": {
      "name": "python"
    }
  },
  "cells": [
    {
      "cell_type": "code",
      "execution_count": 1,
      "metadata": {
        "id": "yZiTIYb0i0zP"
      },
      "outputs": [],
      "source": [
        "import pandas as pd\n",
        "import numpy as np\n",
        "\n",
        "from sklearn.feature_extraction.text import TfidfVectorizer\n",
        "from sklearn.metrics.pairwise import cosine_similarity\n",
        "\n",
        "import spacy\n",
        "import re"
      ]
    },
    {
      "cell_type": "code",
      "source": [
        "#!python -m spacy download en_core_web_md"
      ],
      "metadata": {
        "id": "IWstVfUgnajV"
      },
      "execution_count": 2,
      "outputs": []
    },
    {
      "cell_type": "code",
      "source": [
        "sentences = [\"President Obama visited Beijing last week\", \"The first African-American US President arrived at Peking a few days ago\",\n",
        "             \"Hamilton beats Button and wins the game\", \"Button beats Hamilton and wins the game\", \"Some women in white perform on a stage.\",\n",
        "             \"Women who look alike are performing on a stage.\"]"
      ],
      "metadata": {
        "id": "WER5hmcqi_-b"
      },
      "execution_count": 80,
      "outputs": []
    },
    {
      "cell_type": "code",
      "source": [
        "ex_sentences = [\"President Obama visited Beijing last week\", \"The first African-American US President arrived at Peking a few days ago\",\n",
        "             \"Hamilton beats Button and wins the game\", \"Button beats Hamilton and wins the game\", \"Some women in white perform on a stage.\",\n",
        "             \"Women who look alike are performing on a stage.\"]"
      ],
      "metadata": {
        "id": "dek-7BiRdx5Z"
      },
      "execution_count": null,
      "outputs": []
    },
    {
      "cell_type": "code",
      "source": [
        "def Jaccard(text1, text2, prints):\n",
        "  intersection = set(text1.split()) & set(text2.split())\n",
        "  union = len(set(text1.split()) | set(text2.split()))\n",
        "  if prints:\n",
        "    print(set(text1.split()))\n",
        "    print(set(text2.split()))\n",
        "    print(\"overlap: \", intersection)\n",
        "    print(\"Total words: \", union)\n",
        "  return(len(intersection)/union)"
      ],
      "metadata": {
        "id": "wx5uqvNBjWDv"
      },
      "execution_count": 81,
      "outputs": []
    },
    {
      "cell_type": "code",
      "source": [
        "Jaccard(sentences[0], sentences[1], True)"
      ],
      "metadata": {
        "colab": {
          "base_uri": "https://localhost:8080/"
        },
        "id": "AWMZWkJ9jcYB",
        "outputId": "321eff7b-040b-472b-b874-aeb3ffddf499"
      },
      "execution_count": 82,
      "outputs": [
        {
          "output_type": "stream",
          "name": "stdout",
          "text": [
            "{'Beijing', 'visited', 'Obama', 'last', 'President', 'week'}\n",
            "{'first', 'US', 'days', 'African-American', 'Peking', 'at', 'few', 'a', 'arrived', 'ago', 'President', 'The'}\n",
            "overlap:  {'President'}\n",
            "Total words:  17\n"
          ]
        },
        {
          "output_type": "execute_result",
          "data": {
            "text/plain": [
              "0.058823529411764705"
            ]
          },
          "metadata": {},
          "execution_count": 82
        }
      ]
    },
    {
      "cell_type": "code",
      "source": [
        "Jaccard(sentences[2], sentences[3], True)"
      ],
      "metadata": {
        "colab": {
          "base_uri": "https://localhost:8080/"
        },
        "id": "k450u_CTjigy",
        "outputId": "7832b4e8-38ec-461c-9229-e0b8cb51c139"
      },
      "execution_count": 83,
      "outputs": [
        {
          "output_type": "stream",
          "name": "stdout",
          "text": [
            "{'Hamilton', 'and', 'beats', 'Button', 'game', 'wins', 'the'}\n",
            "{'Hamilton', 'and', 'beats', 'Button', 'game', 'wins', 'the'}\n",
            "overlap:  {'Hamilton', 'and', 'beats', 'Button', 'game', 'wins', 'the'}\n",
            "Total words:  7\n"
          ]
        },
        {
          "output_type": "execute_result",
          "data": {
            "text/plain": [
              "1.0"
            ]
          },
          "metadata": {},
          "execution_count": 83
        }
      ]
    },
    {
      "cell_type": "code",
      "source": [
        "Jaccard(sentences[4], sentences[5], True)"
      ],
      "metadata": {
        "id": "wSKpL66ofmTL",
        "outputId": "1d6f0f8e-70ee-4b2d-c364-f09ac73140b8",
        "colab": {
          "base_uri": "https://localhost:8080/"
        }
      },
      "execution_count": 84,
      "outputs": [
        {
          "output_type": "stream",
          "name": "stdout",
          "text": [
            "{'on', 'perform', 'a', 'stage.', 'white', 'women', 'Some', 'in'}\n",
            "{'on', 'look', 'are', 'alike', 'Women', 'a', 'stage.', 'performing', 'who'}\n",
            "overlap:  {'on', 'stage.', 'a'}\n",
            "Total words:  14\n"
          ]
        },
        {
          "output_type": "execute_result",
          "data": {
            "text/plain": [
              "0.21428571428571427"
            ]
          },
          "metadata": {},
          "execution_count": 84
        }
      ]
    },
    {
      "cell_type": "code",
      "source": [
        "sentences = [sentence.lower() for sentence in sentences]"
      ],
      "metadata": {
        "id": "5e5i5abDfuMq"
      },
      "execution_count": 85,
      "outputs": []
    },
    {
      "cell_type": "code",
      "source": [
        "sentences = [re.sub(r'[^\\w\\s]',' ',s) for s in sentences]"
      ],
      "metadata": {
        "id": "ZY24I8jcgIQ6"
      },
      "execution_count": 86,
      "outputs": []
    },
    {
      "cell_type": "code",
      "source": [
        "sentences"
      ],
      "metadata": {
        "id": "DU4TZ_gKhr9A",
        "outputId": "5c57e4f9-022d-4619-efa5-a168845daf05",
        "colab": {
          "base_uri": "https://localhost:8080/"
        }
      },
      "execution_count": 87,
      "outputs": [
        {
          "output_type": "execute_result",
          "data": {
            "text/plain": [
              "['president obama visited beijing last week',\n",
              " 'the first african american us president arrived at peking a few days ago',\n",
              " 'hamilton beats button and wins the game',\n",
              " 'button beats hamilton and wins the game',\n",
              " 'some women in white perform on a stage ',\n",
              " 'women who look alike are performing on a stage ']"
            ]
          },
          "metadata": {},
          "execution_count": 87
        }
      ]
    },
    {
      "cell_type": "code",
      "source": [
        "# Load the spaCy model\n",
        "nlp = spacy.load(\"en_core_web_md\")\n",
        "for i in range(len(sentences)):\n",
        "  print(f\"Original sentence: {sentences[i]}\")\n",
        "\n",
        "  # Lemmatize a sentence\n",
        "  doc = nlp(sentences[i])\n",
        "  sentences[i] = \" \".join([word.lemma_ for word in doc])\n",
        "\n",
        "  print(f\"Lemmatized sentence: {sentences[i]}\")\n",
        "  print(\"\")"
      ],
      "metadata": {
        "id": "_MZ5qlvIk0NM",
        "outputId": "c036a8c0-8a24-43f9-86de-138899526e6e",
        "colab": {
          "base_uri": "https://localhost:8080/"
        }
      },
      "execution_count": 88,
      "outputs": [
        {
          "output_type": "stream",
          "name": "stdout",
          "text": [
            "Original sentence: president obama visited beijing last week\n",
            "Lemmatized sentence: president obama visit beijing last week\n",
            "\n",
            "Original sentence: the first african american us president arrived at peking a few days ago\n",
            "Lemmatized sentence: the first african american us president arrive at peke a few day ago\n",
            "\n",
            "Original sentence: hamilton beats button and wins the game\n",
            "Lemmatized sentence: hamilton beats button and win the game\n",
            "\n",
            "Original sentence: button beats hamilton and wins the game\n",
            "Lemmatized sentence: button beat hamilton and win the game\n",
            "\n",
            "Original sentence: some women in white perform on a stage \n",
            "Lemmatized sentence: some woman in white perform on a stage\n",
            "\n",
            "Original sentence: women who look alike are performing on a stage \n",
            "Lemmatized sentence: woman who look alike be perform on a stage\n",
            "\n"
          ]
        }
      ]
    },
    {
      "cell_type": "code",
      "source": [
        "Jaccard(sentences[4], sentences[5], True)"
      ],
      "metadata": {
        "id": "5HKVHA3ClgNQ",
        "outputId": "59140dfc-b10d-4cc6-c8ac-571406efd07c",
        "colab": {
          "base_uri": "https://localhost:8080/"
        }
      },
      "execution_count": 77,
      "outputs": [
        {
          "output_type": "stream",
          "name": "stdout",
          "text": [
            "{'on', 'some', 'perform', 'a', 'white', 'women', 'stage', 'in'}\n",
            "{'on', 'look', 'are', 'alike', 'a', 'stage', 'performing', 'women', 'who'}\n",
            "overlap:  {'on', 'stage', 'a', 'women'}\n",
            "Total words:  13\n"
          ]
        },
        {
          "output_type": "execute_result",
          "data": {
            "text/plain": [
              "0.3076923076923077"
            ]
          },
          "metadata": {},
          "execution_count": 77
        }
      ]
    },
    {
      "cell_type": "code",
      "source": [
        "import nltk\n",
        "from nltk.corpus import stopwords\n",
        "\n",
        "nltk.download('stopwords')\n",
        "print(stopwords.words('english'))"
      ],
      "metadata": {
        "id": "o2SfxytDlgJa",
        "outputId": "683b0204-acb5-49a0-be5f-1d6e666993e8",
        "colab": {
          "base_uri": "https://localhost:8080/"
        }
      },
      "execution_count": 63,
      "outputs": [
        {
          "output_type": "stream",
          "name": "stdout",
          "text": [
            "['i', 'me', 'my', 'myself', 'we', 'our', 'ours', 'ourselves', 'you', \"you're\", \"you've\", \"you'll\", \"you'd\", 'your', 'yours', 'yourself', 'yourselves', 'he', 'him', 'his', 'himself', 'she', \"she's\", 'her', 'hers', 'herself', 'it', \"it's\", 'its', 'itself', 'they', 'them', 'their', 'theirs', 'themselves', 'what', 'which', 'who', 'whom', 'this', 'that', \"that'll\", 'these', 'those', 'am', 'is', 'are', 'was', 'were', 'be', 'been', 'being', 'have', 'has', 'had', 'having', 'do', 'does', 'did', 'doing', 'a', 'an', 'the', 'and', 'but', 'if', 'or', 'because', 'as', 'until', 'while', 'of', 'at', 'by', 'for', 'with', 'about', 'against', 'between', 'into', 'through', 'during', 'before', 'after', 'above', 'below', 'to', 'from', 'up', 'down', 'in', 'out', 'on', 'off', 'over', 'under', 'again', 'further', 'then', 'once', 'here', 'there', 'when', 'where', 'why', 'how', 'all', 'any', 'both', 'each', 'few', 'more', 'most', 'other', 'some', 'such', 'no', 'nor', 'not', 'only', 'own', 'same', 'so', 'than', 'too', 'very', 's', 't', 'can', 'will', 'just', 'don', \"don't\", 'should', \"should've\", 'now', 'd', 'll', 'm', 'o', 're', 've', 'y', 'ain', 'aren', \"aren't\", 'couldn', \"couldn't\", 'didn', \"didn't\", 'doesn', \"doesn't\", 'hadn', \"hadn't\", 'hasn', \"hasn't\", 'haven', \"haven't\", 'isn', \"isn't\", 'ma', 'mightn', \"mightn't\", 'mustn', \"mustn't\", 'needn', \"needn't\", 'shan', \"shan't\", 'shouldn', \"shouldn't\", 'wasn', \"wasn't\", 'weren', \"weren't\", 'won', \"won't\", 'wouldn', \"wouldn't\"]\n"
          ]
        },
        {
          "output_type": "stream",
          "name": "stderr",
          "text": [
            "[nltk_data] Downloading package stopwords to /root/nltk_data...\n",
            "[nltk_data]   Package stopwords is already up-to-date!\n"
          ]
        }
      ]
    },
    {
      "cell_type": "code",
      "source": [
        "from gensim.parsing.preprocessing import remove_stopwords\n",
        "for sentence in sentences:\n",
        "  print(sentence)\n",
        "  print(remove_stopwords(sentence))"
      ],
      "metadata": {
        "id": "6yQKWwPRqTCE",
        "outputId": "94ef573e-b562-485b-8210-0a957c334c96",
        "colab": {
          "base_uri": "https://localhost:8080/"
        }
      },
      "execution_count": 65,
      "outputs": [
        {
          "output_type": "stream",
          "name": "stdout",
          "text": [
            "president obama visit beijing last week\n",
            "president obama visit beijing week\n",
            "the first african american us president arrive at peke a few day ago\n",
            "african american president arrive peke day ago\n",
            "hamilton beats button and win the game\n",
            "hamilton beats button win game\n",
            "button beat hamilton and win the game\n",
            "button beat hamilton win game\n",
            "some woman in white perform on a stage\n",
            "woman white perform stage\n",
            "woman who look alike be perform on a stage\n",
            "woman look alike perform stage\n"
          ]
        }
      ]
    },
    {
      "cell_type": "markdown",
      "source": [],
      "metadata": {
        "id": "bMaCYiYkkz-k"
      }
    },
    {
      "cell_type": "code",
      "source": [
        "vectorizer = TfidfVectorizer()\n",
        "tfidf_matrix = vectorizer.fit_transform(sentences)"
      ],
      "metadata": {
        "id": "eVTjyDYAljPr"
      },
      "execution_count": 26,
      "outputs": []
    },
    {
      "cell_type": "code",
      "source": [
        "tfidf_matrix.todense()"
      ],
      "metadata": {
        "colab": {
          "base_uri": "https://localhost:8080/"
        },
        "id": "Rp9BiSNvlns9",
        "outputId": "ea9ecc7f-395d-484d-d96f-e37d779b51ae"
      },
      "execution_count": 27,
      "outputs": [
        {
          "output_type": "execute_result",
          "data": {
            "text/plain": [
              "matrix([[0.        , 0.        , 0.        , 0.        , 0.        ,\n",
              "         0.        , 0.        , 0.        , 0.        , 0.        ,\n",
              "         0.4198708 , 0.        , 0.        , 0.        , 0.        ,\n",
              "         0.        , 0.        , 0.        , 0.4198708 , 0.        ,\n",
              "         0.4198708 , 0.        , 0.        , 0.        , 0.34430007,\n",
              "         0.        , 0.        , 0.        , 0.        , 0.4198708 ,\n",
              "         0.4198708 , 0.        , 0.        , 0.        , 0.        ],\n",
              "        [0.29945328, 0.29945328, 0.        , 0.29945328, 0.        ,\n",
              "         0.29945328, 0.29945328, 0.        , 0.        , 0.        ,\n",
              "         0.        , 0.        , 0.29945328, 0.29945328, 0.29945328,\n",
              "         0.        , 0.        , 0.        , 0.        , 0.        ,\n",
              "         0.        , 0.        , 0.29945328, 0.        , 0.24555597,\n",
              "         0.        , 0.        , 0.20731522, 0.29945328, 0.        ,\n",
              "         0.        , 0.        , 0.        , 0.        , 0.        ],\n",
              "        [0.        , 0.        , 0.        , 0.        , 0.37267935,\n",
              "         0.        , 0.        , 0.        , 0.        , 0.45447908,\n",
              "         0.        , 0.37267935, 0.        , 0.        , 0.        ,\n",
              "         0.37267935, 0.37267935, 0.        , 0.        , 0.        ,\n",
              "         0.        , 0.        , 0.        , 0.        , 0.        ,\n",
              "         0.        , 0.        , 0.31464151, 0.        , 0.        ,\n",
              "         0.        , 0.        , 0.        , 0.37267935, 0.        ],\n",
              "        [0.        , 0.        , 0.        , 0.        , 0.37267935,\n",
              "         0.        , 0.        , 0.        , 0.45447908, 0.        ,\n",
              "         0.        , 0.37267935, 0.        , 0.        , 0.        ,\n",
              "         0.37267935, 0.37267935, 0.        , 0.        , 0.        ,\n",
              "         0.        , 0.        , 0.        , 0.        , 0.        ,\n",
              "         0.        , 0.        , 0.31464151, 0.        , 0.        ,\n",
              "         0.        , 0.        , 0.        , 0.37267935, 0.        ],\n",
              "        [0.        , 0.        , 0.        , 0.        , 0.        ,\n",
              "         0.        , 0.        , 0.        , 0.        , 0.        ,\n",
              "         0.        , 0.        , 0.        , 0.        , 0.        ,\n",
              "         0.        , 0.        , 0.41923309, 0.        , 0.        ,\n",
              "         0.        , 0.34377713, 0.        , 0.34377713, 0.        ,\n",
              "         0.41923309, 0.34377713, 0.        , 0.        , 0.        ,\n",
              "         0.        , 0.41923309, 0.        , 0.        , 0.34377713],\n",
              "        [0.        , 0.        , 0.38663118, 0.        , 0.        ,\n",
              "         0.        , 0.        , 0.38663118, 0.        , 0.        ,\n",
              "         0.        , 0.        , 0.        , 0.        , 0.        ,\n",
              "         0.        , 0.        , 0.        , 0.        , 0.38663118,\n",
              "         0.        , 0.3170431 , 0.        , 0.3170431 , 0.        ,\n",
              "         0.        , 0.3170431 , 0.        , 0.        , 0.        ,\n",
              "         0.        , 0.        , 0.38663118, 0.        , 0.3170431 ]])"
            ]
          },
          "metadata": {},
          "execution_count": 27
        }
      ]
    },
    {
      "cell_type": "markdown",
      "source": [
        "# New section"
      ],
      "metadata": {
        "id": "I-prD9UFtOWY"
      }
    },
    {
      "cell_type": "code",
      "source": [
        "cosine_similarity(tfidf_matrix[0], tfidf_matrix[1])"
      ],
      "metadata": {
        "colab": {
          "base_uri": "https://localhost:8080/"
        },
        "id": "bh-b94nWmOol",
        "outputId": "bdda4c1f-90c7-44b3-912f-ab1fb85a470c"
      },
      "execution_count": null,
      "outputs": [
        {
          "output_type": "execute_result",
          "data": {
            "text/plain": [
              "array([[0.07894199]])"
            ]
          },
          "metadata": {},
          "execution_count": 48
        }
      ]
    },
    {
      "cell_type": "code",
      "source": [
        "cosine_similarity(tfidf_matrix[2], tfidf_matrix[3])"
      ],
      "metadata": {
        "colab": {
          "base_uri": "https://localhost:8080/"
        },
        "id": "pm50NXarmcgc",
        "outputId": "c4541c63-c095-462f-fe96-febe2bebb093"
      },
      "execution_count": null,
      "outputs": [
        {
          "output_type": "execute_result",
          "data": {
            "text/plain": [
              "array([[1.]])"
            ]
          },
          "metadata": {},
          "execution_count": 49
        }
      ]
    },
    {
      "cell_type": "code",
      "source": [
        "# Load the model with word embeddings\n",
        "nlp = spacy.load('en_core_web_md')"
      ],
      "metadata": {
        "id": "0Dm5aqvbm7Ex"
      },
      "execution_count": null,
      "outputs": []
    },
    {
      "cell_type": "code",
      "source": [
        "nlp(sentences[0]).similarity(nlp(sentences[1]))"
      ],
      "metadata": {
        "colab": {
          "base_uri": "https://localhost:8080/"
        },
        "id": "bLIel0Ckm-jD",
        "outputId": "b8a1bc1e-9a6a-4235-a63c-24ceb658e244"
      },
      "execution_count": null,
      "outputs": [
        {
          "output_type": "execute_result",
          "data": {
            "text/plain": [
              "0.6559949871590907"
            ]
          },
          "metadata": {},
          "execution_count": 37
        }
      ]
    },
    {
      "cell_type": "code",
      "source": [
        "nlp(sentences[2]).similarity(nlp(sentences[3]))"
      ],
      "metadata": {
        "colab": {
          "base_uri": "https://localhost:8080/"
        },
        "id": "6svdPrTwnNH3",
        "outputId": "0705f7db-38e5-493a-caac-12a8580030c4"
      },
      "execution_count": null,
      "outputs": [
        {
          "output_type": "execute_result",
          "data": {
            "text/plain": [
              "0.9999999729939644"
            ]
          },
          "metadata": {},
          "execution_count": 38
        }
      ]
    },
    {
      "cell_type": "code",
      "source": [],
      "metadata": {
        "id": "q9t1u-3hnSC-"
      },
      "execution_count": null,
      "outputs": []
    }
  ]
}