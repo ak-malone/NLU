{
  "nbformat": 4,
  "nbformat_minor": 0,
  "metadata": {
    "colab": {
      "provenance": [],
      "authorship_tag": "ABX9TyOPma5a5mKh1ecRPigFVUu1"
    },
    "kernelspec": {
      "name": "python3",
      "display_name": "Python 3"
    },
    "language_info": {
      "name": "python"
    }
  },
  "cells": [
    {
      "cell_type": "code",
      "execution_count": 1,
      "metadata": {
        "id": "yZiTIYb0i0zP"
      },
      "outputs": [],
      "source": [
        "import pandas as pd\n",
        "import numpy as np\n",
        "import seaborn as sns\n",
        "\n",
        "import re\n",
        "import spacy\n",
        "from gensim.parsing.preprocessing import remove_stopwords\n",
        "\n",
        "from sklearn.feature_extraction.text import CountVectorizer\n",
        "from sklearn.metrics.pairwise import cosine_similarity\n",
        "from sklearn.feature_extraction.text import TfidfVectorizer\n",
        "\n",
        "from sklearn.decomposition import PCA\n",
        "import matplotlib.pyplot as plt"
      ]
    },
    {
      "cell_type": "code",
      "source": [
        "!python -m spacy download en_core_web_md"
      ],
      "metadata": {
        "id": "IWstVfUgnajV",
        "colab": {
          "base_uri": "https://localhost:8080/"
        },
        "outputId": "23cec211-1b3a-4b5b-b0bc-6d8c1c4d77fa"
      },
      "execution_count": 2,
      "outputs": [
        {
          "output_type": "stream",
          "name": "stdout",
          "text": [
            "Collecting en-core-web-md==3.7.1\n",
            "  Using cached https://github.com/explosion/spacy-models/releases/download/en_core_web_md-3.7.1/en_core_web_md-3.7.1-py3-none-any.whl (42.8 MB)\n",
            "Requirement already satisfied: spacy<3.8.0,>=3.7.2 in /usr/local/lib/python3.10/dist-packages (from en-core-web-md==3.7.1) (3.7.6)\n",
            "Requirement already satisfied: spacy-legacy<3.1.0,>=3.0.11 in /usr/local/lib/python3.10/dist-packages (from spacy<3.8.0,>=3.7.2->en-core-web-md==3.7.1) (3.0.12)\n",
            "Requirement already satisfied: spacy-loggers<2.0.0,>=1.0.0 in /usr/local/lib/python3.10/dist-packages (from spacy<3.8.0,>=3.7.2->en-core-web-md==3.7.1) (1.0.5)\n",
            "Requirement already satisfied: murmurhash<1.1.0,>=0.28.0 in /usr/local/lib/python3.10/dist-packages (from spacy<3.8.0,>=3.7.2->en-core-web-md==3.7.1) (1.0.10)\n",
            "Requirement already satisfied: cymem<2.1.0,>=2.0.2 in /usr/local/lib/python3.10/dist-packages (from spacy<3.8.0,>=3.7.2->en-core-web-md==3.7.1) (2.0.8)\n",
            "Requirement already satisfied: preshed<3.1.0,>=3.0.2 in /usr/local/lib/python3.10/dist-packages (from spacy<3.8.0,>=3.7.2->en-core-web-md==3.7.1) (3.0.9)\n",
            "Requirement already satisfied: thinc<8.3.0,>=8.2.2 in /usr/local/lib/python3.10/dist-packages (from spacy<3.8.0,>=3.7.2->en-core-web-md==3.7.1) (8.2.5)\n",
            "Requirement already satisfied: wasabi<1.2.0,>=0.9.1 in /usr/local/lib/python3.10/dist-packages (from spacy<3.8.0,>=3.7.2->en-core-web-md==3.7.1) (1.1.3)\n",
            "Requirement already satisfied: srsly<3.0.0,>=2.4.3 in /usr/local/lib/python3.10/dist-packages (from spacy<3.8.0,>=3.7.2->en-core-web-md==3.7.1) (2.4.8)\n",
            "Requirement already satisfied: catalogue<2.1.0,>=2.0.6 in /usr/local/lib/python3.10/dist-packages (from spacy<3.8.0,>=3.7.2->en-core-web-md==3.7.1) (2.0.10)\n",
            "Requirement already satisfied: weasel<0.5.0,>=0.1.0 in /usr/local/lib/python3.10/dist-packages (from spacy<3.8.0,>=3.7.2->en-core-web-md==3.7.1) (0.4.1)\n",
            "Requirement already satisfied: typer<1.0.0,>=0.3.0 in /usr/local/lib/python3.10/dist-packages (from spacy<3.8.0,>=3.7.2->en-core-web-md==3.7.1) (0.12.5)\n",
            "Requirement already satisfied: tqdm<5.0.0,>=4.38.0 in /usr/local/lib/python3.10/dist-packages (from spacy<3.8.0,>=3.7.2->en-core-web-md==3.7.1) (4.66.5)\n",
            "Requirement already satisfied: requests<3.0.0,>=2.13.0 in /usr/local/lib/python3.10/dist-packages (from spacy<3.8.0,>=3.7.2->en-core-web-md==3.7.1) (2.32.3)\n",
            "Requirement already satisfied: pydantic!=1.8,!=1.8.1,<3.0.0,>=1.7.4 in /usr/local/lib/python3.10/dist-packages (from spacy<3.8.0,>=3.7.2->en-core-web-md==3.7.1) (2.9.1)\n",
            "Requirement already satisfied: jinja2 in /usr/local/lib/python3.10/dist-packages (from spacy<3.8.0,>=3.7.2->en-core-web-md==3.7.1) (3.1.4)\n",
            "Requirement already satisfied: setuptools in /usr/local/lib/python3.10/dist-packages (from spacy<3.8.0,>=3.7.2->en-core-web-md==3.7.1) (71.0.4)\n",
            "Requirement already satisfied: packaging>=20.0 in /usr/local/lib/python3.10/dist-packages (from spacy<3.8.0,>=3.7.2->en-core-web-md==3.7.1) (24.1)\n",
            "Requirement already satisfied: langcodes<4.0.0,>=3.2.0 in /usr/local/lib/python3.10/dist-packages (from spacy<3.8.0,>=3.7.2->en-core-web-md==3.7.1) (3.4.0)\n",
            "Requirement already satisfied: numpy>=1.19.0 in /usr/local/lib/python3.10/dist-packages (from spacy<3.8.0,>=3.7.2->en-core-web-md==3.7.1) (1.26.4)\n",
            "Requirement already satisfied: language-data>=1.2 in /usr/local/lib/python3.10/dist-packages (from langcodes<4.0.0,>=3.2.0->spacy<3.8.0,>=3.7.2->en-core-web-md==3.7.1) (1.2.0)\n",
            "Requirement already satisfied: annotated-types>=0.6.0 in /usr/local/lib/python3.10/dist-packages (from pydantic!=1.8,!=1.8.1,<3.0.0,>=1.7.4->spacy<3.8.0,>=3.7.2->en-core-web-md==3.7.1) (0.7.0)\n",
            "Requirement already satisfied: pydantic-core==2.23.3 in /usr/local/lib/python3.10/dist-packages (from pydantic!=1.8,!=1.8.1,<3.0.0,>=1.7.4->spacy<3.8.0,>=3.7.2->en-core-web-md==3.7.1) (2.23.3)\n",
            "Requirement already satisfied: typing-extensions>=4.6.1 in /usr/local/lib/python3.10/dist-packages (from pydantic!=1.8,!=1.8.1,<3.0.0,>=1.7.4->spacy<3.8.0,>=3.7.2->en-core-web-md==3.7.1) (4.12.2)\n",
            "Requirement already satisfied: charset-normalizer<4,>=2 in /usr/local/lib/python3.10/dist-packages (from requests<3.0.0,>=2.13.0->spacy<3.8.0,>=3.7.2->en-core-web-md==3.7.1) (3.3.2)\n",
            "Requirement already satisfied: idna<4,>=2.5 in /usr/local/lib/python3.10/dist-packages (from requests<3.0.0,>=2.13.0->spacy<3.8.0,>=3.7.2->en-core-web-md==3.7.1) (3.8)\n",
            "Requirement already satisfied: urllib3<3,>=1.21.1 in /usr/local/lib/python3.10/dist-packages (from requests<3.0.0,>=2.13.0->spacy<3.8.0,>=3.7.2->en-core-web-md==3.7.1) (2.0.7)\n",
            "Requirement already satisfied: certifi>=2017.4.17 in /usr/local/lib/python3.10/dist-packages (from requests<3.0.0,>=2.13.0->spacy<3.8.0,>=3.7.2->en-core-web-md==3.7.1) (2024.8.30)\n",
            "Requirement already satisfied: blis<0.8.0,>=0.7.8 in /usr/local/lib/python3.10/dist-packages (from thinc<8.3.0,>=8.2.2->spacy<3.8.0,>=3.7.2->en-core-web-md==3.7.1) (0.7.11)\n",
            "Requirement already satisfied: confection<1.0.0,>=0.0.1 in /usr/local/lib/python3.10/dist-packages (from thinc<8.3.0,>=8.2.2->spacy<3.8.0,>=3.7.2->en-core-web-md==3.7.1) (0.1.5)\n",
            "Requirement already satisfied: click>=8.0.0 in /usr/local/lib/python3.10/dist-packages (from typer<1.0.0,>=0.3.0->spacy<3.8.0,>=3.7.2->en-core-web-md==3.7.1) (8.1.7)\n",
            "Requirement already satisfied: shellingham>=1.3.0 in /usr/local/lib/python3.10/dist-packages (from typer<1.0.0,>=0.3.0->spacy<3.8.0,>=3.7.2->en-core-web-md==3.7.1) (1.5.4)\n",
            "Requirement already satisfied: rich>=10.11.0 in /usr/local/lib/python3.10/dist-packages (from typer<1.0.0,>=0.3.0->spacy<3.8.0,>=3.7.2->en-core-web-md==3.7.1) (13.8.1)\n",
            "Requirement already satisfied: cloudpathlib<1.0.0,>=0.7.0 in /usr/local/lib/python3.10/dist-packages (from weasel<0.5.0,>=0.1.0->spacy<3.8.0,>=3.7.2->en-core-web-md==3.7.1) (0.19.0)\n",
            "Requirement already satisfied: smart-open<8.0.0,>=5.2.1 in /usr/local/lib/python3.10/dist-packages (from weasel<0.5.0,>=0.1.0->spacy<3.8.0,>=3.7.2->en-core-web-md==3.7.1) (7.0.4)\n",
            "Requirement already satisfied: MarkupSafe>=2.0 in /usr/local/lib/python3.10/dist-packages (from jinja2->spacy<3.8.0,>=3.7.2->en-core-web-md==3.7.1) (2.1.5)\n",
            "Requirement already satisfied: marisa-trie>=0.7.7 in /usr/local/lib/python3.10/dist-packages (from language-data>=1.2->langcodes<4.0.0,>=3.2.0->spacy<3.8.0,>=3.7.2->en-core-web-md==3.7.1) (1.2.0)\n",
            "Requirement already satisfied: markdown-it-py>=2.2.0 in /usr/local/lib/python3.10/dist-packages (from rich>=10.11.0->typer<1.0.0,>=0.3.0->spacy<3.8.0,>=3.7.2->en-core-web-md==3.7.1) (3.0.0)\n",
            "Requirement already satisfied: pygments<3.0.0,>=2.13.0 in /usr/local/lib/python3.10/dist-packages (from rich>=10.11.0->typer<1.0.0,>=0.3.0->spacy<3.8.0,>=3.7.2->en-core-web-md==3.7.1) (2.16.1)\n",
            "Requirement already satisfied: wrapt in /usr/local/lib/python3.10/dist-packages (from smart-open<8.0.0,>=5.2.1->weasel<0.5.0,>=0.1.0->spacy<3.8.0,>=3.7.2->en-core-web-md==3.7.1) (1.16.0)\n",
            "Requirement already satisfied: mdurl~=0.1 in /usr/local/lib/python3.10/dist-packages (from markdown-it-py>=2.2.0->rich>=10.11.0->typer<1.0.0,>=0.3.0->spacy<3.8.0,>=3.7.2->en-core-web-md==3.7.1) (0.1.2)\n",
            "\u001b[38;5;2m✔ Download and installation successful\u001b[0m\n",
            "You can now load the package via spacy.load('en_core_web_md')\n",
            "\u001b[38;5;3m⚠ Restart to reload dependencies\u001b[0m\n",
            "If you are in a Jupyter or Colab notebook, you may need to restart Python in\n",
            "order to load all the package's dependencies. You can do this by selecting the\n",
            "'Restart kernel' or 'Restart runtime' option.\n"
          ]
        }
      ]
    },
    {
      "cell_type": "code",
      "source": [
        "pictures = pd.read_json(\"hf://datasets/embedding-data/flickr30k_captions_quintets/flickr30k_captions.jsonl.gz\", lines=True)"
      ],
      "metadata": {
        "colab": {
          "base_uri": "https://localhost:8080/"
        },
        "id": "uIkubck3qULA",
        "outputId": "e73a052a-98a9-4eac-b834-95b31702dff3"
      },
      "execution_count": 3,
      "outputs": [
        {
          "output_type": "stream",
          "name": "stderr",
          "text": [
            "/usr/local/lib/python3.10/dist-packages/huggingface_hub/utils/_token.py:89: UserWarning: \n",
            "The secret `HF_TOKEN` does not exist in your Colab secrets.\n",
            "To authenticate with the Hugging Face Hub, create a token in your settings tab (https://huggingface.co/settings/tokens), set it as secret in your Google Colab and restart your session.\n",
            "You will be able to reuse this secret in all of your notebooks.\n",
            "Please note that authentication is recommended but still optional to access public models or datasets.\n",
            "  warnings.warn(\n"
          ]
        }
      ]
    },
    {
      "cell_type": "code",
      "source": [
        "pic11013 = pictures.iloc[11013]['set']\n",
        "pic11013"
      ],
      "metadata": {
        "colab": {
          "base_uri": "https://localhost:8080/"
        },
        "id": "z_jgIw05Yv9i",
        "outputId": "52e32c15-0d4e-422b-aa3d-b6982fb76515"
      },
      "execution_count": 4,
      "outputs": [
        {
          "output_type": "execute_result",
          "data": {
            "text/plain": [
              "['Some women in white perform on a stage.',\n",
              " 'Women who look alike are performing on a stage.',\n",
              " 'Women participate in a skit on stage.',\n",
              " 'A group of women are performing on stage.',\n",
              " 'People in a dance']"
            ]
          },
          "metadata": {},
          "execution_count": 4
        }
      ]
    },
    {
      "cell_type": "markdown",
      "source": [
        "# Section 2.1: Jaccard Similarity\n"
      ],
      "metadata": {
        "id": "TXnxuwBIzk5g"
      }
    },
    {
      "cell_type": "code",
      "source": [
        "def Jaccard(text1, text2, prints=False):\n",
        "  intersection = set(text1.split()) & set(text2.split())\n",
        "  union = len(set(text1.split()) | set(text2.split()))\n",
        "  if prints:\n",
        "    print(set(text1.split()))\n",
        "    print(set(text2.split()))\n",
        "    print(\"overlap: \", intersection)\n",
        "    print(\"Total words: \", union)\n",
        "  return(len(intersection)/union)"
      ],
      "metadata": {
        "id": "wx5uqvNBjWDv"
      },
      "execution_count": 5,
      "outputs": []
    },
    {
      "cell_type": "code",
      "source": [
        "Jaccard(pic11013[0], pic11013[1], True)"
      ],
      "metadata": {
        "colab": {
          "base_uri": "https://localhost:8080/"
        },
        "id": "wSKpL66ofmTL",
        "outputId": "e40534cd-63f1-46b5-bc5a-86761a2649d7"
      },
      "execution_count": 6,
      "outputs": [
        {
          "output_type": "stream",
          "name": "stdout",
          "text": [
            "{'a', 'on', 'women', 'Some', 'white', 'perform', 'stage.', 'in'}\n",
            "{'a', 'on', 'Women', 'stage.', 'are', 'who', 'look', 'alike', 'performing'}\n",
            "overlap:  {'a', 'stage.', 'on'}\n",
            "Total words:  14\n"
          ]
        },
        {
          "output_type": "execute_result",
          "data": {
            "text/plain": [
              "0.21428571428571427"
            ]
          },
          "metadata": {},
          "execution_count": 6
        }
      ]
    },
    {
      "cell_type": "markdown",
      "source": [
        "# Section 2.2: Processing"
      ],
      "metadata": {
        "id": "BUnz49f-0BRP"
      }
    },
    {
      "cell_type": "code",
      "source": [
        "nlp = spacy.load(\"en_core_web_md\")\n",
        "from gensim.parsing.preprocessing import remove_stopwords\n",
        "\n",
        "def process(sentences, prints=True):\n",
        "  sentences1 = [sentence.lower() for sentence in sentences]\n",
        "  sentences2 = [re.sub(r'[^\\w\\s]',' ',s) for s in sentences1]\n",
        "  sentences3 = [\" \".join([word.lemma_ for word in nlp(s)]) for s in sentences2]\n",
        "  sentences4 = [remove_stopwords(sentence) for sentence in sentences3]\n",
        "  print(\"Original: \")\n",
        "  print(sentences)\n",
        "  if prints:\n",
        "    print(\"After case normalisation: \")\n",
        "    print(sentences1)\n",
        "    print(\"After punctuation removal: \")\n",
        "    print(sentences2)\n",
        "    print(\"After lemmatization: \")\n",
        "    print(sentences3)\n",
        "    print(\"After stopword removal: \")\n",
        "  else:\n",
        "    print(\"Processed\")\n",
        "  print(sentences4)\n",
        "  return sentences4\n"
      ],
      "metadata": {
        "id": "WTX46YzOaasx"
      },
      "execution_count": 7,
      "outputs": []
    },
    {
      "cell_type": "code",
      "source": [
        "processed_pic11013 = process(pic11013)"
      ],
      "metadata": {
        "colab": {
          "base_uri": "https://localhost:8080/"
        },
        "id": "5e5i5abDfuMq",
        "outputId": "9d81131e-50e0-4572-8b12-95147e8c8941"
      },
      "execution_count": 8,
      "outputs": [
        {
          "output_type": "stream",
          "name": "stdout",
          "text": [
            "Original: \n",
            "['Some women in white perform on a stage.', 'Women who look alike are performing on a stage.', 'Women participate in a skit on stage.', 'A group of women are performing on stage.', 'People in a dance']\n",
            "After case normalisation: \n",
            "['some women in white perform on a stage.', 'women who look alike are performing on a stage.', 'women participate in a skit on stage.', 'a group of women are performing on stage.', 'people in a dance']\n",
            "After punctuation removal: \n",
            "['some women in white perform on a stage ', 'women who look alike are performing on a stage ', 'women participate in a skit on stage ', 'a group of women are performing on stage ', 'people in a dance']\n",
            "After lemmatization: \n",
            "['some woman in white perform on a stage', 'woman who look alike be perform on a stage', 'woman participate in a skit on stage', 'a group of woman be perform on stage', 'people in a dance']\n",
            "After stopword removal: \n",
            "['woman white perform stage', 'woman look alike perform stage', 'woman participate skit stage', 'group woman perform stage', 'people dance']\n"
          ]
        }
      ]
    },
    {
      "cell_type": "code",
      "source": [
        "Jaccard(processed_pic11013[0], processed_pic11013[1], True)"
      ],
      "metadata": {
        "colab": {
          "base_uri": "https://localhost:8080/"
        },
        "id": "7f96jFESPQKm",
        "outputId": "37588fd5-de60-4be4-88fa-fa42c54e6a4f"
      },
      "execution_count": 9,
      "outputs": [
        {
          "output_type": "stream",
          "name": "stdout",
          "text": [
            "{'perform', 'woman', 'stage', 'white'}\n",
            "{'perform', 'alike', 'look', 'stage', 'woman'}\n",
            "overlap:  {'perform', 'woman', 'stage'}\n",
            "Total words:  6\n"
          ]
        },
        {
          "output_type": "execute_result",
          "data": {
            "text/plain": [
              "0.5"
            ]
          },
          "metadata": {},
          "execution_count": 9
        }
      ]
    },
    {
      "cell_type": "markdown",
      "source": [
        "# Section 2.3: Term Document Matrix (Count Vectorizer)"
      ],
      "metadata": {
        "id": "I84GhMTY0FbW"
      }
    },
    {
      "cell_type": "code",
      "source": [
        "from sklearn.feature_extraction.text import CountVectorizer\n",
        "count_vectorizer = CountVectorizer()\n",
        "X = count_vectorizer.fit_transform(processed_pic11013[:4])\n",
        "print(count_vectorizer.get_feature_names_out())\n",
        "print(X.toarray())"
      ],
      "metadata": {
        "colab": {
          "base_uri": "https://localhost:8080/"
        },
        "id": "s7LF00mhgB9F",
        "outputId": "3d6ba43b-e847-4cd3-cc46-a8faef8777f7"
      },
      "execution_count": 10,
      "outputs": [
        {
          "output_type": "stream",
          "name": "stdout",
          "text": [
            "['alike' 'group' 'look' 'participate' 'perform' 'skit' 'stage' 'white'\n",
            " 'woman']\n",
            "[[0 0 0 0 1 0 1 1 1]\n",
            " [1 0 1 0 1 0 1 0 1]\n",
            " [0 0 0 1 0 1 1 0 1]\n",
            " [0 1 0 0 1 0 1 0 1]]\n"
          ]
        }
      ]
    },
    {
      "cell_type": "markdown",
      "source": [
        "# Section 2.4: Cosine Similarity"
      ],
      "metadata": {
        "id": "6JX1cqYG0yyH"
      }
    },
    {
      "cell_type": "code",
      "source": [
        "cosine_similarity(X)"
      ],
      "metadata": {
        "colab": {
          "base_uri": "https://localhost:8080/"
        },
        "id": "lkKOYhd9qrAr",
        "outputId": "a7ea5f33-bd09-4d0b-9724-d30f70625006"
      },
      "execution_count": 11,
      "outputs": [
        {
          "output_type": "execute_result",
          "data": {
            "text/plain": [
              "array([[1.        , 0.67082039, 0.5       , 0.75      ],\n",
              "       [0.67082039, 1.        , 0.4472136 , 0.67082039],\n",
              "       [0.5       , 0.4472136 , 1.        , 0.5       ],\n",
              "       [0.75      , 0.67082039, 0.5       , 1.        ]])"
            ]
          },
          "metadata": {},
          "execution_count": 11
        }
      ]
    },
    {
      "cell_type": "code",
      "source": [
        "cv = CountVectorizer()\n",
        "X2 = cv.fit_transform(processed_pic11013)\n",
        "cv.get_feature_names_out()"
      ],
      "metadata": {
        "colab": {
          "base_uri": "https://localhost:8080/"
        },
        "id": "XTMQwy7Orh1U",
        "outputId": "9d7a3d1c-8ca9-429c-e0d3-9a77e7e8a532"
      },
      "execution_count": 12,
      "outputs": [
        {
          "output_type": "execute_result",
          "data": {
            "text/plain": [
              "array(['alike', 'dance', 'group', 'look', 'participate', 'people',\n",
              "       'perform', 'skit', 'stage', 'white', 'woman'], dtype=object)"
            ]
          },
          "metadata": {},
          "execution_count": 12
        }
      ]
    },
    {
      "cell_type": "markdown",
      "source": [
        "# Section 2.5: TF-IDF"
      ],
      "metadata": {
        "id": "0QPzH0E5vL2Q"
      }
    },
    {
      "cell_type": "code",
      "source": [
        "for n in range(1,5):\n",
        "  print(f\"If df_t = {n}, idf_t = log(N/df_t)+1 = np.log(4/{n})+1 =\",\n",
        "        np.log(4/n)+1)"
      ],
      "metadata": {
        "colab": {
          "base_uri": "https://localhost:8080/"
        },
        "id": "S_HwdC4NoGHb",
        "outputId": "a66ac8b9-674f-4147-accb-5cce3dc8dad3"
      },
      "execution_count": 13,
      "outputs": [
        {
          "output_type": "stream",
          "name": "stdout",
          "text": [
            "If df_t = 1, idf_t = log(N/df_t)+1 = np.log(4/1)+1 = 2.386294361119891\n",
            "If df_t = 2, idf_t = log(N/df_t)+1 = np.log(4/2)+1 = 1.6931471805599454\n",
            "If df_t = 3, idf_t = log(N/df_t)+1 = np.log(4/3)+1 = 1.2876820724517808\n",
            "If df_t = 4, idf_t = log(N/df_t)+1 = np.log(4/4)+1 = 1.0\n"
          ]
        }
      ]
    },
    {
      "cell_type": "code",
      "source": [
        "sum(X.todense())"
      ],
      "metadata": {
        "colab": {
          "base_uri": "https://localhost:8080/"
        },
        "id": "GbmTq98IYoKc",
        "outputId": "5f9da66c-8819-439f-d87f-9fb313518a07"
      },
      "execution_count": 14,
      "outputs": [
        {
          "output_type": "execute_result",
          "data": {
            "text/plain": [
              "matrix([[1, 1, 1, 1, 3, 1, 4, 1, 4]])"
            ]
          },
          "metadata": {},
          "execution_count": 14
        }
      ]
    },
    {
      "cell_type": "code",
      "source": [
        "vectorizer = TfidfVectorizer(smooth_idf=False, norm=None)\n",
        "tfidf_matrix = vectorizer.fit_transform(processed_pic11013[:4])"
      ],
      "metadata": {
        "id": "eVTjyDYAljPr"
      },
      "execution_count": 15,
      "outputs": []
    },
    {
      "cell_type": "code",
      "source": [
        "dictionary = vectorizer.get_feature_names_out()\n",
        "dictionary"
      ],
      "metadata": {
        "colab": {
          "base_uri": "https://localhost:8080/"
        },
        "id": "fcfLly5ubeQk",
        "outputId": "3015a6dd-d92a-4f0f-aa51-4e6635e965ff"
      },
      "execution_count": 16,
      "outputs": [
        {
          "output_type": "execute_result",
          "data": {
            "text/plain": [
              "array(['alike', 'group', 'look', 'participate', 'perform', 'skit',\n",
              "       'stage', 'white', 'woman'], dtype=object)"
            ]
          },
          "metadata": {},
          "execution_count": 16
        }
      ]
    },
    {
      "cell_type": "code",
      "source": [
        "vectorizer.idf_"
      ],
      "metadata": {
        "colab": {
          "base_uri": "https://localhost:8080/"
        },
        "id": "2h4ruWxZYuxE",
        "outputId": "037319ac-e37a-4bee-eeea-e50561a9ef3e"
      },
      "execution_count": 17,
      "outputs": [
        {
          "output_type": "execute_result",
          "data": {
            "text/plain": [
              "array([2.38629436, 2.38629436, 2.38629436, 2.38629436, 1.28768207,\n",
              "       2.38629436, 1.        , 2.38629436, 1.        ])"
            ]
          },
          "metadata": {},
          "execution_count": 17
        }
      ]
    },
    {
      "cell_type": "code",
      "source": [
        "tfidf_matrix.todense()"
      ],
      "metadata": {
        "colab": {
          "base_uri": "https://localhost:8080/"
        },
        "id": "Rp9BiSNvlns9",
        "outputId": "53a28394-8679-4160-fddd-ed746ab2bb39"
      },
      "execution_count": 18,
      "outputs": [
        {
          "output_type": "execute_result",
          "data": {
            "text/plain": [
              "matrix([[0.        , 0.        , 0.        , 0.        , 1.28768207,\n",
              "         0.        , 1.        , 2.38629436, 1.        ],\n",
              "        [2.38629436, 0.        , 2.38629436, 0.        , 1.28768207,\n",
              "         0.        , 1.        , 0.        , 1.        ],\n",
              "        [0.        , 0.        , 0.        , 2.38629436, 0.        ,\n",
              "         2.38629436, 1.        , 0.        , 1.        ],\n",
              "        [0.        , 2.38629436, 0.        , 0.        , 1.28768207,\n",
              "         0.        , 1.        , 0.        , 1.        ]])"
            ]
          },
          "metadata": {},
          "execution_count": 18
        }
      ]
    },
    {
      "cell_type": "code",
      "source": [
        "norm_vectorizer = TfidfVectorizer(smooth_idf=False)\n",
        "norm_tfidf_matrix = norm_vectorizer.fit_transform(processed_pic11013[:4])\n",
        "norm_tfidf_matrix.todense()"
      ],
      "metadata": {
        "colab": {
          "base_uri": "https://localhost:8080/"
        },
        "id": "knMeVEKvrGB3",
        "outputId": "eb640ea1-e2a4-40b8-d748-ced2a6b03da1"
      },
      "execution_count": 19,
      "outputs": [
        {
          "output_type": "execute_result",
          "data": {
            "text/plain": [
              "matrix([[0.        , 0.        , 0.        , 0.        , 0.4210602 ,\n",
              "         0.        , 0.3269908 , 0.78029631, 0.3269908 ],\n",
              "        [0.61517703, 0.        , 0.61517703, 0.        , 0.33195923,\n",
              "         0.        , 0.25779595, 0.        , 0.25779595],\n",
              "        [0.        , 0.        , 0.        , 0.65215851, 0.        ,\n",
              "         0.65215851, 0.2732934 , 0.        , 0.2732934 ],\n",
              "        [0.        , 0.78029631, 0.        , 0.        , 0.4210602 ,\n",
              "         0.        , 0.3269908 , 0.        , 0.3269908 ]])"
            ]
          },
          "metadata": {},
          "execution_count": 19
        }
      ]
    },
    {
      "cell_type": "code",
      "source": [
        "cosine_similarity(tfidf_matrix)"
      ],
      "metadata": {
        "colab": {
          "base_uri": "https://localhost:8080/"
        },
        "id": "Gz64TJo1pd6Q",
        "outputId": "3640c785-ef78-4637-fecb-b94147cacc20"
      },
      "execution_count": 20,
      "outputs": [
        {
          "output_type": "execute_result",
          "data": {
            "text/plain": [
              "array([[1.        , 0.30836863, 0.17872886, 0.39113766],\n",
              "       [0.30836863, 1.        , 0.14090787, 0.30836863],\n",
              "       [0.17872886, 0.14090787, 1.        , 0.17872886],\n",
              "       [0.39113766, 0.30836863, 0.17872886, 1.        ]])"
            ]
          },
          "metadata": {},
          "execution_count": 20
        }
      ]
    },
    {
      "cell_type": "markdown",
      "source": [
        "# Section 2.6: Bag of Words Summary"
      ],
      "metadata": {
        "id": "913u3ALi1VM2"
      }
    },
    {
      "cell_type": "code",
      "source": [
        "example_sentences = [\"President Obama visited Beijing last week\", \"The first African-American US President arrived at Peking a few days ago\",\n",
        "             \"Hamilton beats Button and wins the game\", \"Button beats Hamilton and wins the game\"]"
      ],
      "metadata": {
        "id": "WGZrzpIy1bEQ"
      },
      "execution_count": 21,
      "outputs": []
    },
    {
      "cell_type": "code",
      "source": [
        "Jaccard(example_sentences[0], example_sentences[1], True)"
      ],
      "metadata": {
        "colab": {
          "base_uri": "https://localhost:8080/"
        },
        "id": "X-EzUWAQ1bAm",
        "outputId": "5424a781-28ea-45ba-823f-8761fc198a33"
      },
      "execution_count": 22,
      "outputs": [
        {
          "output_type": "stream",
          "name": "stdout",
          "text": [
            "{'visited', 'President', 'last', 'week', 'Beijing', 'Obama'}\n",
            "{'African-American', 'a', 'first', 'ago', 'Peking', 'few', 'days', 'arrived', 'The', 'US', 'President', 'at'}\n",
            "overlap:  {'President'}\n",
            "Total words:  17\n"
          ]
        },
        {
          "output_type": "execute_result",
          "data": {
            "text/plain": [
              "0.058823529411764705"
            ]
          },
          "metadata": {},
          "execution_count": 22
        }
      ]
    },
    {
      "cell_type": "code",
      "source": [
        "Jaccard(example_sentences[2], example_sentences[3], True)"
      ],
      "metadata": {
        "colab": {
          "base_uri": "https://localhost:8080/"
        },
        "id": "b8NXQGgB1a2_",
        "outputId": "cb2589f9-1fc9-4311-fe0e-899860490422"
      },
      "execution_count": 23,
      "outputs": [
        {
          "output_type": "stream",
          "name": "stdout",
          "text": [
            "{'game', 'Hamilton', 'and', 'the', 'beats', 'wins', 'Button'}\n",
            "{'game', 'Hamilton', 'and', 'the', 'beats', 'wins', 'Button'}\n",
            "overlap:  {'game', 'Button', 'Hamilton', 'and', 'the', 'wins', 'beats'}\n",
            "Total words:  7\n"
          ]
        },
        {
          "output_type": "execute_result",
          "data": {
            "text/plain": [
              "1.0"
            ]
          },
          "metadata": {},
          "execution_count": 23
        }
      ]
    },
    {
      "cell_type": "code",
      "source": [
        "vec = TfidfVectorizer(smooth_idf=False,stop_words=\"english\")\n",
        "tfidf_mat = vec.fit_transform(example_sentences)\n",
        "cosine_similarity(tfidf_mat)"
      ],
      "metadata": {
        "colab": {
          "base_uri": "https://localhost:8080/"
        },
        "id": "qdaxZpPA1mL1",
        "outputId": "fc904a9c-9494-437b-b6d4-8f9b0ec93e17"
      },
      "execution_count": 24,
      "outputs": [
        {
          "output_type": "execute_result",
          "data": {
            "text/plain": [
              "array([[1.        , 0.09302469, 0.        , 0.        ],\n",
              "       [0.09302469, 1.        , 0.        , 0.        ],\n",
              "       [0.        , 0.        , 1.        , 1.        ],\n",
              "       [0.        , 0.        , 1.        , 1.        ]])"
            ]
          },
          "metadata": {},
          "execution_count": 24
        }
      ]
    },
    {
      "cell_type": "markdown",
      "source": [
        "# Section 3.1: Semantic Word Embedding"
      ],
      "metadata": {
        "id": "I-prD9UFtOWY"
      }
    },
    {
      "cell_type": "code",
      "source": [
        "medium_example = pd.DataFrame(np.array([[0.96,0.92,0.08,0.67],[0.98,0.07,0.98,0.71],[0.05,0.90,0.10,0.56],[0.56,0.09,0.91,0.11],[0.95,0.85,0.15,0.42]]),\n",
        "                                       columns=['Royalty', 'Masculinity', 'Femininity', 'Age'], index=['KING', 'QUEEN', 'MAN', 'GIRL', 'PRINCE'])"
      ],
      "metadata": {
        "id": "cmhH4dz8yD7i"
      },
      "execution_count": 25,
      "outputs": []
    },
    {
      "cell_type": "code",
      "source": [
        "medium_example"
      ],
      "metadata": {
        "colab": {
          "base_uri": "https://localhost:8080/",
          "height": 206
        },
        "id": "gcrCyEKCy_b4",
        "outputId": "40cb273f-e685-4e57-b5ac-18af44934ef9"
      },
      "execution_count": 26,
      "outputs": [
        {
          "output_type": "execute_result",
          "data": {
            "text/plain": [
              "        Royalty  Masculinity  Femininity   Age\n",
              "KING       0.96         0.92        0.08  0.67\n",
              "QUEEN      0.98         0.07        0.98  0.71\n",
              "MAN        0.05         0.90        0.10  0.56\n",
              "GIRL       0.56         0.09        0.91  0.11\n",
              "PRINCE     0.95         0.85        0.15  0.42"
            ],
            "text/html": [
              "\n",
              "  <div id=\"df-9790b4a9-de4d-4d56-8c73-7002d7a5d697\" class=\"colab-df-container\">\n",
              "    <div>\n",
              "<style scoped>\n",
              "    .dataframe tbody tr th:only-of-type {\n",
              "        vertical-align: middle;\n",
              "    }\n",
              "\n",
              "    .dataframe tbody tr th {\n",
              "        vertical-align: top;\n",
              "    }\n",
              "\n",
              "    .dataframe thead th {\n",
              "        text-align: right;\n",
              "    }\n",
              "</style>\n",
              "<table border=\"1\" class=\"dataframe\">\n",
              "  <thead>\n",
              "    <tr style=\"text-align: right;\">\n",
              "      <th></th>\n",
              "      <th>Royalty</th>\n",
              "      <th>Masculinity</th>\n",
              "      <th>Femininity</th>\n",
              "      <th>Age</th>\n",
              "    </tr>\n",
              "  </thead>\n",
              "  <tbody>\n",
              "    <tr>\n",
              "      <th>KING</th>\n",
              "      <td>0.96</td>\n",
              "      <td>0.92</td>\n",
              "      <td>0.08</td>\n",
              "      <td>0.67</td>\n",
              "    </tr>\n",
              "    <tr>\n",
              "      <th>QUEEN</th>\n",
              "      <td>0.98</td>\n",
              "      <td>0.07</td>\n",
              "      <td>0.98</td>\n",
              "      <td>0.71</td>\n",
              "    </tr>\n",
              "    <tr>\n",
              "      <th>MAN</th>\n",
              "      <td>0.05</td>\n",
              "      <td>0.90</td>\n",
              "      <td>0.10</td>\n",
              "      <td>0.56</td>\n",
              "    </tr>\n",
              "    <tr>\n",
              "      <th>GIRL</th>\n",
              "      <td>0.56</td>\n",
              "      <td>0.09</td>\n",
              "      <td>0.91</td>\n",
              "      <td>0.11</td>\n",
              "    </tr>\n",
              "    <tr>\n",
              "      <th>PRINCE</th>\n",
              "      <td>0.95</td>\n",
              "      <td>0.85</td>\n",
              "      <td>0.15</td>\n",
              "      <td>0.42</td>\n",
              "    </tr>\n",
              "  </tbody>\n",
              "</table>\n",
              "</div>\n",
              "    <div class=\"colab-df-buttons\">\n",
              "\n",
              "  <div class=\"colab-df-container\">\n",
              "    <button class=\"colab-df-convert\" onclick=\"convertToInteractive('df-9790b4a9-de4d-4d56-8c73-7002d7a5d697')\"\n",
              "            title=\"Convert this dataframe to an interactive table.\"\n",
              "            style=\"display:none;\">\n",
              "\n",
              "  <svg xmlns=\"http://www.w3.org/2000/svg\" height=\"24px\" viewBox=\"0 -960 960 960\">\n",
              "    <path d=\"M120-120v-720h720v720H120Zm60-500h600v-160H180v160Zm220 220h160v-160H400v160Zm0 220h160v-160H400v160ZM180-400h160v-160H180v160Zm440 0h160v-160H620v160ZM180-180h160v-160H180v160Zm440 0h160v-160H620v160Z\"/>\n",
              "  </svg>\n",
              "    </button>\n",
              "\n",
              "  <style>\n",
              "    .colab-df-container {\n",
              "      display:flex;\n",
              "      gap: 12px;\n",
              "    }\n",
              "\n",
              "    .colab-df-convert {\n",
              "      background-color: #E8F0FE;\n",
              "      border: none;\n",
              "      border-radius: 50%;\n",
              "      cursor: pointer;\n",
              "      display: none;\n",
              "      fill: #1967D2;\n",
              "      height: 32px;\n",
              "      padding: 0 0 0 0;\n",
              "      width: 32px;\n",
              "    }\n",
              "\n",
              "    .colab-df-convert:hover {\n",
              "      background-color: #E2EBFA;\n",
              "      box-shadow: 0px 1px 2px rgba(60, 64, 67, 0.3), 0px 1px 3px 1px rgba(60, 64, 67, 0.15);\n",
              "      fill: #174EA6;\n",
              "    }\n",
              "\n",
              "    .colab-df-buttons div {\n",
              "      margin-bottom: 4px;\n",
              "    }\n",
              "\n",
              "    [theme=dark] .colab-df-convert {\n",
              "      background-color: #3B4455;\n",
              "      fill: #D2E3FC;\n",
              "    }\n",
              "\n",
              "    [theme=dark] .colab-df-convert:hover {\n",
              "      background-color: #434B5C;\n",
              "      box-shadow: 0px 1px 3px 1px rgba(0, 0, 0, 0.15);\n",
              "      filter: drop-shadow(0px 1px 2px rgba(0, 0, 0, 0.3));\n",
              "      fill: #FFFFFF;\n",
              "    }\n",
              "  </style>\n",
              "\n",
              "    <script>\n",
              "      const buttonEl =\n",
              "        document.querySelector('#df-9790b4a9-de4d-4d56-8c73-7002d7a5d697 button.colab-df-convert');\n",
              "      buttonEl.style.display =\n",
              "        google.colab.kernel.accessAllowed ? 'block' : 'none';\n",
              "\n",
              "      async function convertToInteractive(key) {\n",
              "        const element = document.querySelector('#df-9790b4a9-de4d-4d56-8c73-7002d7a5d697');\n",
              "        const dataTable =\n",
              "          await google.colab.kernel.invokeFunction('convertToInteractive',\n",
              "                                                    [key], {});\n",
              "        if (!dataTable) return;\n",
              "\n",
              "        const docLinkHtml = 'Like what you see? Visit the ' +\n",
              "          '<a target=\"_blank\" href=https://colab.research.google.com/notebooks/data_table.ipynb>data table notebook</a>'\n",
              "          + ' to learn more about interactive tables.';\n",
              "        element.innerHTML = '';\n",
              "        dataTable['output_type'] = 'display_data';\n",
              "        await google.colab.output.renderOutput(dataTable, element);\n",
              "        const docLink = document.createElement('div');\n",
              "        docLink.innerHTML = docLinkHtml;\n",
              "        element.appendChild(docLink);\n",
              "      }\n",
              "    </script>\n",
              "  </div>\n",
              "\n",
              "\n",
              "<div id=\"df-48925594-9c43-4c77-97d1-bab8d52f67be\">\n",
              "  <button class=\"colab-df-quickchart\" onclick=\"quickchart('df-48925594-9c43-4c77-97d1-bab8d52f67be')\"\n",
              "            title=\"Suggest charts\"\n",
              "            style=\"display:none;\">\n",
              "\n",
              "<svg xmlns=\"http://www.w3.org/2000/svg\" height=\"24px\"viewBox=\"0 0 24 24\"\n",
              "     width=\"24px\">\n",
              "    <g>\n",
              "        <path d=\"M19 3H5c-1.1 0-2 .9-2 2v14c0 1.1.9 2 2 2h14c1.1 0 2-.9 2-2V5c0-1.1-.9-2-2-2zM9 17H7v-7h2v7zm4 0h-2V7h2v10zm4 0h-2v-4h2v4z\"/>\n",
              "    </g>\n",
              "</svg>\n",
              "  </button>\n",
              "\n",
              "<style>\n",
              "  .colab-df-quickchart {\n",
              "      --bg-color: #E8F0FE;\n",
              "      --fill-color: #1967D2;\n",
              "      --hover-bg-color: #E2EBFA;\n",
              "      --hover-fill-color: #174EA6;\n",
              "      --disabled-fill-color: #AAA;\n",
              "      --disabled-bg-color: #DDD;\n",
              "  }\n",
              "\n",
              "  [theme=dark] .colab-df-quickchart {\n",
              "      --bg-color: #3B4455;\n",
              "      --fill-color: #D2E3FC;\n",
              "      --hover-bg-color: #434B5C;\n",
              "      --hover-fill-color: #FFFFFF;\n",
              "      --disabled-bg-color: #3B4455;\n",
              "      --disabled-fill-color: #666;\n",
              "  }\n",
              "\n",
              "  .colab-df-quickchart {\n",
              "    background-color: var(--bg-color);\n",
              "    border: none;\n",
              "    border-radius: 50%;\n",
              "    cursor: pointer;\n",
              "    display: none;\n",
              "    fill: var(--fill-color);\n",
              "    height: 32px;\n",
              "    padding: 0;\n",
              "    width: 32px;\n",
              "  }\n",
              "\n",
              "  .colab-df-quickchart:hover {\n",
              "    background-color: var(--hover-bg-color);\n",
              "    box-shadow: 0 1px 2px rgba(60, 64, 67, 0.3), 0 1px 3px 1px rgba(60, 64, 67, 0.15);\n",
              "    fill: var(--button-hover-fill-color);\n",
              "  }\n",
              "\n",
              "  .colab-df-quickchart-complete:disabled,\n",
              "  .colab-df-quickchart-complete:disabled:hover {\n",
              "    background-color: var(--disabled-bg-color);\n",
              "    fill: var(--disabled-fill-color);\n",
              "    box-shadow: none;\n",
              "  }\n",
              "\n",
              "  .colab-df-spinner {\n",
              "    border: 2px solid var(--fill-color);\n",
              "    border-color: transparent;\n",
              "    border-bottom-color: var(--fill-color);\n",
              "    animation:\n",
              "      spin 1s steps(1) infinite;\n",
              "  }\n",
              "\n",
              "  @keyframes spin {\n",
              "    0% {\n",
              "      border-color: transparent;\n",
              "      border-bottom-color: var(--fill-color);\n",
              "      border-left-color: var(--fill-color);\n",
              "    }\n",
              "    20% {\n",
              "      border-color: transparent;\n",
              "      border-left-color: var(--fill-color);\n",
              "      border-top-color: var(--fill-color);\n",
              "    }\n",
              "    30% {\n",
              "      border-color: transparent;\n",
              "      border-left-color: var(--fill-color);\n",
              "      border-top-color: var(--fill-color);\n",
              "      border-right-color: var(--fill-color);\n",
              "    }\n",
              "    40% {\n",
              "      border-color: transparent;\n",
              "      border-right-color: var(--fill-color);\n",
              "      border-top-color: var(--fill-color);\n",
              "    }\n",
              "    60% {\n",
              "      border-color: transparent;\n",
              "      border-right-color: var(--fill-color);\n",
              "    }\n",
              "    80% {\n",
              "      border-color: transparent;\n",
              "      border-right-color: var(--fill-color);\n",
              "      border-bottom-color: var(--fill-color);\n",
              "    }\n",
              "    90% {\n",
              "      border-color: transparent;\n",
              "      border-bottom-color: var(--fill-color);\n",
              "    }\n",
              "  }\n",
              "</style>\n",
              "\n",
              "  <script>\n",
              "    async function quickchart(key) {\n",
              "      const quickchartButtonEl =\n",
              "        document.querySelector('#' + key + ' button');\n",
              "      quickchartButtonEl.disabled = true;  // To prevent multiple clicks.\n",
              "      quickchartButtonEl.classList.add('colab-df-spinner');\n",
              "      try {\n",
              "        const charts = await google.colab.kernel.invokeFunction(\n",
              "            'suggestCharts', [key], {});\n",
              "      } catch (error) {\n",
              "        console.error('Error during call to suggestCharts:', error);\n",
              "      }\n",
              "      quickchartButtonEl.classList.remove('colab-df-spinner');\n",
              "      quickchartButtonEl.classList.add('colab-df-quickchart-complete');\n",
              "    }\n",
              "    (() => {\n",
              "      let quickchartButtonEl =\n",
              "        document.querySelector('#df-48925594-9c43-4c77-97d1-bab8d52f67be button');\n",
              "      quickchartButtonEl.style.display =\n",
              "        google.colab.kernel.accessAllowed ? 'block' : 'none';\n",
              "    })();\n",
              "  </script>\n",
              "</div>\n",
              "\n",
              "  <div id=\"id_26f28c4d-b2f4-4b80-b212-8f336e1fa520\">\n",
              "    <style>\n",
              "      .colab-df-generate {\n",
              "        background-color: #E8F0FE;\n",
              "        border: none;\n",
              "        border-radius: 50%;\n",
              "        cursor: pointer;\n",
              "        display: none;\n",
              "        fill: #1967D2;\n",
              "        height: 32px;\n",
              "        padding: 0 0 0 0;\n",
              "        width: 32px;\n",
              "      }\n",
              "\n",
              "      .colab-df-generate:hover {\n",
              "        background-color: #E2EBFA;\n",
              "        box-shadow: 0px 1px 2px rgba(60, 64, 67, 0.3), 0px 1px 3px 1px rgba(60, 64, 67, 0.15);\n",
              "        fill: #174EA6;\n",
              "      }\n",
              "\n",
              "      [theme=dark] .colab-df-generate {\n",
              "        background-color: #3B4455;\n",
              "        fill: #D2E3FC;\n",
              "      }\n",
              "\n",
              "      [theme=dark] .colab-df-generate:hover {\n",
              "        background-color: #434B5C;\n",
              "        box-shadow: 0px 1px 3px 1px rgba(0, 0, 0, 0.15);\n",
              "        filter: drop-shadow(0px 1px 2px rgba(0, 0, 0, 0.3));\n",
              "        fill: #FFFFFF;\n",
              "      }\n",
              "    </style>\n",
              "    <button class=\"colab-df-generate\" onclick=\"generateWithVariable('medium_example')\"\n",
              "            title=\"Generate code using this dataframe.\"\n",
              "            style=\"display:none;\">\n",
              "\n",
              "  <svg xmlns=\"http://www.w3.org/2000/svg\" height=\"24px\"viewBox=\"0 0 24 24\"\n",
              "       width=\"24px\">\n",
              "    <path d=\"M7,19H8.4L18.45,9,17,7.55,7,17.6ZM5,21V16.75L18.45,3.32a2,2,0,0,1,2.83,0l1.4,1.43a1.91,1.91,0,0,1,.58,1.4,1.91,1.91,0,0,1-.58,1.4L9.25,21ZM18.45,9,17,7.55Zm-12,3A5.31,5.31,0,0,0,4.9,8.1,5.31,5.31,0,0,0,1,6.5,5.31,5.31,0,0,0,4.9,4.9,5.31,5.31,0,0,0,6.5,1,5.31,5.31,0,0,0,8.1,4.9,5.31,5.31,0,0,0,12,6.5,5.46,5.46,0,0,0,6.5,12Z\"/>\n",
              "  </svg>\n",
              "    </button>\n",
              "    <script>\n",
              "      (() => {\n",
              "      const buttonEl =\n",
              "        document.querySelector('#id_26f28c4d-b2f4-4b80-b212-8f336e1fa520 button.colab-df-generate');\n",
              "      buttonEl.style.display =\n",
              "        google.colab.kernel.accessAllowed ? 'block' : 'none';\n",
              "\n",
              "      buttonEl.onclick = () => {\n",
              "        google.colab.notebook.generateWithVariable('medium_example');\n",
              "      }\n",
              "      })();\n",
              "    </script>\n",
              "  </div>\n",
              "\n",
              "    </div>\n",
              "  </div>\n"
            ],
            "application/vnd.google.colaboratory.intrinsic+json": {
              "type": "dataframe",
              "variable_name": "medium_example",
              "summary": "{\n  \"name\": \"medium_example\",\n  \"rows\": 5,\n  \"fields\": [\n    {\n      \"column\": \"Royalty\",\n      \"properties\": {\n        \"dtype\": \"number\",\n        \"std\": 0.4032988966015156,\n        \"min\": 0.05,\n        \"max\": 0.98,\n        \"num_unique_values\": 5,\n        \"samples\": [\n          0.98,\n          0.95,\n          0.05\n        ],\n        \"semantic_type\": \"\",\n        \"description\": \"\"\n      }\n    },\n    {\n      \"column\": \"Masculinity\",\n      \"properties\": {\n        \"dtype\": \"number\",\n        \"std\": 0.4444434722211589,\n        \"min\": 0.07,\n        \"max\": 0.92,\n        \"num_unique_values\": 5,\n        \"samples\": [\n          0.07,\n          0.85,\n          0.9\n        ],\n        \"semantic_type\": \"\",\n        \"description\": \"\"\n      }\n    },\n    {\n      \"column\": \"Femininity\",\n      \"properties\": {\n        \"dtype\": \"number\",\n        \"std\": 0.4587264980355942,\n        \"min\": 0.08,\n        \"max\": 0.98,\n        \"num_unique_values\": 5,\n        \"samples\": [\n          0.98,\n          0.15,\n          0.1\n        ],\n        \"semantic_type\": \"\",\n        \"description\": \"\"\n      }\n    },\n    {\n      \"column\": \"Age\",\n      \"properties\": {\n        \"dtype\": \"number\",\n        \"std\": 0.24234273250914706,\n        \"min\": 0.11,\n        \"max\": 0.71,\n        \"num_unique_values\": 5,\n        \"samples\": [\n          0.71,\n          0.42,\n          0.56\n        ],\n        \"semantic_type\": \"\",\n        \"description\": \"\"\n      }\n    }\n  ]\n}"
            }
          },
          "metadata": {},
          "execution_count": 26
        }
      ]
    },
    {
      "cell_type": "code",
      "source": [
        "ax1 = medium_example.plot.scatter(x='Royalty', y='Masculinity', figsize=(4,6))\n",
        "for k, v in medium_example[[\"Royalty\", \"Masculinity\"]].iterrows():\n",
        "    ax1.annotate(k, v+0.01)\n",
        "ax1.set_xlim(0,1.2)\n",
        "ax1.set_ylim(0,1)\n",
        "\n",
        "\n",
        "ax2 = medium_example.plot.scatter(x='Femininity', y='Age', figsize=(4,6))\n",
        "for k, v in medium_example[[\"Femininity\", \"Age\"]].iterrows():\n",
        "    ax2.annotate(k, v+0.01)\n",
        "ax2.set_xlim(0,1.2)\n",
        "ax2.set_ylim(0,1)\n"
      ],
      "metadata": {
        "colab": {
          "base_uri": "https://localhost:8080/",
          "height": 1000
        },
        "id": "fpi3dfnW4M2H",
        "outputId": "9e55025c-8343-4729-c250-678d8656bf3f"
      },
      "execution_count": 27,
      "outputs": [
        {
          "output_type": "execute_result",
          "data": {
            "text/plain": [
              "(0.0, 1.0)"
            ]
          },
          "metadata": {},
          "execution_count": 27
        },
        {
          "output_type": "display_data",
          "data": {
            "text/plain": [
              "<Figure size 400x600 with 1 Axes>"
            ],
            "image/png": "[encoded data removed]"
          },
          "metadata": {}
        },
        {
          "output_type": "display_data",
          "data": {
            "text/plain": [
              "<Figure size 400x600 with 1 Axes>"
            ],
            "image/png": "[encoded data removed]"
          },
          "metadata": {}
        }
      ]
    },
    {
      "cell_type": "code",
      "source": [
        "#adapted from lectures\n",
        "def display_pca_scatterplot(words,  model=None, word_vectors=None, adjustment=0.5):\n",
        "\n",
        "    if word_vectors is None:\n",
        "        word_vectors = np.array([model(w).vector for w in words])\n",
        "\n",
        "    twodim = PCA().fit_transform(word_vectors)[:,:2]\n",
        "\n",
        "    plt.figure(figsize=(12,6))\n",
        "    plt.scatter(twodim[:,0], twodim[:,1], edgecolors='k', c='r')\n",
        "    for word, (x,y) in zip(words, twodim):\n",
        "        plt.text(x+adjustment, y+adjustment, word)"
      ],
      "metadata": {
        "id": "YenzRax0IMho"
      },
      "execution_count": 28,
      "outputs": []
    },
    {
      "cell_type": "code",
      "source": [
        "display_pca_scatterplot(medium_example.index, word_vectors=np.array(medium_example), adjustment=0.01)\n",
        "plt.xlim(right=1.0)\n",
        "plt.show()\n"
      ],
      "metadata": {
        "id": "jk3wv5xFIhIV",
        "outputId": "df77343a-4cd8-434a-afd5-8d338d3e9742",
        "colab": {
          "base_uri": "https://localhost:8080/",
          "height": 522
        }
      },
      "execution_count": 29,
      "outputs": [
        {
          "output_type": "display_data",
          "data": {
            "text/plain": [
              "<Figure size 1200x600 with 1 Axes>"
            ],
            "image/png": "[encoded data removed]"
          },
          "metadata": {}
        }
      ]
    },
    {
      "cell_type": "code",
      "source": [
        "#def display_pca_scatterplot(model, words=None, sample=0):\n",
        "#    if words == None:\n",
        "#        if sample > 0:\n",
        "#            words = np.random.choice(list(model.key_to_index), sample)\n",
        "#        else:\n",
        "#            words = [ word for word in model.vocab ]\n",
        "#\n",
        "#    word_vectors = np.array([model(w).vector for w in words])\n",
        "#\n",
        "#    twodim = PCA().fit_transform(word_vectors)[:,:2]\n",
        "#\n",
        "#    plt.scatter(twodim[:,0], twodim[:,1], edgecolors='k', c='r')\n",
        "#    plt.figure(figsize=(12,6))\n",
        "#    for word, (x,y) in zip(words, twodim):\n",
        "#        plt.text(x+0.5, y+0.5, word)"
      ],
      "metadata": {
        "id": "OyGt6Zm4Ocji"
      },
      "execution_count": 30,
      "outputs": []
    },
    {
      "cell_type": "code",
      "source": [
        "cosine_similarity([nlp(\"king\").vector], [nlp(\"girl\").vector])[0][0]"
      ],
      "metadata": {
        "id": "KNyQoTX1KvIZ",
        "outputId": "7e93830e-589f-4cdb-be75-1128d08ab292",
        "colab": {
          "base_uri": "https://localhost:8080/"
        }
      },
      "execution_count": 31,
      "outputs": [
        {
          "output_type": "execute_result",
          "data": {
            "text/plain": [
              "0.22843453"
            ]
          },
          "metadata": {},
          "execution_count": 31
        }
      ]
    },
    {
      "cell_type": "code",
      "source": [
        "nlp(\"king\").similarity(nlp(\"girl\"))"
      ],
      "metadata": {
        "id": "TBbHmeB2Kx8T",
        "outputId": "f5e6bfbb-4521-4399-d15d-9cb754b5b57a",
        "colab": {
          "base_uri": "https://localhost:8080/"
        }
      },
      "execution_count": 32,
      "outputs": [
        {
          "output_type": "execute_result",
          "data": {
            "text/plain": [
              "0.228434522148802"
            ]
          },
          "metadata": {},
          "execution_count": 32
        }
      ]
    },
    {
      "cell_type": "code",
      "source": [
        "display_pca_scatterplot(vec.get_feature_names_out().tolist(), model=nlp)"
      ],
      "metadata": {
        "id": "kN6OrPyFNGH7",
        "outputId": "521b40c8-9622-4519-8081-4ac04c500344",
        "colab": {
          "base_uri": "https://localhost:8080/",
          "height": 522
        }
      },
      "execution_count": 33,
      "outputs": [
        {
          "output_type": "display_data",
          "data": {
            "text/plain": [
              "<Figure size 1200x600 with 1 Axes>"
            ],
            "image/png": "[encoded data removed]"
          },
          "metadata": {}
        }
      ]
    },
    {
      "cell_type": "code",
      "source": [
        "display_pca_scatterplot(dictionary.tolist(), model=nlp)"
      ],
      "metadata": {
        "id": "JO5_3C9qKhis",
        "outputId": "91ea035a-7c49-4185-8cfe-b702d33e31cc",
        "colab": {
          "base_uri": "https://localhost:8080/",
          "height": 522
        }
      },
      "execution_count": 34,
      "outputs": [
        {
          "output_type": "display_data",
          "data": {
            "text/plain": [
              "<Figure size 1200x600 with 1 Axes>"
            ],
            "image/png": "[encoded data removed]"
          },
          "metadata": {}
        }
      ]
    },
    {
      "cell_type": "code",
      "source": [
        "nlp(pic11013[4])"
      ],
      "metadata": {
        "colab": {
          "base_uri": "https://localhost:8080/"
        },
        "id": "ecCoSusyN2DH",
        "outputId": "defecc53-44f4-4174-e8d9-755eb19166c8"
      },
      "execution_count": 35,
      "outputs": [
        {
          "output_type": "execute_result",
          "data": {
            "text/plain": [
              "People in a dance"
            ]
          },
          "metadata": {},
          "execution_count": 35
        }
      ]
    },
    {
      "cell_type": "code",
      "source": [
        "(nlp(pic11013[4]).vector == np.mean([nlp(\"People\").vector,nlp(\"in\").vector,nlp(\"a\").vector,nlp(\"dance\").vector],axis=0)).all()"
      ],
      "metadata": {
        "colab": {
          "base_uri": "https://localhost:8080/"
        },
        "id": "TWnq65fPN1cU",
        "outputId": "4ab2a203-5ebf-4071-8257-850ee05bff70"
      },
      "execution_count": 36,
      "outputs": [
        {
          "output_type": "execute_result",
          "data": {
            "text/plain": [
              "True"
            ]
          },
          "metadata": {},
          "execution_count": 36
        }
      ]
    },
    {
      "cell_type": "code",
      "source": [
        "nlp(pic11013[0]).vector.shape"
      ],
      "metadata": {
        "colab": {
          "base_uri": "https://localhost:8080/"
        },
        "id": "jyXDV7n_MuW6",
        "outputId": "f6902481-09b2-4d2e-b282-d61e70f69b3e"
      },
      "execution_count": 37,
      "outputs": [
        {
          "output_type": "execute_result",
          "data": {
            "text/plain": [
              "(300,)"
            ]
          },
          "metadata": {},
          "execution_count": 37
        }
      ]
    },
    {
      "cell_type": "code",
      "source": [],
      "metadata": {
        "id": "k8C2KwgMFZ2q"
      },
      "execution_count": 37,
      "outputs": []
    },
    {
      "cell_type": "code",
      "source": [],
      "metadata": {
        "id": "ou5lJXtIhfEQ"
      },
      "execution_count": 37,
      "outputs": []
    },
    {
      "cell_type": "code",
      "source": [],
      "metadata": {
        "id": "kE1mcDg52xUq"
      },
      "execution_count": 37,
      "outputs": []
    },
    {
      "cell_type": "markdown",
      "source": [
        "# Part II"
      ],
      "metadata": {
        "id": "h5hAQeCZBnB8"
      }
    },
    {
      "cell_type": "code",
      "source": [
        "pic2 = pictures.iloc[2]['set']\n",
        "pic16 = pictures.iloc[16]['set']\n",
        "pic94 = pictures.iloc[94]['set']\n",
        "pic19521 = pictures.iloc[19521]['set']\n",
        "pic31782 = pictures.iloc[31782]['set']"
      ],
      "metadata": {
        "id": "6lzSMLCaEKZ2"
      },
      "execution_count": 38,
      "outputs": []
    },
    {
      "cell_type": "code",
      "source": [
        "processed_pic2 = process(pic2, prints=False)"
      ],
      "metadata": {
        "id": "pzd22d4pPnR5",
        "outputId": "3c027bb3-2d07-4062-d2b2-a0dad8084c28",
        "colab": {
          "base_uri": "https://localhost:8080/"
        }
      },
      "execution_count": 39,
      "outputs": [
        {
          "output_type": "stream",
          "name": "stdout",
          "text": [
            "Original: \n",
            "['A child in a pink dress is climbing up a set of stairs in an entry way.', 'A girl going into a wooden building.', 'A little girl climbing into a wooden playhouse', 'A little girl in a pink dress going into a wooden cabin.', 'A little girl climbing the stairs to her playhouse.']\n",
            "Processed\n",
            "['child pink dress climb set stair entry way', 'girl wooden building', 'little girl climb wooden playhouse', 'little girl pink dress wooden cabin', 'little girl climb stair playhouse']\n"
          ]
        }
      ]
    },
    {
      "cell_type": "code",
      "source": [
        "processed_pic16 = process(pic16, prints=False)"
      ],
      "metadata": {
        "id": "q8sF2UtDEP6C",
        "outputId": "2ab46608-95e8-468b-bc93-7377008bc21f",
        "colab": {
          "base_uri": "https://localhost:8080/"
        }
      },
      "execution_count": 40,
      "outputs": [
        {
          "output_type": "stream",
          "name": "stdout",
          "text": [
            "Original: \n",
            "['A little girl covered in paint sits in front of a painted rainbow with her hands in a bowl.', 'A little girl is sitting in front of a large painted rainbow.', 'A small girl in the grass plays with fingerpaints in front of a white canvas with a rainbow on it.', 'There is a girl with pigtails sitting in front of a rainbow painting.', 'Young girl with pigtails painting outside in the grass.']\n",
            "Processed\n",
            "['little girl cover paint sit paint rainbow hand bowl', 'little girl sit large paint rainbow', 'small girl grass play fingerpaint white canvas rainbow', 'girl pigtail sit rainbow painting', 'young girl pigtail paint outside grass']\n"
          ]
        }
      ]
    },
    {
      "cell_type": "code",
      "source": [
        "pic_sentence_labels = [n+l for n in ['1','2','3'] for l in ['A','B','C','D','E']]"
      ],
      "metadata": {
        "id": "CrmVbkgdFASA"
      },
      "execution_count": 41,
      "outputs": []
    },
    {
      "cell_type": "code",
      "source": [
        "cv = CountVectorizer()\n",
        "X3 = cv.fit_transform(processed_pic11013+processed_pic2+processed_pic16)\n",
        "cv.get_feature_names_out()"
      ],
      "metadata": {
        "id": "u5nm3xoeFLSq",
        "outputId": "953573ba-23af-46e6-e48c-258c43d05d22",
        "colab": {
          "base_uri": "https://localhost:8080/"
        }
      },
      "execution_count": 42,
      "outputs": [
        {
          "output_type": "execute_result",
          "data": {
            "text/plain": [
              "array(['alike', 'bowl', 'building', 'cabin', 'canvas', 'child', 'climb',\n",
              "       'cover', 'dance', 'dress', 'entry', 'fingerpaint', 'girl', 'grass',\n",
              "       'group', 'hand', 'large', 'little', 'look', 'outside', 'paint',\n",
              "       'painting', 'participate', 'people', 'perform', 'pigtail', 'pink',\n",
              "       'play', 'playhouse', 'rainbow', 'set', 'sit', 'skit', 'small',\n",
              "       'stage', 'stair', 'way', 'white', 'woman', 'wooden', 'young'],\n",
              "      dtype=object)"
            ]
          },
          "metadata": {},
          "execution_count": 42
        }
      ]
    },
    {
      "cell_type": "code",
      "source": [
        "sns.heatmap(cosine_similarity(X3), xticklabels=pic_sentence_labels, yticklabels=pic_sentence_labels)"
      ],
      "metadata": {
        "id": "aiFFxh2wFLOw",
        "outputId": "16c179c2-d54f-46f4-ba1d-c456f58c1303",
        "colab": {
          "base_uri": "https://localhost:8080/",
          "height": 452
        }
      },
      "execution_count": 43,
      "outputs": [
        {
          "output_type": "execute_result",
          "data": {
            "text/plain": [
              "<Axes: >"
            ]
          },
          "metadata": {},
          "execution_count": 43
        },
        {
          "output_type": "display_data",
          "data": {
            "text/plain": [
              "<Figure size 640x480 with 2 Axes>"
            ],
            "image/png": "[encoded data removed]"
          },
          "metadata": {}
        }
      ]
    },
    {
      "cell_type": "code",
      "source": [],
      "metadata": {
        "id": "ewHQk4JoWMM7"
      },
      "execution_count": 43,
      "outputs": []
    },
    {
      "cell_type": "code",
      "source": [
        "from sklearn.cluster import KMeans\n",
        "cls = KMeans(n_clusters=3)\n",
        "cls.fit_predict(X3)\n",
        "\n",
        "# to get cluster labels for the dataset used while\n",
        "# training the model (used for models that do not\n",
        "# support prediction on new dataset).\n",
        "cls.labels_"
      ],
      "metadata": {
        "id": "Kn-dvH8DFLEV",
        "outputId": "750b2055-de48-4d7a-af0d-9a76086d3af5",
        "colab": {
          "base_uri": "https://localhost:8080/"
        }
      },
      "execution_count": 44,
      "outputs": [
        {
          "output_type": "stream",
          "name": "stderr",
          "text": [
            "/usr/local/lib/python3.10/dist-packages/sklearn/cluster/_kmeans.py:1416: FutureWarning: The default value of `n_init` will change from 10 to 'auto' in 1.4. Set the value of `n_init` explicitly to suppress the warning\n",
            "  super()._check_params_vs_input(X, default_n_init=10)\n"
          ]
        },
        {
          "output_type": "execute_result",
          "data": {
            "text/plain": [
              "array([2, 2, 2, 2, 1, 1, 1, 1, 1, 1, 0, 0, 0, 0, 0], dtype=int32)"
            ]
          },
          "metadata": {},
          "execution_count": 44
        }
      ]
    },
    {
      "cell_type": "code",
      "source": [
        "twodim = PCA().fit_transform(X3.toarray())[:,:2]\n",
        "plt.figure(figsize=(12,6))\n",
        "plt.scatter(twodim[:,0], twodim[:,1], c=cls.labels_)\n",
        "for word, (x,y) in zip(pic_sentence_labels, twodim):\n",
        "    plt.text(x+0.01, y+0.01, word)\n",
        "plt.show()"
      ],
      "metadata": {
        "id": "mXCAp9TOFl0V",
        "outputId": "49dd6ee4-49ef-4c94-ad69-08f713e0d247",
        "colab": {
          "base_uri": "https://localhost:8080/",
          "height": 522
        }
      },
      "execution_count": 45,
      "outputs": [
        {
          "output_type": "display_data",
          "data": {
            "text/plain": [
              "<Figure size 1200x600 with 1 Axes>"
            ],
            "image/png": "[encoded data removed]"
          },
          "metadata": {}
        }
      ]
    },
    {
      "cell_type": "code",
      "source": [
        "vectorizer = TfidfVectorizer(smooth_idf=False)\n",
        "tfidf_matrix = vectorizer.fit_transform(processed_pic11013+processed_pic16+processed_pic2)\n",
        "vectorizer.get_feature_names_out()"
      ],
      "metadata": {
        "id": "bEmVp5vgHRvR",
        "outputId": "7b736c43-e64e-4088-b14d-1d2bc92ffb23",
        "colab": {
          "base_uri": "https://localhost:8080/"
        }
      },
      "execution_count": 46,
      "outputs": [
        {
          "output_type": "execute_result",
          "data": {
            "text/plain": [
              "array(['alike', 'bowl', 'building', 'cabin', 'canvas', 'child', 'climb',\n",
              "       'cover', 'dance', 'dress', 'entry', 'fingerpaint', 'girl', 'grass',\n",
              "       'group', 'hand', 'large', 'little', 'look', 'outside', 'paint',\n",
              "       'painting', 'participate', 'people', 'perform', 'pigtail', 'pink',\n",
              "       'play', 'playhouse', 'rainbow', 'set', 'sit', 'skit', 'small',\n",
              "       'stage', 'stair', 'way', 'white', 'woman', 'wooden', 'young'],\n",
              "      dtype=object)"
            ]
          },
          "metadata": {},
          "execution_count": 46
        }
      ]
    },
    {
      "cell_type": "code",
      "source": [
        "vectorizer.idf_"
      ],
      "metadata": {
        "id": "PqNAyxF5HRrp",
        "outputId": "8add5547-4051-4a70-c74c-eab6304ba9ec",
        "colab": {
          "base_uri": "https://localhost:8080/"
        }
      },
      "execution_count": 47,
      "outputs": [
        {
          "output_type": "execute_result",
          "data": {
            "text/plain": [
              "array([3.7080502 , 3.7080502 , 3.7080502 , 3.7080502 , 3.7080502 ,\n",
              "       3.7080502 , 2.60943791, 3.7080502 , 3.7080502 , 3.01490302,\n",
              "       3.7080502 , 3.7080502 , 1.51082562, 3.01490302, 3.7080502 ,\n",
              "       3.7080502 , 3.7080502 , 2.09861229, 3.7080502 , 3.7080502 ,\n",
              "       2.60943791, 3.7080502 , 3.7080502 , 3.7080502 , 2.60943791,\n",
              "       3.01490302, 3.01490302, 3.7080502 , 3.01490302, 2.32175584,\n",
              "       3.7080502 , 2.60943791, 3.7080502 , 3.7080502 , 2.32175584,\n",
              "       3.01490302, 3.7080502 , 3.01490302, 2.32175584, 2.60943791,\n",
              "       3.7080502 ])"
            ]
          },
          "metadata": {},
          "execution_count": 47
        }
      ]
    },
    {
      "cell_type": "code",
      "source": [
        "tfidf_matrix"
      ],
      "metadata": {
        "id": "KueSZfgWHRnL",
        "outputId": "88290f41-daca-4bca-a582-0b503ef3eee2",
        "colab": {
          "base_uri": "https://localhost:8080/"
        }
      },
      "execution_count": 48,
      "outputs": [
        {
          "output_type": "execute_result",
          "data": {
            "text/plain": [
              "<15x41 sparse matrix of type '<class 'numpy.float64'>'\n",
              "\twith 79 stored elements in Compressed Sparse Row format>"
            ]
          },
          "metadata": {},
          "execution_count": 48
        }
      ]
    },
    {
      "cell_type": "code",
      "source": [
        "import seaborn as sns\n",
        "sns.heatmap(cosine_similarity(tfidf_matrix), xticklabels=pic_sentence_labels, yticklabels=pic_sentence_labels )"
      ],
      "metadata": {
        "id": "OnPHsKZlHRf7",
        "outputId": "f6ea4286-3524-4e98-9733-84ae4503df19",
        "colab": {
          "base_uri": "https://localhost:8080/",
          "height": 452
        }
      },
      "execution_count": 49,
      "outputs": [
        {
          "output_type": "execute_result",
          "data": {
            "text/plain": [
              "<Axes: >"
            ]
          },
          "metadata": {},
          "execution_count": 49
        },
        {
          "output_type": "display_data",
          "data": {
            "text/plain": [
              "<Figure size 640x480 with 2 Axes>"
            ],
            "image/png": "[encoded data removed]"
          },
          "metadata": {}
        }
      ]
    },
    {
      "cell_type": "code",
      "source": [
        "cls = KMeans(n_clusters=3)\n",
        "cls.fit_predict(tfidf_matrix)\n",
        "\n",
        "# to get cluster labels for the dataset used while\n",
        "# training the model (used for models that do not\n",
        "# support prediction on new dataset).\n",
        "cls.labels_"
      ],
      "metadata": {
        "id": "RXly_BgpHsaw",
        "outputId": "50b6d9fa-7cf9-446d-f813-906dfc74deb8",
        "colab": {
          "base_uri": "https://localhost:8080/"
        }
      },
      "execution_count": 50,
      "outputs": [
        {
          "output_type": "stream",
          "name": "stderr",
          "text": [
            "/usr/local/lib/python3.10/dist-packages/sklearn/cluster/_kmeans.py:1416: FutureWarning: The default value of `n_init` will change from 10 to 'auto' in 1.4. Set the value of `n_init` explicitly to suppress the warning\n",
            "  super()._check_params_vs_input(X, default_n_init=10)\n"
          ]
        },
        {
          "output_type": "execute_result",
          "data": {
            "text/plain": [
              "array([1, 1, 1, 1, 0, 2, 2, 2, 2, 2, 0, 0, 0, 0, 0], dtype=int32)"
            ]
          },
          "metadata": {},
          "execution_count": 50
        }
      ]
    },
    {
      "cell_type": "code",
      "source": [
        "twodim = PCA().fit_transform(np.array(tfidf_matrix.todense()))[:,:2]\n",
        "plt.figure(figsize=(12,6))\n",
        "plt.scatter(twodim[:,0], twodim[:,1], c=cls.labels_)\n",
        "for word, (x,y) in zip(pic_sentence_labels, twodim):\n",
        "    plt.text(x+0.01, y+0.01, word)\n",
        "plt.show()"
      ],
      "metadata": {
        "id": "tCzV1GMjHsXZ",
        "outputId": "e4d0d702-be3a-4f10-c994-f77b2b4d42ed",
        "colab": {
          "base_uri": "https://localhost:8080/",
          "height": 522
        }
      },
      "execution_count": 51,
      "outputs": [
        {
          "output_type": "display_data",
          "data": {
            "text/plain": [
              "<Figure size 1200x600 with 1 Axes>"
            ],
            "image/png": "[encoded data removed]"
          },
          "metadata": {}
        }
      ]
    },
    {
      "cell_type": "code",
      "source": [],
      "metadata": {
        "id": "PVJqRacsHsUL"
      },
      "execution_count": 51,
      "outputs": []
    },
    {
      "cell_type": "code",
      "source": [],
      "metadata": {
        "id": "0Va8TTzqHsRa"
      },
      "execution_count": 51,
      "outputs": []
    },
    {
      "cell_type": "code",
      "source": [],
      "metadata": {
        "id": "8_0hVJR7HsN0"
      },
      "execution_count": 51,
      "outputs": []
    },
    {
      "cell_type": "code",
      "source": [
        "len(pictures['set'].tolist())"
      ],
      "metadata": {
        "id": "9ArAmt4BCAsK",
        "outputId": "df82b12d-768f-4a22-a3ca-c9d0980929f3",
        "colab": {
          "base_uri": "https://localhost:8080/"
        }
      },
      "execution_count": 52,
      "outputs": [
        {
          "output_type": "execute_result",
          "data": {
            "text/plain": [
              "31783"
            ]
          },
          "metadata": {},
          "execution_count": 52
        }
      ]
    },
    {
      "cell_type": "code",
      "source": [
        "len([caption for captions in pictures['set'] for caption in captions])"
      ],
      "metadata": {
        "id": "hKrWVIorCNvY",
        "outputId": "93f6fa70-2fb1-4825-f18c-1669595f60b5",
        "colab": {
          "base_uri": "https://localhost:8080/"
        }
      },
      "execution_count": 53,
      "outputs": [
        {
          "output_type": "execute_result",
          "data": {
            "text/plain": [
              "158881"
            ]
          },
          "metadata": {},
          "execution_count": 53
        }
      ]
    },
    {
      "cell_type": "code",
      "source": [
        "vectorizer_all = TfidfVectorizer()\n",
        "vectorizer_all.fit([caption for captions in pictures['set'] for caption in captions])\n"
      ],
      "metadata": {
        "id": "GOdR4b8cBjze",
        "outputId": "35c8c243-f0e1-4019-9249-56a1bb24bf21",
        "colab": {
          "base_uri": "https://localhost:8080/",
          "height": 75
        }
      },
      "execution_count": 54,
      "outputs": [
        {
          "output_type": "execute_result",
          "data": {
            "text/plain": [
              "TfidfVectorizer()"
            ],
            "text/html": [
              "<style>#sk-container-id-1 {color: black;}#sk-container-id-1 pre{padding: 0;}#sk-container-id-1 div.sk-toggleable {background-color: white;}#sk-container-id-1 label.sk-toggleable__label {cursor: pointer;display: block;width: 100%;margin-bottom: 0;padding: 0.3em;box-sizing: border-box;text-align: center;}#sk-container-id-1 label.sk-toggleable__label-arrow:before {content: \"▸\";float: left;margin-right: 0.25em;color: #696969;}#sk-container-id-1 label.sk-toggleable__label-arrow:hover:before {color: black;}#sk-container-id-1 div.sk-estimator:hover label.sk-toggleable__label-arrow:before {color: black;}#sk-container-id-1 div.sk-toggleable__content {max-height: 0;max-width: 0;overflow: hidden;text-align: left;background-color: #f0f8ff;}#sk-container-id-1 div.sk-toggleable__content pre {margin: 0.2em;color: black;border-radius: 0.25em;background-color: #f0f8ff;}#sk-container-id-1 input.sk-toggleable__control:checked~div.sk-toggleable__content {max-height: 200px;max-width: 100%;overflow: auto;}#sk-container-id-1 input.sk-toggleable__control:checked~label.sk-toggleable__label-arrow:before {content: \"▾\";}#sk-container-id-1 div.sk-estimator input.sk-toggleable__control:checked~label.sk-toggleable__label {background-color: #d4ebff;}#sk-container-id-1 div.sk-label input.sk-toggleable__control:checked~label.sk-toggleable__label {background-color: #d4ebff;}#sk-container-id-1 input.sk-hidden--visually {border: 0;clip: rect(1px 1px 1px 1px);clip: rect(1px, 1px, 1px, 1px);height: 1px;margin: -1px;overflow: hidden;padding: 0;position: absolute;width: 1px;}#sk-container-id-1 div.sk-estimator {font-family: monospace;background-color: #f0f8ff;border: 1px dotted black;border-radius: 0.25em;box-sizing: border-box;margin-bottom: 0.5em;}#sk-container-id-1 div.sk-estimator:hover {background-color: #d4ebff;}#sk-container-id-1 div.sk-parallel-item::after {content: \"\";width: 100%;border-bottom: 1px solid gray;flex-grow: 1;}#sk-container-id-1 div.sk-label:hover label.sk-toggleable__label {background-color: #d4ebff;}#sk-container-id-1 div.sk-serial::before {content: \"\";position: absolute;border-left: 1px solid gray;box-sizing: border-box;top: 0;bottom: 0;left: 50%;z-index: 0;}#sk-container-id-1 div.sk-serial {display: flex;flex-direction: column;align-items: center;background-color: white;padding-right: 0.2em;padding-left: 0.2em;position: relative;}#sk-container-id-1 div.sk-item {position: relative;z-index: 1;}#sk-container-id-1 div.sk-parallel {display: flex;align-items: stretch;justify-content: center;background-color: white;position: relative;}#sk-container-id-1 div.sk-item::before, #sk-container-id-1 div.sk-parallel-item::before {content: \"\";position: absolute;border-left: 1px solid gray;box-sizing: border-box;top: 0;bottom: 0;left: 50%;z-index: -1;}#sk-container-id-1 div.sk-parallel-item {display: flex;flex-direction: column;z-index: 1;position: relative;background-color: white;}#sk-container-id-1 div.sk-parallel-item:first-child::after {align-self: flex-end;width: 50%;}#sk-container-id-1 div.sk-parallel-item:last-child::after {align-self: flex-start;width: 50%;}#sk-container-id-1 div.sk-parallel-item:only-child::after {width: 0;}#sk-container-id-1 div.sk-dashed-wrapped {border: 1px dashed gray;margin: 0 0.4em 0.5em 0.4em;box-sizing: border-box;padding-bottom: 0.4em;background-color: white;}#sk-container-id-1 div.sk-label label {font-family: monospace;font-weight: bold;display: inline-block;line-height: 1.2em;}#sk-container-id-1 div.sk-label-container {text-align: center;}#sk-container-id-1 div.sk-container {/* jupyter's `normalize.less` sets `[hidden] { display: none; }` but bootstrap.min.css set `[hidden] { display: none !important; }` so we also need the `!important` here to be able to override the default hidden behavior on the sphinx rendered scikit-learn.org. See: https://github.com/scikit-learn/scikit-learn/issues/21755 */display: inline-block !important;position: relative;}#sk-container-id-1 div.sk-text-repr-fallback {display: none;}</style><div id=\"sk-container-id-1\" class=\"sk-top-container\"><div class=\"sk-text-repr-fallback\"><pre>TfidfVectorizer()</pre><b>In a Jupyter environment, please rerun this cell to show the HTML representation or trust the notebook. <br />On GitHub, the HTML representation is unable to render, please try loading this page with nbviewer.org.</b></div><div class=\"sk-container\" hidden><div class=\"sk-item\"><div class=\"sk-estimator sk-toggleable\"><input class=\"sk-toggleable__control sk-hidden--visually\" id=\"sk-estimator-id-1\" type=\"checkbox\" checked><label for=\"sk-estimator-id-1\" class=\"sk-toggleable__label sk-toggleable__label-arrow\">TfidfVectorizer</label><div class=\"sk-toggleable__content\"><pre>TfidfVectorizer()</pre></div></div></div></div></div>"
            ]
          },
          "metadata": {},
          "execution_count": 54
        }
      ]
    },
    {
      "cell_type": "code",
      "source": [
        "tfidf_matrix_all = vectorizer_all.transform(processed_pic11013+processed_pic16+processed_pic2)"
      ],
      "metadata": {
        "id": "Q95kyRZlCO8C"
      },
      "execution_count": 55,
      "outputs": []
    },
    {
      "cell_type": "code",
      "source": [
        "print(tfidf_matrix_all.size/(tfidf_matrix_all.shape[0]*tfidf_matrix_all.shape[1]))\n",
        "tfidf_matrix_all"
      ],
      "metadata": {
        "id": "OQYM_6yirLwp",
        "outputId": "d5e06749-edbb-4042-f9e7-7bc342b43e47",
        "colab": {
          "base_uri": "https://localhost:8080/"
        }
      },
      "execution_count": 56,
      "outputs": [
        {
          "output_type": "stream",
          "name": "stdout",
          "text": [
            "0.0002849002849002849\n"
          ]
        },
        {
          "output_type": "execute_result",
          "data": {
            "text/plain": [
              "<15x18252 sparse matrix of type '<class 'numpy.float64'>'\n",
              "\twith 78 stored elements in Compressed Sparse Row format>"
            ]
          },
          "metadata": {},
          "execution_count": 56
        }
      ]
    },
    {
      "cell_type": "code",
      "source": [],
      "metadata": {
        "id": "8bcrc5mKrQrF"
      },
      "execution_count": 56,
      "outputs": []
    },
    {
      "cell_type": "code",
      "source": [
        "sns.heatmap(cosine_similarity(tfidf_matrix_all), xticklabels=pic_sentence_labels, yticklabels=pic_sentence_labels)"
      ],
      "metadata": {
        "id": "Wx4GBWxKEres",
        "outputId": "52d7a86c-5954-4b39-a399-dfa58e49732d",
        "colab": {
          "base_uri": "https://localhost:8080/",
          "height": 452
        }
      },
      "execution_count": 57,
      "outputs": [
        {
          "output_type": "execute_result",
          "data": {
            "text/plain": [
              "<Axes: >"
            ]
          },
          "metadata": {},
          "execution_count": 57
        },
        {
          "output_type": "display_data",
          "data": {
            "text/plain": [
              "<Figure size 640x480 with 2 Axes>"
            ],
            "image/png": "[encoded data removed]"
          },
          "metadata": {}
        }
      ]
    },
    {
      "cell_type": "code",
      "source": [
        "dictionary"
      ],
      "metadata": {
        "id": "kMbUGbMDD8Va",
        "outputId": "ab313f0c-0ede-432e-d6f7-5edfd776aacc",
        "colab": {
          "base_uri": "https://localhost:8080/"
        }
      },
      "execution_count": 58,
      "outputs": [
        {
          "output_type": "execute_result",
          "data": {
            "text/plain": [
              "array(['alike', 'group', 'look', 'participate', 'perform', 'skit',\n",
              "       'stage', 'white', 'woman'], dtype=object)"
            ]
          },
          "metadata": {},
          "execution_count": 58
        }
      ]
    },
    {
      "cell_type": "code",
      "source": [
        "nlp11013 = []\n",
        "nlp2 = []\n",
        "nlp16 = []\n",
        "nlp31782 = []\n",
        "for i in range(5):\n",
        "  nlp11013.append(nlp(pic11013[i]).vector)\n",
        "  nlp2.append(nlp(pic2[i]).vector)\n",
        "  nlp16.append(nlp(pic16[i]).vector)\n",
        "  nlp31782.append(nlp(pic31782[i]).vector)"
      ],
      "metadata": {
        "id": "OK4JRV0cLfdw"
      },
      "execution_count": 59,
      "outputs": []
    },
    {
      "cell_type": "code",
      "source": [
        "sns.heatmap(cosine_similarity(nlp11013+nlp2+nlp16), xticklabels=pic_sentence_labels,yticklabels=pic_sentence_labels)"
      ],
      "metadata": {
        "id": "AVNdCOvKLfZg",
        "outputId": "3b774f12-4b5e-4bbf-bd7d-ad1ce629ccde",
        "colab": {
          "base_uri": "https://localhost:8080/",
          "height": 452
        }
      },
      "execution_count": 60,
      "outputs": [
        {
          "output_type": "execute_result",
          "data": {
            "text/plain": [
              "<Axes: >"
            ]
          },
          "metadata": {},
          "execution_count": 60
        },
        {
          "output_type": "display_data",
          "data": {
            "text/plain": [
              "<Figure size 640x480 with 2 Axes>"
            ],
            "image/png": "[encoded data removed]"
          },
          "metadata": {}
        }
      ]
    },
    {
      "cell_type": "code",
      "source": [
        "cls = KMeans(n_clusters=3)\n",
        "cls.fit_predict(nlp11013+nlp2+nlp16)\n",
        "\n",
        "# to get cluster labels for the dataset used while\n",
        "# training the model (used for models that do not\n",
        "# support prediction on new dataset).\n",
        "cls.labels_\n",
        "\n",
        "twodim = PCA().fit_transform(nlp11013+nlp2+nlp16)[:,:2]\n",
        "plt.figure(figsize=(12,6))\n",
        "plt.scatter(twodim[:,0], twodim[:,1], c=cls.labels_)\n",
        "for word, (x,y) in zip(pic_sentence_labels, twodim):\n",
        "    plt.text(x+0.02, y+0.01, word)\n",
        "plt.show()"
      ],
      "metadata": {
        "id": "9IZLTxH5LfUd",
        "outputId": "e7a6ce04-cbc0-4d59-e38e-7538b79cd8b2",
        "colab": {
          "base_uri": "https://localhost:8080/",
          "height": 577
        }
      },
      "execution_count": 61,
      "outputs": [
        {
          "output_type": "stream",
          "name": "stderr",
          "text": [
            "/usr/local/lib/python3.10/dist-packages/sklearn/cluster/_kmeans.py:1416: FutureWarning: The default value of `n_init` will change from 10 to 'auto' in 1.4. Set the value of `n_init` explicitly to suppress the warning\n",
            "  super()._check_params_vs_input(X, default_n_init=10)\n"
          ]
        },
        {
          "output_type": "display_data",
          "data": {
            "text/plain": [
              "<Figure size 1200x600 with 1 Axes>"
            ],
            "image/png": "[encoded data removed]"
          },
          "metadata": {}
        }
      ]
    },
    {
      "cell_type": "markdown",
      "source": [
        "new bit"
      ],
      "metadata": {
        "id": "dW3_1V2xxbjG"
      }
    },
    {
      "cell_type": "markdown",
      "source": [
        "part II"
      ],
      "metadata": {
        "id": "9MsacF9axba_"
      }
    },
    {
      "cell_type": "markdown",
      "source": [
        "from pics.ipynb"
      ],
      "metadata": {
        "id": "BTVC3Ha7nSGT"
      }
    },
    {
      "cell_type": "code",
      "source": [
        "pictures = pd.DataFrame(pictures['set'].to_list(), columns=['caption1','caption2', 'caption3','caption4','caption5'])"
      ],
      "metadata": {
        "id": "ZQF6WODGnR0L"
      },
      "execution_count": 67,
      "outputs": []
    },
    {
      "cell_type": "code",
      "source": [
        "pictures.dropna(inplace=True)"
      ],
      "metadata": {
        "id": "vWyFZwbLnRwX"
      },
      "execution_count": 68,
      "outputs": []
    },
    {
      "cell_type": "code",
      "source": [
        "# Select 300 random rows\n",
        "pics = pictures.sample(n=300, random_state=42) #, ignore_index=True)\n",
        "pics"
      ],
      "metadata": {
        "id": "oum9Gbq1nRqp",
        "outputId": "c8156072-ac02-4a75-bc2c-c50bde9faa42",
        "colab": {
          "base_uri": "https://localhost:8080/",
          "height": 597
        }
      },
      "execution_count": 69,
      "outputs": [
        {
          "output_type": "execute_result",
          "data": {
            "text/plain": [
              "                                                caption1  \\\n",
              "4222      A bald man is about to cook some kind of fish.   \n",
              "29122  A woman dressed with a pink jacket and jeans i...   \n",
              "19229              A child looking at desserts with awe.   \n",
              "14111  A group of people are standing around a red fi...   \n",
              "3908       A child runs on a dirt path along the street.   \n",
              "...                                                  ...   \n",
              "20395           A crowd of people listening to a speech.   \n",
              "8866   A man is riding a tall unicycle and juggling p...   \n",
              "10555  A group of women sit on the back of a flatbed ...   \n",
              "21966  Three men and a small crowd of other people wa...   \n",
              "23111  A man in blue, outside on the walkway kneeling...   \n",
              "\n",
              "                                                caption2  \\\n",
              "4222   A bald man is cooking on a stove, throwing a s...   \n",
              "29122  A Spanish looking woman carries a heavy red ba...   \n",
              "19229  A child with blond-hair is looking at a select...   \n",
              "14111  A group of people with a fire engine in the ba...   \n",
              "3908   Little boy in walking shorts and sweater, on t...   \n",
              "...                                                  ...   \n",
              "20395  A large group of people is gathered in front o...   \n",
              "8866   A man in a bright yellow shirt juggles while r...   \n",
              "10555  Several people are sitting on the back of a tr...   \n",
              "21966  Three young men in a crowd watching tennis on ...   \n",
              "23111  A man dressed in blue is playing with a yellow...   \n",
              "\n",
              "                                                caption3  \\\n",
              "4222   Adult white male holding a blue crab over a po...   \n",
              "29122  A woman is walking in front of graffiti-covere...   \n",
              "19229  A little boy with blond-hair stares down at di...   \n",
              "14111  A group of people are standing beside a firetr...   \n",
              "3908               A small boy in an orange hat running.   \n",
              "...                                                  ...   \n",
              "20395  A group of people stand watching something ahead.   \n",
              "8866   Man on a tall unicycle, who is wearing bright ...   \n",
              "10555  a crowd gather together, all looking in the sa...   \n",
              "21966  Three young men are watching a tennis match on...   \n",
              "23111  A man in a blue coat trying to fly a yellow mo...   \n",
              "\n",
              "                                                caption4  \\\n",
              "4222   A Shaved man about to put a blue crab in a boi...   \n",
              "29122  A middle-aged woman is hauling a large red bag...   \n",
              "19229  A little kid is admiring the display in a bake...   \n",
              "14111     A group of people in front of a red firetruck.   \n",
              "3908                      a little boy plays at the zoo.   \n",
              "...                                                  ...   \n",
              "20395  A large group of people are gathered outside o...   \n",
              "8866   A man wearing a yellow shirt riding a unicycle...   \n",
              "10555  People sitting on the roof observing something...   \n",
              "21966  three young men stand behind a net watching a ...   \n",
              "23111  A man in a blue windbreaker is playing with hi...   \n",
              "\n",
              "                                                caption5  \n",
              "4222   A bald man picking up a blue crap with tongs a...  \n",
              "29122  An older woman is carrying a large red sack in...  \n",
              "19229              A kid looking at cookies in a bakery.  \n",
              "14111  A red firetruck is parked beside a group of pe...  \n",
              "3908   A young boy in a red cap catching up with his ...  \n",
              "...                                                  ...  \n",
              "20395  A large group of people are gathered around a ...  \n",
              "8866   A street performer entertains a group of peopl...  \n",
              "10555               Eight people sit on railroad tracks.  \n",
              "21966  Three young men discuss a sports match from th...  \n",
              "23111  A man in jeans and a blue jacket hold a yellow...  \n",
              "\n",
              "[300 rows x 5 columns]"
            ],
            "text/html": [
              "\n",
              "  <div id=\"df-df180247-8a45-475d-b759-5f58fa033d96\" class=\"colab-df-container\">\n",
              "    <div>\n",
              "<style scoped>\n",
              "    .dataframe tbody tr th:only-of-type {\n",
              "        vertical-align: middle;\n",
              "    }\n",
              "\n",
              "    .dataframe tbody tr th {\n",
              "        vertical-align: top;\n",
              "    }\n",
              "\n",
              "    .dataframe thead th {\n",
              "        text-align: right;\n",
              "    }\n",
              "</style>\n",
              "<table border=\"1\" class=\"dataframe\">\n",
              "  <thead>\n",
              "    <tr style=\"text-align: right;\">\n",
              "      <th></th>\n",
              "      <th>caption1</th>\n",
              "      <th>caption2</th>\n",
              "      <th>caption3</th>\n",
              "      <th>caption4</th>\n",
              "      <th>caption5</th>\n",
              "    </tr>\n",
              "  </thead>\n",
              "  <tbody>\n",
              "    <tr>\n",
              "      <th>4222</th>\n",
              "      <td>A bald man is about to cook some kind of fish.</td>\n",
              "      <td>A bald man is cooking on a stove, throwing a s...</td>\n",
              "      <td>Adult white male holding a blue crab over a po...</td>\n",
              "      <td>A Shaved man about to put a blue crab in a boi...</td>\n",
              "      <td>A bald man picking up a blue crap with tongs a...</td>\n",
              "    </tr>\n",
              "    <tr>\n",
              "      <th>29122</th>\n",
              "      <td>A woman dressed with a pink jacket and jeans i...</td>\n",
              "      <td>A Spanish looking woman carries a heavy red ba...</td>\n",
              "      <td>A woman is walking in front of graffiti-covere...</td>\n",
              "      <td>A middle-aged woman is hauling a large red bag...</td>\n",
              "      <td>An older woman is carrying a large red sack in...</td>\n",
              "    </tr>\n",
              "    <tr>\n",
              "      <th>19229</th>\n",
              "      <td>A child looking at desserts with awe.</td>\n",
              "      <td>A child with blond-hair is looking at a select...</td>\n",
              "      <td>A little boy with blond-hair stares down at di...</td>\n",
              "      <td>A little kid is admiring the display in a bake...</td>\n",
              "      <td>A kid looking at cookies in a bakery.</td>\n",
              "    </tr>\n",
              "    <tr>\n",
              "      <th>14111</th>\n",
              "      <td>A group of people are standing around a red fi...</td>\n",
              "      <td>A group of people with a fire engine in the ba...</td>\n",
              "      <td>A group of people are standing beside a firetr...</td>\n",
              "      <td>A group of people in front of a red firetruck.</td>\n",
              "      <td>A red firetruck is parked beside a group of pe...</td>\n",
              "    </tr>\n",
              "    <tr>\n",
              "      <th>3908</th>\n",
              "      <td>A child runs on a dirt path along the street.</td>\n",
              "      <td>Little boy in walking shorts and sweater, on t...</td>\n",
              "      <td>A small boy in an orange hat running.</td>\n",
              "      <td>a little boy plays at the zoo.</td>\n",
              "      <td>A young boy in a red cap catching up with his ...</td>\n",
              "    </tr>\n",
              "    <tr>\n",
              "      <th>...</th>\n",
              "      <td>...</td>\n",
              "      <td>...</td>\n",
              "      <td>...</td>\n",
              "      <td>...</td>\n",
              "      <td>...</td>\n",
              "    </tr>\n",
              "    <tr>\n",
              "      <th>20395</th>\n",
              "      <td>A crowd of people listening to a speech.</td>\n",
              "      <td>A large group of people is gathered in front o...</td>\n",
              "      <td>A group of people stand watching something ahead.</td>\n",
              "      <td>A large group of people are gathered outside o...</td>\n",
              "      <td>A large group of people are gathered around a ...</td>\n",
              "    </tr>\n",
              "    <tr>\n",
              "      <th>8866</th>\n",
              "      <td>A man is riding a tall unicycle and juggling p...</td>\n",
              "      <td>A man in a bright yellow shirt juggles while r...</td>\n",
              "      <td>Man on a tall unicycle, who is wearing bright ...</td>\n",
              "      <td>A man wearing a yellow shirt riding a unicycle...</td>\n",
              "      <td>A street performer entertains a group of peopl...</td>\n",
              "    </tr>\n",
              "    <tr>\n",
              "      <th>10555</th>\n",
              "      <td>A group of women sit on the back of a flatbed ...</td>\n",
              "      <td>Several people are sitting on the back of a tr...</td>\n",
              "      <td>a crowd gather together, all looking in the sa...</td>\n",
              "      <td>People sitting on the roof observing something...</td>\n",
              "      <td>Eight people sit on railroad tracks.</td>\n",
              "    </tr>\n",
              "    <tr>\n",
              "      <th>21966</th>\n",
              "      <td>Three men and a small crowd of other people wa...</td>\n",
              "      <td>Three young men in a crowd watching tennis on ...</td>\n",
              "      <td>Three young men are watching a tennis match on...</td>\n",
              "      <td>three young men stand behind a net watching a ...</td>\n",
              "      <td>Three young men discuss a sports match from th...</td>\n",
              "    </tr>\n",
              "    <tr>\n",
              "      <th>23111</th>\n",
              "      <td>A man in blue, outside on the walkway kneeling...</td>\n",
              "      <td>A man dressed in blue is playing with a yellow...</td>\n",
              "      <td>A man in a blue coat trying to fly a yellow mo...</td>\n",
              "      <td>A man in a blue windbreaker is playing with hi...</td>\n",
              "      <td>A man in jeans and a blue jacket hold a yellow...</td>\n",
              "    </tr>\n",
              "  </tbody>\n",
              "</table>\n",
              "<p>300 rows × 5 columns</p>\n",
              "</div>\n",
              "    <div class=\"colab-df-buttons\">\n",
              "\n",
              "  <div class=\"colab-df-container\">\n",
              "    <button class=\"colab-df-convert\" onclick=\"convertToInteractive('df-df180247-8a45-475d-b759-5f58fa033d96')\"\n",
              "            title=\"Convert this dataframe to an interactive table.\"\n",
              "            style=\"display:none;\">\n",
              "\n",
              "  <svg xmlns=\"http://www.w3.org/2000/svg\" height=\"24px\" viewBox=\"0 -960 960 960\">\n",
              "    <path d=\"M120-120v-720h720v720H120Zm60-500h600v-160H180v160Zm220 220h160v-160H400v160Zm0 220h160v-160H400v160ZM180-400h160v-160H180v160Zm440 0h160v-160H620v160ZM180-180h160v-160H180v160Zm440 0h160v-160H620v160Z\"/>\n",
              "  </svg>\n",
              "    </button>\n",
              "\n",
              "  <style>\n",
              "    .colab-df-container {\n",
              "      display:flex;\n",
              "      gap: 12px;\n",
              "    }\n",
              "\n",
              "    .colab-df-convert {\n",
              "      background-color: #E8F0FE;\n",
              "      border: none;\n",
              "      border-radius: 50%;\n",
              "      cursor: pointer;\n",
              "      display: none;\n",
              "      fill: #1967D2;\n",
              "      height: 32px;\n",
              "      padding: 0 0 0 0;\n",
              "      width: 32px;\n",
              "    }\n",
              "\n",
              "    .colab-df-convert:hover {\n",
              "      background-color: #E2EBFA;\n",
              "      box-shadow: 0px 1px 2px rgba(60, 64, 67, 0.3), 0px 1px 3px 1px rgba(60, 64, 67, 0.15);\n",
              "      fill: #174EA6;\n",
              "    }\n",
              "\n",
              "    .colab-df-buttons div {\n",
              "      margin-bottom: 4px;\n",
              "    }\n",
              "\n",
              "    [theme=dark] .colab-df-convert {\n",
              "      background-color: #3B4455;\n",
              "      fill: #D2E3FC;\n",
              "    }\n",
              "\n",
              "    [theme=dark] .colab-df-convert:hover {\n",
              "      background-color: #434B5C;\n",
              "      box-shadow: 0px 1px 3px 1px rgba(0, 0, 0, 0.15);\n",
              "      filter: drop-shadow(0px 1px 2px rgba(0, 0, 0, 0.3));\n",
              "      fill: #FFFFFF;\n",
              "    }\n",
              "  </style>\n",
              "\n",
              "    <script>\n",
              "      const buttonEl =\n",
              "        document.querySelector('#df-df180247-8a45-475d-b759-5f58fa033d96 button.colab-df-convert');\n",
              "      buttonEl.style.display =\n",
              "        google.colab.kernel.accessAllowed ? 'block' : 'none';\n",
              "\n",
              "      async function convertToInteractive(key) {\n",
              "        const element = document.querySelector('#df-df180247-8a45-475d-b759-5f58fa033d96');\n",
              "        const dataTable =\n",
              "          await google.colab.kernel.invokeFunction('convertToInteractive',\n",
              "                                                    [key], {});\n",
              "        if (!dataTable) return;\n",
              "\n",
              "        const docLinkHtml = 'Like what you see? Visit the ' +\n",
              "          '<a target=\"_blank\" href=https://colab.research.google.com/notebooks/data_table.ipynb>data table notebook</a>'\n",
              "          + ' to learn more about interactive tables.';\n",
              "        element.innerHTML = '';\n",
              "        dataTable['output_type'] = 'display_data';\n",
              "        await google.colab.output.renderOutput(dataTable, element);\n",
              "        const docLink = document.createElement('div');\n",
              "        docLink.innerHTML = docLinkHtml;\n",
              "        element.appendChild(docLink);\n",
              "      }\n",
              "    </script>\n",
              "  </div>\n",
              "\n",
              "\n",
              "<div id=\"df-7080b36d-c294-43b6-ad81-350554556c99\">\n",
              "  <button class=\"colab-df-quickchart\" onclick=\"quickchart('df-7080b36d-c294-43b6-ad81-350554556c99')\"\n",
              "            title=\"Suggest charts\"\n",
              "            style=\"display:none;\">\n",
              "\n",
              "<svg xmlns=\"http://www.w3.org/2000/svg\" height=\"24px\"viewBox=\"0 0 24 24\"\n",
              "     width=\"24px\">\n",
              "    <g>\n",
              "        <path d=\"M19 3H5c-1.1 0-2 .9-2 2v14c0 1.1.9 2 2 2h14c1.1 0 2-.9 2-2V5c0-1.1-.9-2-2-2zM9 17H7v-7h2v7zm4 0h-2V7h2v10zm4 0h-2v-4h2v4z\"/>\n",
              "    </g>\n",
              "</svg>\n",
              "  </button>\n",
              "\n",
              "<style>\n",
              "  .colab-df-quickchart {\n",
              "      --bg-color: #E8F0FE;\n",
              "      --fill-color: #1967D2;\n",
              "      --hover-bg-color: #E2EBFA;\n",
              "      --hover-fill-color: #174EA6;\n",
              "      --disabled-fill-color: #AAA;\n",
              "      --disabled-bg-color: #DDD;\n",
              "  }\n",
              "\n",
              "  [theme=dark] .colab-df-quickchart {\n",
              "      --bg-color: #3B4455;\n",
              "      --fill-color: #D2E3FC;\n",
              "      --hover-bg-color: #434B5C;\n",
              "      --hover-fill-color: #FFFFFF;\n",
              "      --disabled-bg-color: #3B4455;\n",
              "      --disabled-fill-color: #666;\n",
              "  }\n",
              "\n",
              "  .colab-df-quickchart {\n",
              "    background-color: var(--bg-color);\n",
              "    border: none;\n",
              "    border-radius: 50%;\n",
              "    cursor: pointer;\n",
              "    display: none;\n",
              "    fill: var(--fill-color);\n",
              "    height: 32px;\n",
              "    padding: 0;\n",
              "    width: 32px;\n",
              "  }\n",
              "\n",
              "  .colab-df-quickchart:hover {\n",
              "    background-color: var(--hover-bg-color);\n",
              "    box-shadow: 0 1px 2px rgba(60, 64, 67, 0.3), 0 1px 3px 1px rgba(60, 64, 67, 0.15);\n",
              "    fill: var(--button-hover-fill-color);\n",
              "  }\n",
              "\n",
              "  .colab-df-quickchart-complete:disabled,\n",
              "  .colab-df-quickchart-complete:disabled:hover {\n",
              "    background-color: var(--disabled-bg-color);\n",
              "    fill: var(--disabled-fill-color);\n",
              "    box-shadow: none;\n",
              "  }\n",
              "\n",
              "  .colab-df-spinner {\n",
              "    border: 2px solid var(--fill-color);\n",
              "    border-color: transparent;\n",
              "    border-bottom-color: var(--fill-color);\n",
              "    animation:\n",
              "      spin 1s steps(1) infinite;\n",
              "  }\n",
              "\n",
              "  @keyframes spin {\n",
              "    0% {\n",
              "      border-color: transparent;\n",
              "      border-bottom-color: var(--fill-color);\n",
              "      border-left-color: var(--fill-color);\n",
              "    }\n",
              "    20% {\n",
              "      border-color: transparent;\n",
              "      border-left-color: var(--fill-color);\n",
              "      border-top-color: var(--fill-color);\n",
              "    }\n",
              "    30% {\n",
              "      border-color: transparent;\n",
              "      border-left-color: var(--fill-color);\n",
              "      border-top-color: var(--fill-color);\n",
              "      border-right-color: var(--fill-color);\n",
              "    }\n",
              "    40% {\n",
              "      border-color: transparent;\n",
              "      border-right-color: var(--fill-color);\n",
              "      border-top-color: var(--fill-color);\n",
              "    }\n",
              "    60% {\n",
              "      border-color: transparent;\n",
              "      border-right-color: var(--fill-color);\n",
              "    }\n",
              "    80% {\n",
              "      border-color: transparent;\n",
              "      border-right-color: var(--fill-color);\n",
              "      border-bottom-color: var(--fill-color);\n",
              "    }\n",
              "    90% {\n",
              "      border-color: transparent;\n",
              "      border-bottom-color: var(--fill-color);\n",
              "    }\n",
              "  }\n",
              "</style>\n",
              "\n",
              "  <script>\n",
              "    async function quickchart(key) {\n",
              "      const quickchartButtonEl =\n",
              "        document.querySelector('#' + key + ' button');\n",
              "      quickchartButtonEl.disabled = true;  // To prevent multiple clicks.\n",
              "      quickchartButtonEl.classList.add('colab-df-spinner');\n",
              "      try {\n",
              "        const charts = await google.colab.kernel.invokeFunction(\n",
              "            'suggestCharts', [key], {});\n",
              "      } catch (error) {\n",
              "        console.error('Error during call to suggestCharts:', error);\n",
              "      }\n",
              "      quickchartButtonEl.classList.remove('colab-df-spinner');\n",
              "      quickchartButtonEl.classList.add('colab-df-quickchart-complete');\n",
              "    }\n",
              "    (() => {\n",
              "      let quickchartButtonEl =\n",
              "        document.querySelector('#df-7080b36d-c294-43b6-ad81-350554556c99 button');\n",
              "      quickchartButtonEl.style.display =\n",
              "        google.colab.kernel.accessAllowed ? 'block' : 'none';\n",
              "    })();\n",
              "  </script>\n",
              "</div>\n",
              "\n",
              "  <div id=\"id_201dc008-5ad5-4913-9694-0158662fc986\">\n",
              "    <style>\n",
              "      .colab-df-generate {\n",
              "        background-color: #E8F0FE;\n",
              "        border: none;\n",
              "        border-radius: 50%;\n",
              "        cursor: pointer;\n",
              "        display: none;\n",
              "        fill: #1967D2;\n",
              "        height: 32px;\n",
              "        padding: 0 0 0 0;\n",
              "        width: 32px;\n",
              "      }\n",
              "\n",
              "      .colab-df-generate:hover {\n",
              "        background-color: #E2EBFA;\n",
              "        box-shadow: 0px 1px 2px rgba(60, 64, 67, 0.3), 0px 1px 3px 1px rgba(60, 64, 67, 0.15);\n",
              "        fill: #174EA6;\n",
              "      }\n",
              "\n",
              "      [theme=dark] .colab-df-generate {\n",
              "        background-color: #3B4455;\n",
              "        fill: #D2E3FC;\n",
              "      }\n",
              "\n",
              "      [theme=dark] .colab-df-generate:hover {\n",
              "        background-color: #434B5C;\n",
              "        box-shadow: 0px 1px 3px 1px rgba(0, 0, 0, 0.15);\n",
              "        filter: drop-shadow(0px 1px 2px rgba(0, 0, 0, 0.3));\n",
              "        fill: #FFFFFF;\n",
              "      }\n",
              "    </style>\n",
              "    <button class=\"colab-df-generate\" onclick=\"generateWithVariable('pics')\"\n",
              "            title=\"Generate code using this dataframe.\"\n",
              "            style=\"display:none;\">\n",
              "\n",
              "  <svg xmlns=\"http://www.w3.org/2000/svg\" height=\"24px\"viewBox=\"0 0 24 24\"\n",
              "       width=\"24px\">\n",
              "    <path d=\"M7,19H8.4L18.45,9,17,7.55,7,17.6ZM5,21V16.75L18.45,3.32a2,2,0,0,1,2.83,0l1.4,1.43a1.91,1.91,0,0,1,.58,1.4,1.91,1.91,0,0,1-.58,1.4L9.25,21ZM18.45,9,17,7.55Zm-12,3A5.31,5.31,0,0,0,4.9,8.1,5.31,5.31,0,0,0,1,6.5,5.31,5.31,0,0,0,4.9,4.9,5.31,5.31,0,0,0,6.5,1,5.31,5.31,0,0,0,8.1,4.9,5.31,5.31,0,0,0,12,6.5,5.46,5.46,0,0,0,6.5,12Z\"/>\n",
              "  </svg>\n",
              "    </button>\n",
              "    <script>\n",
              "      (() => {\n",
              "      const buttonEl =\n",
              "        document.querySelector('#id_201dc008-5ad5-4913-9694-0158662fc986 button.colab-df-generate');\n",
              "      buttonEl.style.display =\n",
              "        google.colab.kernel.accessAllowed ? 'block' : 'none';\n",
              "\n",
              "      buttonEl.onclick = () => {\n",
              "        google.colab.notebook.generateWithVariable('pics');\n",
              "      }\n",
              "      })();\n",
              "    </script>\n",
              "  </div>\n",
              "\n",
              "    </div>\n",
              "  </div>\n"
            ],
            "application/vnd.google.colaboratory.intrinsic+json": {
              "type": "dataframe",
              "variable_name": "pics",
              "summary": "{\n  \"name\": \"pics\",\n  \"rows\": 300,\n  \"fields\": [\n    {\n      \"column\": \"caption1\",\n      \"properties\": {\n        \"dtype\": \"string\",\n        \"num_unique_values\": 300,\n        \"samples\": [\n          \"A long-haired lady performs in an equestrian event by the sea side.\",\n          \"A family marvels at a newborn baby.\",\n          \"Man with sweaty hair wearing white shirt with skull on it playing guitar.\"\n        ],\n        \"semantic_type\": \"\",\n        \"description\": \"\"\n      }\n    },\n    {\n      \"column\": \"caption2\",\n      \"properties\": {\n        \"dtype\": \"string\",\n        \"num_unique_values\": 300,\n        \"samples\": [\n          \"A jockey rides her pale and mottled horse through some jumps ; one of the obstacles takes the shape of a pair of old-fashioned Coke bottles.\",\n          \"A man and a woman are showing their kid their little baby.\",\n          \"A sweaty man plays guitar.\"\n        ],\n        \"semantic_type\": \"\",\n        \"description\": \"\"\n      }\n    },\n    {\n      \"column\": \"caption3\",\n      \"properties\": {\n        \"dtype\": \"string\",\n        \"num_unique_values\": 300,\n        \"samples\": [\n          \"A woman is riding a horse along the shore.\",\n          \"A woman and two children are looking at a baby.\",\n          \"A man with tattoos playing a guitar.\"\n        ],\n        \"semantic_type\": \"\",\n        \"description\": \"\"\n      }\n    },\n    {\n      \"column\": \"caption4\",\n      \"properties\": {\n        \"dtype\": \"string\",\n        \"num_unique_values\": 300,\n        \"samples\": [\n          \"A woman riding a horse with the ocean in the background.\",\n          \"A mother attentively shows her other two children the new baby.\",\n          \"A perspiring, tattooed man plays a guitar.\"\n        ],\n        \"semantic_type\": \"\",\n        \"description\": \"\"\n      }\n    },\n    {\n      \"column\": \"caption5\",\n      \"properties\": {\n        \"dtype\": \"string\",\n        \"num_unique_values\": 300,\n        \"samples\": [\n          \"A young woman jumping her horse in competition near the ocean.\",\n          \"Women fawning over their newborn child and toddler.\",\n          \"A man is playing a guitar and is sweaty.\"\n        ],\n        \"semantic_type\": \"\",\n        \"description\": \"\"\n      }\n    }\n  ]\n}"
            }
          },
          "metadata": {},
          "execution_count": 69
        }
      ]
    },
    {
      "cell_type": "code",
      "source": [
        "def create_corpus(documents):\n",
        "  corpus = []\n",
        "  for document_set in documents:\n",
        "    words = document_set.str.split()\n",
        "    corpus.extend(words.to_list())\n",
        "\n",
        "  return set([word for document in (corpus) for word in document])"
      ],
      "metadata": {
        "id": "R5O92SLbnuRd"
      },
      "execution_count": 71,
      "outputs": []
    },
    {
      "cell_type": "code",
      "source": [
        "len(create_corpus([pics[\"caption1\"], pics[\"caption2\"], pics[\"caption3\"], pics[\"caption4\"], pics[\"caption5\"]]))"
      ],
      "metadata": {
        "id": "S-rdDGDMnuNc",
        "outputId": "3a6275ac-123e-403c-f683-6945fc7a9fc8",
        "colab": {
          "base_uri": "https://localhost:8080/"
        }
      },
      "execution_count": 72,
      "outputs": [
        {
          "output_type": "execute_result",
          "data": {
            "text/plain": [
              "2923"
            ]
          },
          "metadata": {},
          "execution_count": 72
        }
      ]
    },
    {
      "cell_type": "code",
      "source": [
        "pics[\"caption1_processed\"] = pics.caption1.str.lower()\n",
        "pics[\"caption2_processed\"] = pics.caption2.str.lower()\n",
        "len(create_corpus([pics[\"caption1_processed\"], pics[\"caption2_processed\"]]))"
      ],
      "metadata": {
        "id": "Ieq2GNTHnuJ7",
        "outputId": "bbcf8112-9a0d-4fef-efd3-10cc15d4a00f",
        "colab": {
          "base_uri": "https://localhost:8080/"
        }
      },
      "execution_count": 73,
      "outputs": [
        {
          "output_type": "execute_result",
          "data": {
            "text/plain": [
              "1707"
            ]
          },
          "metadata": {},
          "execution_count": 73
        }
      ]
    },
    {
      "cell_type": "code",
      "source": [
        "pics[\"caption1_processed\"] = pics[\"caption1_processed\"].str.replace(r'[^\\w\\s]+', '', regex=True)\n",
        "pics[\"caption2_processed\"] = pics[\"caption2_processed\"].str.replace(r'[^\\w\\s]+', '', regex=True)\n",
        "len(create_corpus([pics[\"caption1_processed\"], pics[\"caption2_processed\"]]))"
      ],
      "metadata": {
        "id": "8N5W67WJoKF9",
        "outputId": "9c5c9664-96a5-481d-c0f8-9b9d6587cfec",
        "colab": {
          "base_uri": "https://localhost:8080/"
        }
      },
      "execution_count": 74,
      "outputs": [
        {
          "output_type": "execute_result",
          "data": {
            "text/plain": [
              "1436"
            ]
          },
          "metadata": {},
          "execution_count": 74
        }
      ]
    },
    {
      "cell_type": "code",
      "source": [
        "pics[\"caption1_processed\"] = pics[\"caption1_processed\"].apply(lambda s: \" \".join([word.lemma_ for word in nlp(s)]))\n",
        "pics[\"caption2_processed\"] = pics[\"caption2_processed\"].apply(lambda s: \" \".join([word.lemma_ for word in nlp(s)]))\n",
        "len(create_corpus([pics[\"caption1_processed\"], pics[\"caption2_processed\"]]))"
      ],
      "metadata": {
        "id": "onr28bPsoMVy",
        "outputId": "d2190ac4-66e8-480e-91e4-39f495ced6fe",
        "colab": {
          "base_uri": "https://localhost:8080/"
        }
      },
      "execution_count": 75,
      "outputs": [
        {
          "output_type": "execute_result",
          "data": {
            "text/plain": [
              "1223"
            ]
          },
          "metadata": {},
          "execution_count": 75
        }
      ]
    },
    {
      "cell_type": "code",
      "source": [
        "pics[\"caption1_processed\"] = pics[\"caption1_processed\"].apply(lambda s: remove_stopwords(s))\n",
        "pics[\"caption2_processed\"] = pics[\"caption2_processed\"].apply(lambda s: remove_stopwords(s))\n",
        "len(create_corpus([pics[\"caption1_processed\"], pics[\"caption2_processed\"]]))"
      ],
      "metadata": {
        "id": "Gh_kRE-5oNVE",
        "outputId": "a8b207b5-40f2-4f7e-d8b1-455f46881da7",
        "colab": {
          "base_uri": "https://localhost:8080/"
        }
      },
      "execution_count": 76,
      "outputs": [
        {
          "output_type": "execute_result",
          "data": {
            "text/plain": [
              "1100"
            ]
          },
          "metadata": {},
          "execution_count": 76
        }
      ]
    },
    {
      "cell_type": "code",
      "source": [
        "pics[\"caption3_processed\"] = pics.caption3.str.lower().str.replace(r'[^\\w\\s]+', '', regex=True).apply(lambda s: \" \".join([word.lemma_ for word in nlp(s)])).apply(lambda s: remove_stopwords(s))\n",
        "pics[\"caption4_processed\"] = pics.caption4.str.lower().str.replace(r'[^\\w\\s]+', '', regex=True).apply(lambda s: \" \".join([word.lemma_ for word in nlp(s)])).apply(lambda s: remove_stopwords(s))\n",
        "pics[\"caption5_processed\"] = pics.caption5.str.lower().str.replace(r'[^\\w\\s]+', '', regex=True).apply(lambda s: \" \".join([word.lemma_ for word in nlp(s)])).apply(lambda s: remove_stopwords(s))"
      ],
      "metadata": {
        "id": "XlWAwIiXoVfc"
      },
      "execution_count": 77,
      "outputs": []
    },
    {
      "cell_type": "code",
      "source": [
        "pics[\"Jaccard_Similarity\"] = pics.apply(lambda x: Jaccard(x.caption1, x.caption2), axis=1)\n",
        "sim_cols = [\"Jaccard_Similarity\"]"
      ],
      "metadata": {
        "id": "zFAPY8esoPzf"
      },
      "execution_count": 78,
      "outputs": []
    },
    {
      "cell_type": "code",
      "source": [
        "pics[\"Jaccard_Similarity_processed\"] = pics.apply(lambda x: Jaccard(x.caption1_processed, x.caption2_processed), axis=1)\n",
        "sim_cols.append(\"Jaccard_Similarity_processed\")"
      ],
      "metadata": {
        "id": "Hm5Kqm7UoQhl"
      },
      "execution_count": 79,
      "outputs": []
    },
    {
      "cell_type": "code",
      "source": [
        "vectorizer = TfidfVectorizer()\n",
        "tfidf_matrix = vectorizer.fit_transform(pics.caption1.tolist()+pics.caption2.tolist()+pics.caption3.tolist()+pics.caption4.tolist()+pics.caption5.tolist())\n",
        "tfidf_matrix = np.resize(tfidf_matrix.toarray(),(5,300,tfidf_matrix.shape[-1]))\n",
        "for i in range(5):\n",
        "  pics[f\"caption{i+1}_tfidf_sklearn\"] = tfidf_matrix[i].tolist()"
      ],
      "metadata": {
        "id": "DaGBYgg_obDk"
      },
      "execution_count": 80,
      "outputs": []
    },
    {
      "cell_type": "code",
      "source": [
        "pics[\"TfIdf_Similarity_sklearn\"] = pics.apply(lambda x: cosine_similarity([x.caption1_tfidf_sklearn], [x.caption2_tfidf_sklearn])[0][0], axis=1)\n",
        "sim_cols.append(\"TfIdf_Similarity_sklearn\")"
      ],
      "metadata": {
        "id": "Iz9h3IbAsPTR"
      },
      "execution_count": 81,
      "outputs": []
    },
    {
      "cell_type": "code",
      "source": [
        "ppvectorizer = TfidfVectorizer()\n",
        "tfidf_matrix_processed = ppvectorizer.fit_transform(pics.caption1_processed.tolist()+pics.caption2_processed.tolist()+pics.caption3_processed.tolist()+pics.caption4_processed.tolist()+pics.caption5_processed.tolist())\n",
        "tfidf_matrix_processed = np.resize(tfidf_matrix_processed.toarray(),(5,300,tfidf_matrix_processed.shape[-1]))\n",
        "for i in range(5):\n",
        "  pics[f\"caption{i+1}_processed_tfidf_sklearn\"] = tfidf_matrix_processed[i].tolist()"
      ],
      "metadata": {
        "id": "XFwnogwb4uRO"
      },
      "execution_count": 82,
      "outputs": []
    },
    {
      "cell_type": "code",
      "source": [
        "pics[\"TfIdf_Similarity_sklearn_processed\"] = pics.apply(lambda x: cosine_similarity([x.caption1_processed_tfidf_sklearn], [x.caption2_processed_tfidf_sklearn])[0][0], axis=1)\n",
        "sim_cols.append(\"TfIdf_Similarity_sklearn_processed\")"
      ],
      "metadata": {
        "id": "D5OCCZPA4uHE"
      },
      "execution_count": 83,
      "outputs": []
    },
    {
      "cell_type": "code",
      "source": [
        "tfidf_matrix_all = vectorizer_all.transform(pics.caption1.tolist()+pics.caption2.tolist()+pics.caption3.tolist()+pics.caption4.tolist()+pics.caption5.tolist())\n",
        "tfidf_matrix_all = np.resize(tfidf_matrix_all.toarray(),(5,300,tfidf_matrix_all.shape[-1]))\n",
        "for i in range(5):\n",
        "  pics[f\"caption{i+1}_all_tfidf_sklearn\"] = tfidf_matrix_all[i].tolist()"
      ],
      "metadata": {
        "id": "MVpuD5Z14t1E"
      },
      "execution_count": 84,
      "outputs": []
    },
    {
      "cell_type": "code",
      "source": [
        "pics[\"caption1_spacy\"] = pics.apply(lambda x: nlp(x.caption1), axis=1)\n",
        "pics[\"caption2_spacy\"] = pics.apply(lambda x: nlp(x.caption2), axis=1)"
      ],
      "metadata": {
        "id": "LV8AzWiU5Mhk"
      },
      "execution_count": 85,
      "outputs": []
    },
    {
      "cell_type": "code",
      "source": [
        "pics[\"Spacy_Similarity\"] = pics.apply(lambda x: x.caption1_spacy.similarity(x.caption2_spacy), axis=1)\n",
        "sim_cols.append(\"Spacy_Similarity\")"
      ],
      "metadata": {
        "id": "J6FrIfKV5MXp"
      },
      "execution_count": 86,
      "outputs": []
    },
    {
      "cell_type": "code",
      "source": [
        "pics[\"Spacy_Similarity_processed\"] = pics.apply(lambda x: nlp(x.caption1_processed).similarity(nlp(x.caption2_processed)), axis=1)\n",
        "sim_cols.append(\"Spacy_Similarity_processed\")"
      ],
      "metadata": {
        "id": "BCgvZ1NN5MK-"
      },
      "execution_count": 87,
      "outputs": []
    },
    {
      "cell_type": "code",
      "source": [
        "pics.boxplot(column=sim_cols)\n",
        "plt.xticks(rotation=45, ha='right')\n",
        "plt.title(\"Scores given by method\")\n",
        "plt.ylabel(\"Similarity Score\")\n",
        "plt.xlabel(\"Scoring Method\")\n",
        "plt.show()"
      ],
      "metadata": {
        "id": "6TpkO19Q4tsz",
        "outputId": "8537f0c5-5757-4020-a3ff-92db93a6015f",
        "colab": {
          "base_uri": "https://localhost:8080/",
          "height": 637
        }
      },
      "execution_count": 111,
      "outputs": [
        {
          "output_type": "display_data",
          "data": {
            "text/plain": [
              "<Figure size 640x480 with 1 Axes>"
            ],
            "image/png": "[encoded data removed]"
          },
          "metadata": {}
        }
      ]
    },
    {
      "cell_type": "code",
      "source": [
        "def logloss(df,col,sim):\n",
        "  return -sim*sum(np.log(df[col]+0.001))/len(df)-(1-sim)*sum(np.log(1-df[col]+0.001)/len(df))"
      ],
      "metadata": {
        "id": "VrLxOBo25cZc"
      },
      "execution_count": 89,
      "outputs": []
    },
    {
      "cell_type": "code",
      "source": [
        "log_loss = []\n",
        "for col in sim_cols:\n",
        "  log_loss.extend([[col, logloss(pics,col,True)]])\n",
        "lldf = pd.DataFrame(log_loss,columns=[\"Scoring Method\",\"Log Loss\"])\n",
        "print(lldf)"
      ],
      "metadata": {
        "id": "0dW1pdFO5cU9",
        "outputId": "78e98c83-93ec-488d-ea1c-3521905744ac",
        "colab": {
          "base_uri": "https://localhost:8080/"
        }
      },
      "execution_count": 97,
      "outputs": [
        {
          "output_type": "stream",
          "name": "stdout",
          "text": [
            "                       Scoring Method  Log Loss\n",
            "0                  Jaccard_Similarity  2.015858\n",
            "1        Jaccard_Similarity_processed  2.394611\n",
            "2            TfIdf_Similarity_sklearn  2.117084\n",
            "3  TfIdf_Similarity_sklearn_processed  2.222744\n",
            "4                    Spacy_Similarity  0.214195\n",
            "5          Spacy_Similarity_processed  0.356237\n"
          ]
        }
      ]
    },
    {
      "cell_type": "markdown",
      "source": [
        "# Negging"
      ],
      "metadata": {
        "id": "3O6yaSLX_KRS"
      }
    },
    {
      "cell_type": "code",
      "source": [
        "pics.columns"
      ],
      "metadata": {
        "id": "IiAJ5VCh90hU",
        "outputId": "bab310e8-122d-41cd-95ab-1b04bab1af48",
        "colab": {
          "base_uri": "https://localhost:8080/"
        }
      },
      "execution_count": 112,
      "outputs": [
        {
          "output_type": "execute_result",
          "data": {
            "text/plain": [
              "Index(['caption1', 'caption2', 'caption3', 'caption4', 'caption5',\n",
              "       'Jaccard_Similarity', 'caption1_processed', 'caption2_processed',\n",
              "       'caption3_processed', 'caption4_processed', 'caption5_processed',\n",
              "       'Jaccard_Similarity_processed', 'caption1_tfidf_sklearn',\n",
              "       'caption2_tfidf_sklearn', 'caption3_tfidf_sklearn',\n",
              "       'caption4_tfidf_sklearn', 'caption5_tfidf_sklearn',\n",
              "       'TfIdf_Similarity_sklearn', 'caption1_processed_tfidf_sklearn',\n",
              "       'caption2_processed_tfidf_sklearn', 'caption3_processed_tfidf_sklearn',\n",
              "       'caption4_processed_tfidf_sklearn', 'caption5_processed_tfidf_sklearn',\n",
              "       'TfIdf_Similarity_sklearn_processed', 'caption1_all_tfidf_sklearn',\n",
              "       'caption2_all_tfidf_sklearn', 'caption3_all_tfidf_sklearn',\n",
              "       'caption4_all_tfidf_sklearn', 'caption5_all_tfidf_sklearn',\n",
              "       'caption1_spacy', 'caption2_spacy', 'Spacy_Similarity',\n",
              "       'Spacy_Similarity_processed'],\n",
              "      dtype='object')"
            ]
          },
          "metadata": {},
          "execution_count": 112
        }
      ]
    },
    {
      "cell_type": "code",
      "source": [
        "import random\n",
        "random.seed(7)\n",
        "df = pd.DataFrame()\n",
        "pic_nos = pics.index.to_list()\n",
        "random.shuffle(pic_nos)\n",
        "df[\"one\"] = pic_nos\n",
        "random.shuffle(pic_nos)\n",
        "df[\"two\"] = pic_nos\n",
        "df"
      ],
      "metadata": {
        "id": "qkC180Xy90a4",
        "outputId": "4cc23588-c568-4c3a-b52c-5a034b7bab06",
        "colab": {
          "base_uri": "https://localhost:8080/",
          "height": 424
        }
      },
      "execution_count": 131,
      "outputs": [
        {
          "output_type": "execute_result",
          "data": {
            "text/plain": [
              "       one    two\n",
              "0     5777   5805\n",
              "1     6875   6543\n",
              "2     6209  12039\n",
              "3     3908   3050\n",
              "4     1792   8291\n",
              "..     ...    ...\n",
              "295  28718  19872\n",
              "296  22251   4276\n",
              "297   9783  20407\n",
              "298   6543   5541\n",
              "299  17019   7926\n",
              "\n",
              "[300 rows x 2 columns]"
            ],
            "text/html": [
              "\n",
              "  <div id=\"df-74ee16b4-57fe-46a0-87c6-05cd04a229dd\" class=\"colab-df-container\">\n",
              "    <div>\n",
              "<style scoped>\n",
              "    .dataframe tbody tr th:only-of-type {\n",
              "        vertical-align: middle;\n",
              "    }\n",
              "\n",
              "    .dataframe tbody tr th {\n",
              "        vertical-align: top;\n",
              "    }\n",
              "\n",
              "    .dataframe thead th {\n",
              "        text-align: right;\n",
              "    }\n",
              "</style>\n",
              "<table border=\"1\" class=\"dataframe\">\n",
              "  <thead>\n",
              "    <tr style=\"text-align: right;\">\n",
              "      <th></th>\n",
              "      <th>one</th>\n",
              "      <th>two</th>\n",
              "    </tr>\n",
              "  </thead>\n",
              "  <tbody>\n",
              "    <tr>\n",
              "      <th>0</th>\n",
              "      <td>5777</td>\n",
              "      <td>5805</td>\n",
              "    </tr>\n",
              "    <tr>\n",
              "      <th>1</th>\n",
              "      <td>6875</td>\n",
              "      <td>6543</td>\n",
              "    </tr>\n",
              "    <tr>\n",
              "      <th>2</th>\n",
              "      <td>6209</td>\n",
              "      <td>12039</td>\n",
              "    </tr>\n",
              "    <tr>\n",
              "      <th>3</th>\n",
              "      <td>3908</td>\n",
              "      <td>3050</td>\n",
              "    </tr>\n",
              "    <tr>\n",
              "      <th>4</th>\n",
              "      <td>1792</td>\n",
              "      <td>8291</td>\n",
              "    </tr>\n",
              "    <tr>\n",
              "      <th>...</th>\n",
              "      <td>...</td>\n",
              "      <td>...</td>\n",
              "    </tr>\n",
              "    <tr>\n",
              "      <th>295</th>\n",
              "      <td>28718</td>\n",
              "      <td>19872</td>\n",
              "    </tr>\n",
              "    <tr>\n",
              "      <th>296</th>\n",
              "      <td>22251</td>\n",
              "      <td>4276</td>\n",
              "    </tr>\n",
              "    <tr>\n",
              "      <th>297</th>\n",
              "      <td>9783</td>\n",
              "      <td>20407</td>\n",
              "    </tr>\n",
              "    <tr>\n",
              "      <th>298</th>\n",
              "      <td>6543</td>\n",
              "      <td>5541</td>\n",
              "    </tr>\n",
              "    <tr>\n",
              "      <th>299</th>\n",
              "      <td>17019</td>\n",
              "      <td>7926</td>\n",
              "    </tr>\n",
              "  </tbody>\n",
              "</table>\n",
              "<p>300 rows × 2 columns</p>\n",
              "</div>\n",
              "    <div class=\"colab-df-buttons\">\n",
              "\n",
              "  <div class=\"colab-df-container\">\n",
              "    <button class=\"colab-df-convert\" onclick=\"convertToInteractive('df-74ee16b4-57fe-46a0-87c6-05cd04a229dd')\"\n",
              "            title=\"Convert this dataframe to an interactive table.\"\n",
              "            style=\"display:none;\">\n",
              "\n",
              "  <svg xmlns=\"http://www.w3.org/2000/svg\" height=\"24px\" viewBox=\"0 -960 960 960\">\n",
              "    <path d=\"M120-120v-720h720v720H120Zm60-500h600v-160H180v160Zm220 220h160v-160H400v160Zm0 220h160v-160H400v160ZM180-400h160v-160H180v160Zm440 0h160v-160H620v160ZM180-180h160v-160H180v160Zm440 0h160v-160H620v160Z\"/>\n",
              "  </svg>\n",
              "    </button>\n",
              "\n",
              "  <style>\n",
              "    .colab-df-container {\n",
              "      display:flex;\n",
              "      gap: 12px;\n",
              "    }\n",
              "\n",
              "    .colab-df-convert {\n",
              "      background-color: #E8F0FE;\n",
              "      border: none;\n",
              "      border-radius: 50%;\n",
              "      cursor: pointer;\n",
              "      display: none;\n",
              "      fill: #1967D2;\n",
              "      height: 32px;\n",
              "      padding: 0 0 0 0;\n",
              "      width: 32px;\n",
              "    }\n",
              "\n",
              "    .colab-df-convert:hover {\n",
              "      background-color: #E2EBFA;\n",
              "      box-shadow: 0px 1px 2px rgba(60, 64, 67, 0.3), 0px 1px 3px 1px rgba(60, 64, 67, 0.15);\n",
              "      fill: #174EA6;\n",
              "    }\n",
              "\n",
              "    .colab-df-buttons div {\n",
              "      margin-bottom: 4px;\n",
              "    }\n",
              "\n",
              "    [theme=dark] .colab-df-convert {\n",
              "      background-color: #3B4455;\n",
              "      fill: #D2E3FC;\n",
              "    }\n",
              "\n",
              "    [theme=dark] .colab-df-convert:hover {\n",
              "      background-color: #434B5C;\n",
              "      box-shadow: 0px 1px 3px 1px rgba(0, 0, 0, 0.15);\n",
              "      filter: drop-shadow(0px 1px 2px rgba(0, 0, 0, 0.3));\n",
              "      fill: #FFFFFF;\n",
              "    }\n",
              "  </style>\n",
              "\n",
              "    <script>\n",
              "      const buttonEl =\n",
              "        document.querySelector('#df-74ee16b4-57fe-46a0-87c6-05cd04a229dd button.colab-df-convert');\n",
              "      buttonEl.style.display =\n",
              "        google.colab.kernel.accessAllowed ? 'block' : 'none';\n",
              "\n",
              "      async function convertToInteractive(key) {\n",
              "        const element = document.querySelector('#df-74ee16b4-57fe-46a0-87c6-05cd04a229dd');\n",
              "        const dataTable =\n",
              "          await google.colab.kernel.invokeFunction('convertToInteractive',\n",
              "                                                    [key], {});\n",
              "        if (!dataTable) return;\n",
              "\n",
              "        const docLinkHtml = 'Like what you see? Visit the ' +\n",
              "          '<a target=\"_blank\" href=https://colab.research.google.com/notebooks/data_table.ipynb>data table notebook</a>'\n",
              "          + ' to learn more about interactive tables.';\n",
              "        element.innerHTML = '';\n",
              "        dataTable['output_type'] = 'display_data';\n",
              "        await google.colab.output.renderOutput(dataTable, element);\n",
              "        const docLink = document.createElement('div');\n",
              "        docLink.innerHTML = docLinkHtml;\n",
              "        element.appendChild(docLink);\n",
              "      }\n",
              "    </script>\n",
              "  </div>\n",
              "\n",
              "\n",
              "<div id=\"df-ab491115-0685-4c5f-ab47-fb38091c59a2\">\n",
              "  <button class=\"colab-df-quickchart\" onclick=\"quickchart('df-ab491115-0685-4c5f-ab47-fb38091c59a2')\"\n",
              "            title=\"Suggest charts\"\n",
              "            style=\"display:none;\">\n",
              "\n",
              "<svg xmlns=\"http://www.w3.org/2000/svg\" height=\"24px\"viewBox=\"0 0 24 24\"\n",
              "     width=\"24px\">\n",
              "    <g>\n",
              "        <path d=\"M19 3H5c-1.1 0-2 .9-2 2v14c0 1.1.9 2 2 2h14c1.1 0 2-.9 2-2V5c0-1.1-.9-2-2-2zM9 17H7v-7h2v7zm4 0h-2V7h2v10zm4 0h-2v-4h2v4z\"/>\n",
              "    </g>\n",
              "</svg>\n",
              "  </button>\n",
              "\n",
              "<style>\n",
              "  .colab-df-quickchart {\n",
              "      --bg-color: #E8F0FE;\n",
              "      --fill-color: #1967D2;\n",
              "      --hover-bg-color: #E2EBFA;\n",
              "      --hover-fill-color: #174EA6;\n",
              "      --disabled-fill-color: #AAA;\n",
              "      --disabled-bg-color: #DDD;\n",
              "  }\n",
              "\n",
              "  [theme=dark] .colab-df-quickchart {\n",
              "      --bg-color: #3B4455;\n",
              "      --fill-color: #D2E3FC;\n",
              "      --hover-bg-color: #434B5C;\n",
              "      --hover-fill-color: #FFFFFF;\n",
              "      --disabled-bg-color: #3B4455;\n",
              "      --disabled-fill-color: #666;\n",
              "  }\n",
              "\n",
              "  .colab-df-quickchart {\n",
              "    background-color: var(--bg-color);\n",
              "    border: none;\n",
              "    border-radius: 50%;\n",
              "    cursor: pointer;\n",
              "    display: none;\n",
              "    fill: var(--fill-color);\n",
              "    height: 32px;\n",
              "    padding: 0;\n",
              "    width: 32px;\n",
              "  }\n",
              "\n",
              "  .colab-df-quickchart:hover {\n",
              "    background-color: var(--hover-bg-color);\n",
              "    box-shadow: 0 1px 2px rgba(60, 64, 67, 0.3), 0 1px 3px 1px rgba(60, 64, 67, 0.15);\n",
              "    fill: var(--button-hover-fill-color);\n",
              "  }\n",
              "\n",
              "  .colab-df-quickchart-complete:disabled,\n",
              "  .colab-df-quickchart-complete:disabled:hover {\n",
              "    background-color: var(--disabled-bg-color);\n",
              "    fill: var(--disabled-fill-color);\n",
              "    box-shadow: none;\n",
              "  }\n",
              "\n",
              "  .colab-df-spinner {\n",
              "    border: 2px solid var(--fill-color);\n",
              "    border-color: transparent;\n",
              "    border-bottom-color: var(--fill-color);\n",
              "    animation:\n",
              "      spin 1s steps(1) infinite;\n",
              "  }\n",
              "\n",
              "  @keyframes spin {\n",
              "    0% {\n",
              "      border-color: transparent;\n",
              "      border-bottom-color: var(--fill-color);\n",
              "      border-left-color: var(--fill-color);\n",
              "    }\n",
              "    20% {\n",
              "      border-color: transparent;\n",
              "      border-left-color: var(--fill-color);\n",
              "      border-top-color: var(--fill-color);\n",
              "    }\n",
              "    30% {\n",
              "      border-color: transparent;\n",
              "      border-left-color: var(--fill-color);\n",
              "      border-top-color: var(--fill-color);\n",
              "      border-right-color: var(--fill-color);\n",
              "    }\n",
              "    40% {\n",
              "      border-color: transparent;\n",
              "      border-right-color: var(--fill-color);\n",
              "      border-top-color: var(--fill-color);\n",
              "    }\n",
              "    60% {\n",
              "      border-color: transparent;\n",
              "      border-right-color: var(--fill-color);\n",
              "    }\n",
              "    80% {\n",
              "      border-color: transparent;\n",
              "      border-right-color: var(--fill-color);\n",
              "      border-bottom-color: var(--fill-color);\n",
              "    }\n",
              "    90% {\n",
              "      border-color: transparent;\n",
              "      border-bottom-color: var(--fill-color);\n",
              "    }\n",
              "  }\n",
              "</style>\n",
              "\n",
              "  <script>\n",
              "    async function quickchart(key) {\n",
              "      const quickchartButtonEl =\n",
              "        document.querySelector('#' + key + ' button');\n",
              "      quickchartButtonEl.disabled = true;  // To prevent multiple clicks.\n",
              "      quickchartButtonEl.classList.add('colab-df-spinner');\n",
              "      try {\n",
              "        const charts = await google.colab.kernel.invokeFunction(\n",
              "            'suggestCharts', [key], {});\n",
              "      } catch (error) {\n",
              "        console.error('Error during call to suggestCharts:', error);\n",
              "      }\n",
              "      quickchartButtonEl.classList.remove('colab-df-spinner');\n",
              "      quickchartButtonEl.classList.add('colab-df-quickchart-complete');\n",
              "    }\n",
              "    (() => {\n",
              "      let quickchartButtonEl =\n",
              "        document.querySelector('#df-ab491115-0685-4c5f-ab47-fb38091c59a2 button');\n",
              "      quickchartButtonEl.style.display =\n",
              "        google.colab.kernel.accessAllowed ? 'block' : 'none';\n",
              "    })();\n",
              "  </script>\n",
              "</div>\n",
              "\n",
              "  <div id=\"id_9cd74a71-bde5-4a22-9e56-ccfafe2e473c\">\n",
              "    <style>\n",
              "      .colab-df-generate {\n",
              "        background-color: #E8F0FE;\n",
              "        border: none;\n",
              "        border-radius: 50%;\n",
              "        cursor: pointer;\n",
              "        display: none;\n",
              "        fill: #1967D2;\n",
              "        height: 32px;\n",
              "        padding: 0 0 0 0;\n",
              "        width: 32px;\n",
              "      }\n",
              "\n",
              "      .colab-df-generate:hover {\n",
              "        background-color: #E2EBFA;\n",
              "        box-shadow: 0px 1px 2px rgba(60, 64, 67, 0.3), 0px 1px 3px 1px rgba(60, 64, 67, 0.15);\n",
              "        fill: #174EA6;\n",
              "      }\n",
              "\n",
              "      [theme=dark] .colab-df-generate {\n",
              "        background-color: #3B4455;\n",
              "        fill: #D2E3FC;\n",
              "      }\n",
              "\n",
              "      [theme=dark] .colab-df-generate:hover {\n",
              "        background-color: #434B5C;\n",
              "        box-shadow: 0px 1px 3px 1px rgba(0, 0, 0, 0.15);\n",
              "        filter: drop-shadow(0px 1px 2px rgba(0, 0, 0, 0.3));\n",
              "        fill: #FFFFFF;\n",
              "      }\n",
              "    </style>\n",
              "    <button class=\"colab-df-generate\" onclick=\"generateWithVariable('df')\"\n",
              "            title=\"Generate code using this dataframe.\"\n",
              "            style=\"display:none;\">\n",
              "\n",
              "  <svg xmlns=\"http://www.w3.org/2000/svg\" height=\"24px\"viewBox=\"0 0 24 24\"\n",
              "       width=\"24px\">\n",
              "    <path d=\"M7,19H8.4L18.45,9,17,7.55,7,17.6ZM5,21V16.75L18.45,3.32a2,2,0,0,1,2.83,0l1.4,1.43a1.91,1.91,0,0,1,.58,1.4,1.91,1.91,0,0,1-.58,1.4L9.25,21ZM18.45,9,17,7.55Zm-12,3A5.31,5.31,0,0,0,4.9,8.1,5.31,5.31,0,0,0,1,6.5,5.31,5.31,0,0,0,4.9,4.9,5.31,5.31,0,0,0,6.5,1,5.31,5.31,0,0,0,8.1,4.9,5.31,5.31,0,0,0,12,6.5,5.46,5.46,0,0,0,6.5,12Z\"/>\n",
              "  </svg>\n",
              "    </button>\n",
              "    <script>\n",
              "      (() => {\n",
              "      const buttonEl =\n",
              "        document.querySelector('#id_9cd74a71-bde5-4a22-9e56-ccfafe2e473c button.colab-df-generate');\n",
              "      buttonEl.style.display =\n",
              "        google.colab.kernel.accessAllowed ? 'block' : 'none';\n",
              "\n",
              "      buttonEl.onclick = () => {\n",
              "        google.colab.notebook.generateWithVariable('df');\n",
              "      }\n",
              "      })();\n",
              "    </script>\n",
              "  </div>\n",
              "\n",
              "    </div>\n",
              "  </div>\n"
            ],
            "application/vnd.google.colaboratory.intrinsic+json": {
              "type": "dataframe",
              "variable_name": "df",
              "summary": "{\n  \"name\": \"df\",\n  \"rows\": 300,\n  \"fields\": [\n    {\n      \"column\": \"one\",\n      \"properties\": {\n        \"dtype\": \"number\",\n        \"std\": 9019,\n        \"min\": 457,\n        \"max\": 31595,\n        \"num_unique_values\": 300,\n        \"samples\": [\n          2861,\n          7220,\n          23566\n        ],\n        \"semantic_type\": \"\",\n        \"description\": \"\"\n      }\n    },\n    {\n      \"column\": \"two\",\n      \"properties\": {\n        \"dtype\": \"number\",\n        \"std\": 9019,\n        \"min\": 457,\n        \"max\": 31595,\n        \"num_unique_values\": 300,\n        \"samples\": [\n          25399,\n          14720,\n          929\n        ],\n        \"semantic_type\": \"\",\n        \"description\": \"\"\n      }\n    }\n  ]\n}"
            }
          },
          "metadata": {},
          "execution_count": 131
        }
      ]
    },
    {
      "cell_type": "code",
      "source": [
        "pic_nos = pics.index.to_list()\n",
        "\n",
        "cols = [\"caption1\", \"caption1_processed\", \"caption1_tfidf_sklearn\",\n",
        "        'caption1_spacy', \"caption1_sbert\", \"caption1_sbert_processed\"\n",
        "        ]\n",
        "caption_pairs = [pd.DataFrame(cols),pd.DataFrame(cols)]\n",
        "for i in range(2):\n",
        "  random.shuffle(pic_nos)\n",
        "  caption_pairs = pics[cols].loc[movieIDs].reset_index(drop=True)\n",
        "  caption_pairs.columns = [f'{col}_{i+1}' for col in caption2s[i].columns]"
      ],
      "metadata": {
        "id": "w3KSxtLM90Na"
      },
      "execution_count": null,
      "outputs": []
    },
    {
      "cell_type": "code",
      "source": [
        "pic_nos = pics.index.to_list()\n",
        "pic_nos[:5]"
      ],
      "metadata": {
        "id": "YpccOahe90Kq",
        "outputId": "c68ed464-fd97-4c8b-998f-f8ec5e4dd951",
        "colab": {
          "base_uri": "https://localhost:8080/"
        }
      },
      "execution_count": 125,
      "outputs": [
        {
          "output_type": "execute_result",
          "data": {
            "text/plain": [
              "[4222, 29122, 19229, 14111, 3908]"
            ]
          },
          "metadata": {},
          "execution_count": 125
        }
      ]
    },
    {
      "cell_type": "code",
      "source": [
        "random.shuffle(pic_nos)"
      ],
      "metadata": {
        "id": "W7HTF6DP90H-"
      },
      "execution_count": 126,
      "outputs": []
    },
    {
      "cell_type": "code",
      "source": [
        "pic_nos[:5]"
      ],
      "metadata": {
        "id": "8cI1CXFg90Fe",
        "outputId": "420b6267-2919-4dfc-95ff-835ef7621bec",
        "colab": {
          "base_uri": "https://localhost:8080/"
        }
      },
      "execution_count": 127,
      "outputs": [
        {
          "output_type": "execute_result",
          "data": {
            "text/plain": [
              "[18855, 25399, 3466, 27321, 10334]"
            ]
          },
          "metadata": {},
          "execution_count": 127
        }
      ]
    },
    {
      "cell_type": "code",
      "source": [
        "df = pd.DataFrame()"
      ],
      "metadata": {
        "id": "oiiStrfy90CX"
      },
      "execution_count": 128,
      "outputs": []
    },
    {
      "cell_type": "code",
      "source": [
        "df[\"one\"] = pic_nos\n",
        "df"
      ],
      "metadata": {
        "id": "i7CmQR8K9z_O",
        "outputId": "a0f78dc6-597f-41d7-ae8f-6d7805cd8e6c",
        "colab": {
          "base_uri": "https://localhost:8080/",
          "height": 424
        }
      },
      "execution_count": 130,
      "outputs": [
        {
          "output_type": "execute_result",
          "data": {
            "text/plain": [
              "       one\n",
              "0    18855\n",
              "1    25399\n",
              "2     3466\n",
              "3    27321\n",
              "4    10334\n",
              "..     ...\n",
              "295  19521\n",
              "296   3528\n",
              "297  10294\n",
              "298  11967\n",
              "299  23566\n",
              "\n",
              "[300 rows x 1 columns]"
            ],
            "text/html": [
              "\n",
              "  <div id=\"df-8d920474-ea66-4735-b1fe-caf3eb05ff40\" class=\"colab-df-container\">\n",
              "    <div>\n",
              "<style scoped>\n",
              "    .dataframe tbody tr th:only-of-type {\n",
              "        vertical-align: middle;\n",
              "    }\n",
              "\n",
              "    .dataframe tbody tr th {\n",
              "        vertical-align: top;\n",
              "    }\n",
              "\n",
              "    .dataframe thead th {\n",
              "        text-align: right;\n",
              "    }\n",
              "</style>\n",
              "<table border=\"1\" class=\"dataframe\">\n",
              "  <thead>\n",
              "    <tr style=\"text-align: right;\">\n",
              "      <th></th>\n",
              "      <th>one</th>\n",
              "    </tr>\n",
              "  </thead>\n",
              "  <tbody>\n",
              "    <tr>\n",
              "      <th>0</th>\n",
              "      <td>18855</td>\n",
              "    </tr>\n",
              "    <tr>\n",
              "      <th>1</th>\n",
              "      <td>25399</td>\n",
              "    </tr>\n",
              "    <tr>\n",
              "      <th>2</th>\n",
              "      <td>3466</td>\n",
              "    </tr>\n",
              "    <tr>\n",
              "      <th>3</th>\n",
              "      <td>27321</td>\n",
              "    </tr>\n",
              "    <tr>\n",
              "      <th>4</th>\n",
              "      <td>10334</td>\n",
              "    </tr>\n",
              "    <tr>\n",
              "      <th>...</th>\n",
              "      <td>...</td>\n",
              "    </tr>\n",
              "    <tr>\n",
              "      <th>295</th>\n",
              "      <td>19521</td>\n",
              "    </tr>\n",
              "    <tr>\n",
              "      <th>296</th>\n",
              "      <td>3528</td>\n",
              "    </tr>\n",
              "    <tr>\n",
              "      <th>297</th>\n",
              "      <td>10294</td>\n",
              "    </tr>\n",
              "    <tr>\n",
              "      <th>298</th>\n",
              "      <td>11967</td>\n",
              "    </tr>\n",
              "    <tr>\n",
              "      <th>299</th>\n",
              "      <td>23566</td>\n",
              "    </tr>\n",
              "  </tbody>\n",
              "</table>\n",
              "<p>300 rows × 1 columns</p>\n",
              "</div>\n",
              "    <div class=\"colab-df-buttons\">\n",
              "\n",
              "  <div class=\"colab-df-container\">\n",
              "    <button class=\"colab-df-convert\" onclick=\"convertToInteractive('df-8d920474-ea66-4735-b1fe-caf3eb05ff40')\"\n",
              "            title=\"Convert this dataframe to an interactive table.\"\n",
              "            style=\"display:none;\">\n",
              "\n",
              "  <svg xmlns=\"http://www.w3.org/2000/svg\" height=\"24px\" viewBox=\"0 -960 960 960\">\n",
              "    <path d=\"M120-120v-720h720v720H120Zm60-500h600v-160H180v160Zm220 220h160v-160H400v160Zm0 220h160v-160H400v160ZM180-400h160v-160H180v160Zm440 0h160v-160H620v160ZM180-180h160v-160H180v160Zm440 0h160v-160H620v160Z\"/>\n",
              "  </svg>\n",
              "    </button>\n",
              "\n",
              "  <style>\n",
              "    .colab-df-container {\n",
              "      display:flex;\n",
              "      gap: 12px;\n",
              "    }\n",
              "\n",
              "    .colab-df-convert {\n",
              "      background-color: #E8F0FE;\n",
              "      border: none;\n",
              "      border-radius: 50%;\n",
              "      cursor: pointer;\n",
              "      display: none;\n",
              "      fill: #1967D2;\n",
              "      height: 32px;\n",
              "      padding: 0 0 0 0;\n",
              "      width: 32px;\n",
              "    }\n",
              "\n",
              "    .colab-df-convert:hover {\n",
              "      background-color: #E2EBFA;\n",
              "      box-shadow: 0px 1px 2px rgba(60, 64, 67, 0.3), 0px 1px 3px 1px rgba(60, 64, 67, 0.15);\n",
              "      fill: #174EA6;\n",
              "    }\n",
              "\n",
              "    .colab-df-buttons div {\n",
              "      margin-bottom: 4px;\n",
              "    }\n",
              "\n",
              "    [theme=dark] .colab-df-convert {\n",
              "      background-color: #3B4455;\n",
              "      fill: #D2E3FC;\n",
              "    }\n",
              "\n",
              "    [theme=dark] .colab-df-convert:hover {\n",
              "      background-color: #434B5C;\n",
              "      box-shadow: 0px 1px 3px 1px rgba(0, 0, 0, 0.15);\n",
              "      filter: drop-shadow(0px 1px 2px rgba(0, 0, 0, 0.3));\n",
              "      fill: #FFFFFF;\n",
              "    }\n",
              "  </style>\n",
              "\n",
              "    <script>\n",
              "      const buttonEl =\n",
              "        document.querySelector('#df-8d920474-ea66-4735-b1fe-caf3eb05ff40 button.colab-df-convert');\n",
              "      buttonEl.style.display =\n",
              "        google.colab.kernel.accessAllowed ? 'block' : 'none';\n",
              "\n",
              "      async function convertToInteractive(key) {\n",
              "        const element = document.querySelector('#df-8d920474-ea66-4735-b1fe-caf3eb05ff40');\n",
              "        const dataTable =\n",
              "          await google.colab.kernel.invokeFunction('convertToInteractive',\n",
              "                                                    [key], {});\n",
              "        if (!dataTable) return;\n",
              "\n",
              "        const docLinkHtml = 'Like what you see? Visit the ' +\n",
              "          '<a target=\"_blank\" href=https://colab.research.google.com/notebooks/data_table.ipynb>data table notebook</a>'\n",
              "          + ' to learn more about interactive tables.';\n",
              "        element.innerHTML = '';\n",
              "        dataTable['output_type'] = 'display_data';\n",
              "        await google.colab.output.renderOutput(dataTable, element);\n",
              "        const docLink = document.createElement('div');\n",
              "        docLink.innerHTML = docLinkHtml;\n",
              "        element.appendChild(docLink);\n",
              "      }\n",
              "    </script>\n",
              "  </div>\n",
              "\n",
              "\n",
              "<div id=\"df-c2ca459b-3c41-4d1c-9516-bbf70bc811c0\">\n",
              "  <button class=\"colab-df-quickchart\" onclick=\"quickchart('df-c2ca459b-3c41-4d1c-9516-bbf70bc811c0')\"\n",
              "            title=\"Suggest charts\"\n",
              "            style=\"display:none;\">\n",
              "\n",
              "<svg xmlns=\"http://www.w3.org/2000/svg\" height=\"24px\"viewBox=\"0 0 24 24\"\n",
              "     width=\"24px\">\n",
              "    <g>\n",
              "        <path d=\"M19 3H5c-1.1 0-2 .9-2 2v14c0 1.1.9 2 2 2h14c1.1 0 2-.9 2-2V5c0-1.1-.9-2-2-2zM9 17H7v-7h2v7zm4 0h-2V7h2v10zm4 0h-2v-4h2v4z\"/>\n",
              "    </g>\n",
              "</svg>\n",
              "  </button>\n",
              "\n",
              "<style>\n",
              "  .colab-df-quickchart {\n",
              "      --bg-color: #E8F0FE;\n",
              "      --fill-color: #1967D2;\n",
              "      --hover-bg-color: #E2EBFA;\n",
              "      --hover-fill-color: #174EA6;\n",
              "      --disabled-fill-color: #AAA;\n",
              "      --disabled-bg-color: #DDD;\n",
              "  }\n",
              "\n",
              "  [theme=dark] .colab-df-quickchart {\n",
              "      --bg-color: #3B4455;\n",
              "      --fill-color: #D2E3FC;\n",
              "      --hover-bg-color: #434B5C;\n",
              "      --hover-fill-color: #FFFFFF;\n",
              "      --disabled-bg-color: #3B4455;\n",
              "      --disabled-fill-color: #666;\n",
              "  }\n",
              "\n",
              "  .colab-df-quickchart {\n",
              "    background-color: var(--bg-color);\n",
              "    border: none;\n",
              "    border-radius: 50%;\n",
              "    cursor: pointer;\n",
              "    display: none;\n",
              "    fill: var(--fill-color);\n",
              "    height: 32px;\n",
              "    padding: 0;\n",
              "    width: 32px;\n",
              "  }\n",
              "\n",
              "  .colab-df-quickchart:hover {\n",
              "    background-color: var(--hover-bg-color);\n",
              "    box-shadow: 0 1px 2px rgba(60, 64, 67, 0.3), 0 1px 3px 1px rgba(60, 64, 67, 0.15);\n",
              "    fill: var(--button-hover-fill-color);\n",
              "  }\n",
              "\n",
              "  .colab-df-quickchart-complete:disabled,\n",
              "  .colab-df-quickchart-complete:disabled:hover {\n",
              "    background-color: var(--disabled-bg-color);\n",
              "    fill: var(--disabled-fill-color);\n",
              "    box-shadow: none;\n",
              "  }\n",
              "\n",
              "  .colab-df-spinner {\n",
              "    border: 2px solid var(--fill-color);\n",
              "    border-color: transparent;\n",
              "    border-bottom-color: var(--fill-color);\n",
              "    animation:\n",
              "      spin 1s steps(1) infinite;\n",
              "  }\n",
              "\n",
              "  @keyframes spin {\n",
              "    0% {\n",
              "      border-color: transparent;\n",
              "      border-bottom-color: var(--fill-color);\n",
              "      border-left-color: var(--fill-color);\n",
              "    }\n",
              "    20% {\n",
              "      border-color: transparent;\n",
              "      border-left-color: var(--fill-color);\n",
              "      border-top-color: var(--fill-color);\n",
              "    }\n",
              "    30% {\n",
              "      border-color: transparent;\n",
              "      border-left-color: var(--fill-color);\n",
              "      border-top-color: var(--fill-color);\n",
              "      border-right-color: var(--fill-color);\n",
              "    }\n",
              "    40% {\n",
              "      border-color: transparent;\n",
              "      border-right-color: var(--fill-color);\n",
              "      border-top-color: var(--fill-color);\n",
              "    }\n",
              "    60% {\n",
              "      border-color: transparent;\n",
              "      border-right-color: var(--fill-color);\n",
              "    }\n",
              "    80% {\n",
              "      border-color: transparent;\n",
              "      border-right-color: var(--fill-color);\n",
              "      border-bottom-color: var(--fill-color);\n",
              "    }\n",
              "    90% {\n",
              "      border-color: transparent;\n",
              "      border-bottom-color: var(--fill-color);\n",
              "    }\n",
              "  }\n",
              "</style>\n",
              "\n",
              "  <script>\n",
              "    async function quickchart(key) {\n",
              "      const quickchartButtonEl =\n",
              "        document.querySelector('#' + key + ' button');\n",
              "      quickchartButtonEl.disabled = true;  // To prevent multiple clicks.\n",
              "      quickchartButtonEl.classList.add('colab-df-spinner');\n",
              "      try {\n",
              "        const charts = await google.colab.kernel.invokeFunction(\n",
              "            'suggestCharts', [key], {});\n",
              "      } catch (error) {\n",
              "        console.error('Error during call to suggestCharts:', error);\n",
              "      }\n",
              "      quickchartButtonEl.classList.remove('colab-df-spinner');\n",
              "      quickchartButtonEl.classList.add('colab-df-quickchart-complete');\n",
              "    }\n",
              "    (() => {\n",
              "      let quickchartButtonEl =\n",
              "        document.querySelector('#df-c2ca459b-3c41-4d1c-9516-bbf70bc811c0 button');\n",
              "      quickchartButtonEl.style.display =\n",
              "        google.colab.kernel.accessAllowed ? 'block' : 'none';\n",
              "    })();\n",
              "  </script>\n",
              "</div>\n",
              "\n",
              "  <div id=\"id_8937a554-564d-4942-938b-848df07b5104\">\n",
              "    <style>\n",
              "      .colab-df-generate {\n",
              "        background-color: #E8F0FE;\n",
              "        border: none;\n",
              "        border-radius: 50%;\n",
              "        cursor: pointer;\n",
              "        display: none;\n",
              "        fill: #1967D2;\n",
              "        height: 32px;\n",
              "        padding: 0 0 0 0;\n",
              "        width: 32px;\n",
              "      }\n",
              "\n",
              "      .colab-df-generate:hover {\n",
              "        background-color: #E2EBFA;\n",
              "        box-shadow: 0px 1px 2px rgba(60, 64, 67, 0.3), 0px 1px 3px 1px rgba(60, 64, 67, 0.15);\n",
              "        fill: #174EA6;\n",
              "      }\n",
              "\n",
              "      [theme=dark] .colab-df-generate {\n",
              "        background-color: #3B4455;\n",
              "        fill: #D2E3FC;\n",
              "      }\n",
              "\n",
              "      [theme=dark] .colab-df-generate:hover {\n",
              "        background-color: #434B5C;\n",
              "        box-shadow: 0px 1px 3px 1px rgba(0, 0, 0, 0.15);\n",
              "        filter: drop-shadow(0px 1px 2px rgba(0, 0, 0, 0.3));\n",
              "        fill: #FFFFFF;\n",
              "      }\n",
              "    </style>\n",
              "    <button class=\"colab-df-generate\" onclick=\"generateWithVariable('df')\"\n",
              "            title=\"Generate code using this dataframe.\"\n",
              "            style=\"display:none;\">\n",
              "\n",
              "  <svg xmlns=\"http://www.w3.org/2000/svg\" height=\"24px\"viewBox=\"0 0 24 24\"\n",
              "       width=\"24px\">\n",
              "    <path d=\"M7,19H8.4L18.45,9,17,7.55,7,17.6ZM5,21V16.75L18.45,3.32a2,2,0,0,1,2.83,0l1.4,1.43a1.91,1.91,0,0,1,.58,1.4,1.91,1.91,0,0,1-.58,1.4L9.25,21ZM18.45,9,17,7.55Zm-12,3A5.31,5.31,0,0,0,4.9,8.1,5.31,5.31,0,0,0,1,6.5,5.31,5.31,0,0,0,4.9,4.9,5.31,5.31,0,0,0,6.5,1,5.31,5.31,0,0,0,8.1,4.9,5.31,5.31,0,0,0,12,6.5,5.46,5.46,0,0,0,6.5,12Z\"/>\n",
              "  </svg>\n",
              "    </button>\n",
              "    <script>\n",
              "      (() => {\n",
              "      const buttonEl =\n",
              "        document.querySelector('#id_8937a554-564d-4942-938b-848df07b5104 button.colab-df-generate');\n",
              "      buttonEl.style.display =\n",
              "        google.colab.kernel.accessAllowed ? 'block' : 'none';\n",
              "\n",
              "      buttonEl.onclick = () => {\n",
              "        google.colab.notebook.generateWithVariable('df');\n",
              "      }\n",
              "      })();\n",
              "    </script>\n",
              "  </div>\n",
              "\n",
              "    </div>\n",
              "  </div>\n"
            ],
            "application/vnd.google.colaboratory.intrinsic+json": {
              "type": "dataframe",
              "variable_name": "df",
              "summary": "{\n  \"name\": \"df\",\n  \"rows\": 300,\n  \"fields\": [\n    {\n      \"column\": \"one\",\n      \"properties\": {\n        \"dtype\": \"number\",\n        \"std\": 9019,\n        \"min\": 457,\n        \"max\": 31595,\n        \"num_unique_values\": 300,\n        \"samples\": [\n          4422,\n          1517,\n          15325\n        ],\n        \"semantic_type\": \"\",\n        \"description\": \"\"\n      }\n    }\n  ]\n}"
            }
          },
          "metadata": {},
          "execution_count": 130
        }
      ]
    },
    {
      "cell_type": "code",
      "source": [],
      "metadata": {
        "id": "GQ744vMl5cJz"
      },
      "execution_count": null,
      "outputs": []
    },
    {
      "cell_type": "code",
      "source": [
        "from scipy.sparse import vstack\n",
        "from sklearn.cluster import KMeans\n",
        "import matplotlib.pyplot as plt\n",
        "from sklearn.manifold import TSNE"
      ],
      "metadata": {
        "id": "dGyCiPG32Yw3"
      },
      "execution_count": null,
      "outputs": []
    },
    {
      "cell_type": "code",
      "source": [
        "def pretty_picture(data, clusters):"
      ],
      "metadata": {
        "id": "7d1Vedk92MRQ"
      },
      "execution_count": null,
      "outputs": []
    },
    {
      "cell_type": "code",
      "source": [
        "\n",
        "cls = KMeans(n_clusters=20)\n",
        "cls.fit_predict(np.resize(tfidf_matrix[:,:20],(100,tfidf_matrix.shape[-1])))\n",
        "\n",
        "# to get cluster labels for the dataset used while\n",
        "# training the model (used for models that do not\n",
        "# support prediction on new dataset).\n",
        "cls.labels_"
      ],
      "metadata": {
        "id": "1bTgzsENxpPW"
      },
      "execution_count": null,
      "outputs": []
    },
    {
      "cell_type": "code",
      "source": [
        "import matplotlib.pyplot as plt\n",
        "from sklearn.manifold import TSNE\n",
        "\n",
        "# Assuming 'features' is your sparse matrix\n",
        "# and it's already preprocessed appropriately\n",
        "\n",
        "# Initialize t-SNE\n",
        "tsne = TSNE(n_components=2, random_state=0, init=\"random\")\n",
        "\n",
        "# create the tsne arrangement of points in 2D (it is not really dimensionality reduction - it is arranging\n",
        "# the points so that the most similar )\n",
        "reduced_features = tsne.fit_transform(np.resize(tfidf_matrix[:,:20],(100,tfidf_matrix.shape[-1])))\n",
        "\n",
        "# Plot\n",
        "plt.figure(figsize=(10, 6))\n",
        "plt.title('t-SNE Visualization of Data Items')\n",
        "plt.scatter(reduced_features[:, 0], reduced_features[:, 1], c=[pic for i in range(5) for pic in range(20)], cmap='tab20')\n",
        "plt.xlabel('t-SNE Feature 1')\n",
        "plt.ylabel('t-SNE Feature 2')\n",
        "plt.show()"
      ],
      "metadata": {
        "id": "VAsgE6-UsNKv"
      },
      "execution_count": null,
      "outputs": []
    },
    {
      "cell_type": "code",
      "source": [
        "pics[\"TfIdf_Similarity_sklearn\"] = pics.apply(lambda x: cosine_similarity([x.caption1_tfidf_sklearn], [x.caption2_tfidf_sklearn])[0][0], axis=1)\n",
        "sim_cols.append(\"TfIdf_Similarity_sklearn\")"
      ],
      "metadata": {
        "id": "NgVzxJ0ZodR_"
      },
      "execution_count": null,
      "outputs": []
    },
    {
      "cell_type": "code",
      "source": [
        "print(tfidf_matrix.shape)\n",
        "print(tfidf_matrix.size)\n",
        "print(tfidf_matrix.shape[0]*tfidf_matrix.shape[1])\n",
        "tfidf_matrix"
      ],
      "metadata": {
        "id": "d0oBKiiHojF2"
      },
      "execution_count": null,
      "outputs": []
    },
    {
      "cell_type": "code",
      "source": [
        "tfidf_matrix.size/(tfidf_matrix.shape[0]*tfidf_matrix.shape[1])"
      ],
      "metadata": {
        "id": "oJTINpykokIR"
      },
      "execution_count": null,
      "outputs": []
    },
    {
      "cell_type": "code",
      "source": [
        "ppvectorizer = TfidfVectorizer()\n",
        "tfidf_matrix_processed = ppvectorizer.fit_transform(pics.caption1_processed.tolist()+pics.caption2_processed.tolist()+pics.caption3_processed.tolist()+pics.caption4_processed.tolist()+pics.caption5_processed.tolist())\n",
        "tfidf_matrix = np.resize(tfidf_matrix.toarray(),(5,300,2217))\n",
        "for i in range(5):\n",
        "  pics[f\"caption{i+1}_tfidf_sklearn\"] = tfidf_matrix[i].tolist()"
      ],
      "metadata": {
        "id": "baS56HnOovrz"
      },
      "execution_count": null,
      "outputs": []
    },
    {
      "cell_type": "code",
      "source": [
        "pics[\"TfIdf_Similarity_sklearn_processed\"] = pics.apply(lambda x: cosine_similarity([x.caption1_processed_tfidf_sklearn], [x.caption2_processed_tfidf_sklearn])[0][0], axis=1)\n",
        "sim_cols.append(\"TfIdf_Similarity_sklearn_processed\")"
      ],
      "metadata": {
        "id": "UA_Rw4mCo1hp"
      },
      "execution_count": null,
      "outputs": []
    }
  ]
}