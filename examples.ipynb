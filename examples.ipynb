{
  "nbformat": 4,
  "nbformat_minor": 0,
  "metadata": {
    "colab": {
      "provenance": [],
      "authorship_tag": "ABX9TyPs14nZ4GL7lzhq8JP0Rl5g"
    },
    "kernelspec": {
      "name": "python3",
      "display_name": "Python 3"
    },
    "language_info": {
      "name": "python"
    }
  },
  "cells": [
    {
      "cell_type": "code",
      "execution_count": 1,
      "metadata": {
        "id": "yZiTIYb0i0zP"
      },
      "outputs": [],
      "source": [
        "import pandas as pd\n",
        "import numpy as np\n",
        "import seaborn as sns\n",
        "\n",
        "import re\n",
        "import spacy\n",
        "from gensim.parsing.preprocessing import remove_stopwords\n",
        "\n",
        "from sklearn.feature_extraction.text import CountVectorizer\n",
        "from sklearn.metrics.pairwise import cosine_similarity\n",
        "from sklearn.feature_extraction.text import TfidfVectorizer\n",
        "\n",
        "from sklearn.decomposition import PCA\n",
        "import matplotlib.pyplot as plt"
      ]
    },
    {
      "cell_type": "code",
      "source": [
        "!python -m spacy download en_core_web_md"
      ],
      "metadata": {
        "id": "IWstVfUgnajV",
        "colab": {
          "base_uri": "https://localhost:8080/"
        },
        "outputId": "4426e6fb-1177-491c-8f89-d023ee2b9fc5"
      },
      "execution_count": 2,
      "outputs": [
        {
          "output_type": "stream",
          "name": "stdout",
          "text": [
            "Collecting en-core-web-md==3.7.1\n",
            "  Downloading https://github.com/explosion/spacy-models/releases/download/en_core_web_md-3.7.1/en_core_web_md-3.7.1-py3-none-any.whl (42.8 MB)\n",
            "\u001b[2K     \u001b[90m━━━━━━━━━━━━━━━━━━━━━━━━━━━━━━━━━━━━━━━━\u001b[0m \u001b[32m42.8/42.8 MB\u001b[0m \u001b[31m12.7 MB/s\u001b[0m eta \u001b[36m0:00:00\u001b[0m\n",
            "\u001b[?25hRequirement already satisfied: spacy<3.8.0,>=3.7.2 in /usr/local/lib/python3.10/dist-packages (from en-core-web-md==3.7.1) (3.7.6)\n",
            "Requirement already satisfied: spacy-legacy<3.1.0,>=3.0.11 in /usr/local/lib/python3.10/dist-packages (from spacy<3.8.0,>=3.7.2->en-core-web-md==3.7.1) (3.0.12)\n",
            "Requirement already satisfied: spacy-loggers<2.0.0,>=1.0.0 in /usr/local/lib/python3.10/dist-packages (from spacy<3.8.0,>=3.7.2->en-core-web-md==3.7.1) (1.0.5)\n",
            "Requirement already satisfied: murmurhash<1.1.0,>=0.28.0 in /usr/local/lib/python3.10/dist-packages (from spacy<3.8.0,>=3.7.2->en-core-web-md==3.7.1) (1.0.10)\n",
            "Requirement already satisfied: cymem<2.1.0,>=2.0.2 in /usr/local/lib/python3.10/dist-packages (from spacy<3.8.0,>=3.7.2->en-core-web-md==3.7.1) (2.0.8)\n",
            "Requirement already satisfied: preshed<3.1.0,>=3.0.2 in /usr/local/lib/python3.10/dist-packages (from spacy<3.8.0,>=3.7.2->en-core-web-md==3.7.1) (3.0.9)\n",
            "Requirement already satisfied: thinc<8.3.0,>=8.2.2 in /usr/local/lib/python3.10/dist-packages (from spacy<3.8.0,>=3.7.2->en-core-web-md==3.7.1) (8.2.5)\n",
            "Requirement already satisfied: wasabi<1.2.0,>=0.9.1 in /usr/local/lib/python3.10/dist-packages (from spacy<3.8.0,>=3.7.2->en-core-web-md==3.7.1) (1.1.3)\n",
            "Requirement already satisfied: srsly<3.0.0,>=2.4.3 in /usr/local/lib/python3.10/dist-packages (from spacy<3.8.0,>=3.7.2->en-core-web-md==3.7.1) (2.4.8)\n",
            "Requirement already satisfied: catalogue<2.1.0,>=2.0.6 in /usr/local/lib/python3.10/dist-packages (from spacy<3.8.0,>=3.7.2->en-core-web-md==3.7.1) (2.0.10)\n",
            "Requirement already satisfied: weasel<0.5.0,>=0.1.0 in /usr/local/lib/python3.10/dist-packages (from spacy<3.8.0,>=3.7.2->en-core-web-md==3.7.1) (0.4.1)\n",
            "Requirement already satisfied: typer<1.0.0,>=0.3.0 in /usr/local/lib/python3.10/dist-packages (from spacy<3.8.0,>=3.7.2->en-core-web-md==3.7.1) (0.12.5)\n",
            "Requirement already satisfied: tqdm<5.0.0,>=4.38.0 in /usr/local/lib/python3.10/dist-packages (from spacy<3.8.0,>=3.7.2->en-core-web-md==3.7.1) (4.66.5)\n",
            "Requirement already satisfied: requests<3.0.0,>=2.13.0 in /usr/local/lib/python3.10/dist-packages (from spacy<3.8.0,>=3.7.2->en-core-web-md==3.7.1) (2.32.3)\n",
            "Requirement already satisfied: pydantic!=1.8,!=1.8.1,<3.0.0,>=1.7.4 in /usr/local/lib/python3.10/dist-packages (from spacy<3.8.0,>=3.7.2->en-core-web-md==3.7.1) (2.8.2)\n",
            "Requirement already satisfied: jinja2 in /usr/local/lib/python3.10/dist-packages (from spacy<3.8.0,>=3.7.2->en-core-web-md==3.7.1) (3.1.4)\n",
            "Requirement already satisfied: setuptools in /usr/local/lib/python3.10/dist-packages (from spacy<3.8.0,>=3.7.2->en-core-web-md==3.7.1) (71.0.4)\n",
            "Requirement already satisfied: packaging>=20.0 in /usr/local/lib/python3.10/dist-packages (from spacy<3.8.0,>=3.7.2->en-core-web-md==3.7.1) (24.1)\n",
            "Requirement already satisfied: langcodes<4.0.0,>=3.2.0 in /usr/local/lib/python3.10/dist-packages (from spacy<3.8.0,>=3.7.2->en-core-web-md==3.7.1) (3.4.0)\n",
            "Requirement already satisfied: numpy>=1.19.0 in /usr/local/lib/python3.10/dist-packages (from spacy<3.8.0,>=3.7.2->en-core-web-md==3.7.1) (1.26.4)\n",
            "Requirement already satisfied: language-data>=1.2 in /usr/local/lib/python3.10/dist-packages (from langcodes<4.0.0,>=3.2.0->spacy<3.8.0,>=3.7.2->en-core-web-md==3.7.1) (1.2.0)\n",
            "Requirement already satisfied: annotated-types>=0.4.0 in /usr/local/lib/python3.10/dist-packages (from pydantic!=1.8,!=1.8.1,<3.0.0,>=1.7.4->spacy<3.8.0,>=3.7.2->en-core-web-md==3.7.1) (0.7.0)\n",
            "Requirement already satisfied: pydantic-core==2.20.1 in /usr/local/lib/python3.10/dist-packages (from pydantic!=1.8,!=1.8.1,<3.0.0,>=1.7.4->spacy<3.8.0,>=3.7.2->en-core-web-md==3.7.1) (2.20.1)\n",
            "Requirement already satisfied: typing-extensions>=4.6.1 in /usr/local/lib/python3.10/dist-packages (from pydantic!=1.8,!=1.8.1,<3.0.0,>=1.7.4->spacy<3.8.0,>=3.7.2->en-core-web-md==3.7.1) (4.12.2)\n",
            "Requirement already satisfied: charset-normalizer<4,>=2 in /usr/local/lib/python3.10/dist-packages (from requests<3.0.0,>=2.13.0->spacy<3.8.0,>=3.7.2->en-core-web-md==3.7.1) (3.3.2)\n",
            "Requirement already satisfied: idna<4,>=2.5 in /usr/local/lib/python3.10/dist-packages (from requests<3.0.0,>=2.13.0->spacy<3.8.0,>=3.7.2->en-core-web-md==3.7.1) (3.8)\n",
            "Requirement already satisfied: urllib3<3,>=1.21.1 in /usr/local/lib/python3.10/dist-packages (from requests<3.0.0,>=2.13.0->spacy<3.8.0,>=3.7.2->en-core-web-md==3.7.1) (2.0.7)\n",
            "Requirement already satisfied: certifi>=2017.4.17 in /usr/local/lib/python3.10/dist-packages (from requests<3.0.0,>=2.13.0->spacy<3.8.0,>=3.7.2->en-core-web-md==3.7.1) (2024.8.30)\n",
            "Requirement already satisfied: blis<0.8.0,>=0.7.8 in /usr/local/lib/python3.10/dist-packages (from thinc<8.3.0,>=8.2.2->spacy<3.8.0,>=3.7.2->en-core-web-md==3.7.1) (0.7.11)\n",
            "Requirement already satisfied: confection<1.0.0,>=0.0.1 in /usr/local/lib/python3.10/dist-packages (from thinc<8.3.0,>=8.2.2->spacy<3.8.0,>=3.7.2->en-core-web-md==3.7.1) (0.1.5)\n",
            "Requirement already satisfied: click>=8.0.0 in /usr/local/lib/python3.10/dist-packages (from typer<1.0.0,>=0.3.0->spacy<3.8.0,>=3.7.2->en-core-web-md==3.7.1) (8.1.7)\n",
            "Requirement already satisfied: shellingham>=1.3.0 in /usr/local/lib/python3.10/dist-packages (from typer<1.0.0,>=0.3.0->spacy<3.8.0,>=3.7.2->en-core-web-md==3.7.1) (1.5.4)\n",
            "Requirement already satisfied: rich>=10.11.0 in /usr/local/lib/python3.10/dist-packages (from typer<1.0.0,>=0.3.0->spacy<3.8.0,>=3.7.2->en-core-web-md==3.7.1) (13.8.0)\n",
            "Requirement already satisfied: cloudpathlib<1.0.0,>=0.7.0 in /usr/local/lib/python3.10/dist-packages (from weasel<0.5.0,>=0.1.0->spacy<3.8.0,>=3.7.2->en-core-web-md==3.7.1) (0.19.0)\n",
            "Requirement already satisfied: smart-open<8.0.0,>=5.2.1 in /usr/local/lib/python3.10/dist-packages (from weasel<0.5.0,>=0.1.0->spacy<3.8.0,>=3.7.2->en-core-web-md==3.7.1) (7.0.4)\n",
            "Requirement already satisfied: MarkupSafe>=2.0 in /usr/local/lib/python3.10/dist-packages (from jinja2->spacy<3.8.0,>=3.7.2->en-core-web-md==3.7.1) (2.1.5)\n",
            "Requirement already satisfied: marisa-trie>=0.7.7 in /usr/local/lib/python3.10/dist-packages (from language-data>=1.2->langcodes<4.0.0,>=3.2.0->spacy<3.8.0,>=3.7.2->en-core-web-md==3.7.1) (1.2.0)\n",
            "Requirement already satisfied: markdown-it-py>=2.2.0 in /usr/local/lib/python3.10/dist-packages (from rich>=10.11.0->typer<1.0.0,>=0.3.0->spacy<3.8.0,>=3.7.2->en-core-web-md==3.7.1) (3.0.0)\n",
            "Requirement already satisfied: pygments<3.0.0,>=2.13.0 in /usr/local/lib/python3.10/dist-packages (from rich>=10.11.0->typer<1.0.0,>=0.3.0->spacy<3.8.0,>=3.7.2->en-core-web-md==3.7.1) (2.16.1)\n",
            "Requirement already satisfied: wrapt in /usr/local/lib/python3.10/dist-packages (from smart-open<8.0.0,>=5.2.1->weasel<0.5.0,>=0.1.0->spacy<3.8.0,>=3.7.2->en-core-web-md==3.7.1) (1.16.0)\n",
            "Requirement already satisfied: mdurl~=0.1 in /usr/local/lib/python3.10/dist-packages (from markdown-it-py>=2.2.0->rich>=10.11.0->typer<1.0.0,>=0.3.0->spacy<3.8.0,>=3.7.2->en-core-web-md==3.7.1) (0.1.2)\n",
            "Installing collected packages: en-core-web-md\n",
            "Successfully installed en-core-web-md-3.7.1\n",
            "\u001b[38;5;2m✔ Download and installation successful\u001b[0m\n",
            "You can now load the package via spacy.load('en_core_web_md')\n",
            "\u001b[38;5;3m⚠ Restart to reload dependencies\u001b[0m\n",
            "If you are in a Jupyter or Colab notebook, you may need to restart Python in\n",
            "order to load all the package's dependencies. You can do this by selecting the\n",
            "'Restart kernel' or 'Restart runtime' option.\n"
          ]
        }
      ]
    },
    {
      "cell_type": "code",
      "source": [
        "pics = pd.read_json(\"hf://datasets/embedding-data/flickr30k_captions_quintets/flickr30k_captions.jsonl.gz\", lines=True)"
      ],
      "metadata": {
        "colab": {
          "base_uri": "https://localhost:8080/"
        },
        "id": "uIkubck3qULA",
        "outputId": "b50f0c6f-23a8-4d28-be1d-0cd4aecb1617"
      },
      "execution_count": 3,
      "outputs": [
        {
          "output_type": "stream",
          "name": "stderr",
          "text": [
            "/usr/local/lib/python3.10/dist-packages/huggingface_hub/utils/_token.py:89: UserWarning: \n",
            "The secret `HF_TOKEN` does not exist in your Colab secrets.\n",
            "To authenticate with the Hugging Face Hub, create a token in your settings tab (https://huggingface.co/settings/tokens), set it as secret in your Google Colab and restart your session.\n",
            "You will be able to reuse this secret in all of your notebooks.\n",
            "Please note that authentication is recommended but still optional to access public models or datasets.\n",
            "  warnings.warn(\n"
          ]
        }
      ]
    },
    {
      "cell_type": "code",
      "source": [
        "pic11013 = pics.iloc[11013]['set']\n",
        "pic11013"
      ],
      "metadata": {
        "colab": {
          "base_uri": "https://localhost:8080/"
        },
        "id": "z_jgIw05Yv9i",
        "outputId": "dfc0331c-b046-43ca-f714-a47b8cb14af6"
      },
      "execution_count": 4,
      "outputs": [
        {
          "output_type": "execute_result",
          "data": {
            "text/plain": [
              "['Some women in white perform on a stage.',\n",
              " 'Women who look alike are performing on a stage.',\n",
              " 'Women participate in a skit on stage.',\n",
              " 'A group of women are performing on stage.',\n",
              " 'People in a dance']"
            ]
          },
          "metadata": {},
          "execution_count": 4
        }
      ]
    },
    {
      "cell_type": "code",
      "source": [
        "def Jaccard(text1, text2, prints=False):\n",
        "  intersection = set(text1.split()) & set(text2.split())\n",
        "  union = len(set(text1.split()) | set(text2.split()))\n",
        "  if prints:\n",
        "    print(set(text1.split()))\n",
        "    print(set(text2.split()))\n",
        "    print(\"overlap: \", intersection)\n",
        "    print(\"Total words: \", union)\n",
        "  return(len(intersection)/union)"
      ],
      "metadata": {
        "id": "wx5uqvNBjWDv"
      },
      "execution_count": 5,
      "outputs": []
    },
    {
      "cell_type": "code",
      "source": [
        "Jaccard(pic11013[0], pic11013[1], True)"
      ],
      "metadata": {
        "colab": {
          "base_uri": "https://localhost:8080/"
        },
        "id": "wSKpL66ofmTL",
        "outputId": "e843f5bc-06b1-48ab-9101-827aec97d6e2"
      },
      "execution_count": 6,
      "outputs": [
        {
          "output_type": "stream",
          "name": "stdout",
          "text": [
            "{'perform', 'on', 'a', 'in', 'Some', 'women', 'stage.', 'white'}\n",
            "{'alike', 'on', 'a', 'who', 'performing', 'look', 'stage.', 'are', 'Women'}\n",
            "overlap:  {'a', 'stage.', 'on'}\n",
            "Total words:  14\n"
          ]
        },
        {
          "output_type": "execute_result",
          "data": {
            "text/plain": [
              "0.21428571428571427"
            ]
          },
          "metadata": {},
          "execution_count": 6
        }
      ]
    },
    {
      "cell_type": "code",
      "source": [
        "nlp = spacy.load(\"en_core_web_md\")\n",
        "from gensim.parsing.preprocessing import remove_stopwords\n",
        "\n",
        "def process(sentences):\n",
        "  print(\"Original: \")\n",
        "  print(sentences)\n",
        "  sentences1 = [sentence.lower() for sentence in sentences]\n",
        "  print(\"After case normalisation: \")\n",
        "  print(sentences1)\n",
        "  sentences2 = [re.sub(r'[^\\w\\s]',' ',s) for s in sentences1]\n",
        "  print(\"After punctuation removal: \")\n",
        "  print(sentences2)\n",
        "  sentences3 = [\" \".join([word.lemma_ for word in nlp(s)]) for s in sentences2]\n",
        "  print(\"After lemmatization: \")\n",
        "  print(sentences3)\n",
        "  print(\"After stopword removal: \")\n",
        "  sentences4 = [remove_stopwords(sentence) for sentence in sentences3]\n",
        "  print(sentences4)\n",
        "  return sentences4\n"
      ],
      "metadata": {
        "id": "WTX46YzOaasx"
      },
      "execution_count": 7,
      "outputs": []
    },
    {
      "cell_type": "code",
      "source": [
        "processed_pic11013 = process(pic11013)"
      ],
      "metadata": {
        "colab": {
          "base_uri": "https://localhost:8080/"
        },
        "id": "5e5i5abDfuMq",
        "outputId": "46305439-f9e2-4b47-d685-20f206000735"
      },
      "execution_count": 8,
      "outputs": [
        {
          "output_type": "stream",
          "name": "stdout",
          "text": [
            "Original: \n",
            "['Some women in white perform on a stage.', 'Women who look alike are performing on a stage.', 'Women participate in a skit on stage.', 'A group of women are performing on stage.', 'People in a dance']\n",
            "After case normalisation: \n",
            "['some women in white perform on a stage.', 'women who look alike are performing on a stage.', 'women participate in a skit on stage.', 'a group of women are performing on stage.', 'people in a dance']\n",
            "After punctuation removal: \n",
            "['some women in white perform on a stage ', 'women who look alike are performing on a stage ', 'women participate in a skit on stage ', 'a group of women are performing on stage ', 'people in a dance']\n",
            "After lemmatization: \n",
            "['some woman in white perform on a stage', 'woman who look alike be perform on a stage', 'woman participate in a skit on stage', 'a group of woman be perform on stage', 'people in a dance']\n",
            "After stopword removal: \n",
            "['woman white perform stage', 'woman look alike perform stage', 'woman participate skit stage', 'group woman perform stage', 'people dance']\n"
          ]
        }
      ]
    },
    {
      "cell_type": "code",
      "source": [
        "Jaccard(processed_pic11013[0], processed_pic11013[1], True)"
      ],
      "metadata": {
        "colab": {
          "base_uri": "https://localhost:8080/"
        },
        "id": "7f96jFESPQKm",
        "outputId": "3b1b448a-c630-4912-9079-4458ea11aade"
      },
      "execution_count": 9,
      "outputs": [
        {
          "output_type": "stream",
          "name": "stdout",
          "text": [
            "{'stage', 'woman', 'perform', 'white'}\n",
            "{'alike', 'perform', 'stage', 'look', 'woman'}\n",
            "overlap:  {'stage', 'woman', 'perform'}\n",
            "Total words:  6\n"
          ]
        },
        {
          "output_type": "execute_result",
          "data": {
            "text/plain": [
              "0.5"
            ]
          },
          "metadata": {},
          "execution_count": 9
        }
      ]
    },
    {
      "cell_type": "code",
      "source": [
        "from sklearn.feature_extraction.text import CountVectorizer\n",
        "count_vectorizer = CountVectorizer()\n",
        "X = count_vectorizer.fit_transform(processed_pic11013[:4])\n",
        "print(count_vectorizer.get_feature_names_out())\n",
        "print(X.toarray())"
      ],
      "metadata": {
        "colab": {
          "base_uri": "https://localhost:8080/"
        },
        "id": "s7LF00mhgB9F",
        "outputId": "89556eb5-7eda-40a5-fd37-00897724849b"
      },
      "execution_count": 10,
      "outputs": [
        {
          "output_type": "stream",
          "name": "stdout",
          "text": [
            "['alike' 'group' 'look' 'participate' 'perform' 'skit' 'stage' 'white'\n",
            " 'woman']\n",
            "[[0 0 0 0 1 0 1 1 1]\n",
            " [1 0 1 0 1 0 1 0 1]\n",
            " [0 0 0 1 0 1 1 0 1]\n",
            " [0 1 0 0 1 0 1 0 1]]\n"
          ]
        }
      ]
    },
    {
      "cell_type": "code",
      "source": [
        "cosine_similarity(X[0:2])"
      ],
      "metadata": {
        "id": "lkKOYhd9qrAr",
        "outputId": "c431187a-35ad-4496-fe48-106fc8e34e7c",
        "colab": {
          "base_uri": "https://localhost:8080/"
        }
      },
      "execution_count": 73,
      "outputs": [
        {
          "output_type": "execute_result",
          "data": {
            "text/plain": [
              "array([[1.        , 0.67082039],\n",
              "       [0.67082039, 1.        ]])"
            ]
          },
          "metadata": {},
          "execution_count": 73
        }
      ]
    },
    {
      "cell_type": "code",
      "source": [
        "pic16 = pics.iloc[16]['set']\n",
        "pic2 = pics.iloc[2]['set']\n",
        "pic31782 = pics.iloc[31782]['set']\n",
        "pic19521 = pics.iloc[19521]['set']"
      ],
      "metadata": {
        "id": "O-qsnfjRnpt8"
      },
      "execution_count": 11,
      "outputs": []
    },
    {
      "cell_type": "code",
      "source": [
        "processed_pic16 = process(pic16)"
      ],
      "metadata": {
        "colab": {
          "base_uri": "https://localhost:8080/"
        },
        "id": "6wQ73ryMnpkJ",
        "outputId": "236d3a46-b283-4d15-d993-1ee52f04a5d3"
      },
      "execution_count": 12,
      "outputs": [
        {
          "output_type": "stream",
          "name": "stdout",
          "text": [
            "Original: \n",
            "['A little girl covered in paint sits in front of a painted rainbow with her hands in a bowl.', 'A little girl is sitting in front of a large painted rainbow.', 'A small girl in the grass plays with fingerpaints in front of a white canvas with a rainbow on it.', 'There is a girl with pigtails sitting in front of a rainbow painting.', 'Young girl with pigtails painting outside in the grass.']\n",
            "After case normalisation: \n",
            "['a little girl covered in paint sits in front of a painted rainbow with her hands in a bowl.', 'a little girl is sitting in front of a large painted rainbow.', 'a small girl in the grass plays with fingerpaints in front of a white canvas with a rainbow on it.', 'there is a girl with pigtails sitting in front of a rainbow painting.', 'young girl with pigtails painting outside in the grass.']\n",
            "After punctuation removal: \n",
            "['a little girl covered in paint sits in front of a painted rainbow with her hands in a bowl ', 'a little girl is sitting in front of a large painted rainbow ', 'a small girl in the grass plays with fingerpaints in front of a white canvas with a rainbow on it ', 'there is a girl with pigtails sitting in front of a rainbow painting ', 'young girl with pigtails painting outside in the grass ']\n",
            "After lemmatization: \n",
            "['a little girl cover in paint sit in front of a paint rainbow with her hand in a bowl', 'a little girl be sit in front of a large paint rainbow', 'a small girl in the grass play with fingerpaint in front of a white canvas with a rainbow on it', 'there be a girl with pigtail sit in front of a rainbow painting', 'young girl with pigtail paint outside in the grass']\n",
            "After stopword removal: \n",
            "['little girl cover paint sit paint rainbow hand bowl', 'little girl sit large paint rainbow', 'small girl grass play fingerpaint white canvas rainbow', 'girl pigtail sit rainbow painting', 'young girl pigtail paint outside grass']\n"
          ]
        }
      ]
    },
    {
      "cell_type": "code",
      "source": [
        "processed_pic2 = process(pic2)"
      ],
      "metadata": {
        "colab": {
          "base_uri": "https://localhost:8080/"
        },
        "id": "UCZeYuDKnpez",
        "outputId": "b74317c5-01af-4e69-c43e-84c9dfdaace1"
      },
      "execution_count": 13,
      "outputs": [
        {
          "output_type": "stream",
          "name": "stdout",
          "text": [
            "Original: \n",
            "['A child in a pink dress is climbing up a set of stairs in an entry way.', 'A girl going into a wooden building.', 'A little girl climbing into a wooden playhouse', 'A little girl in a pink dress going into a wooden cabin.', 'A little girl climbing the stairs to her playhouse.']\n",
            "After case normalisation: \n",
            "['a child in a pink dress is climbing up a set of stairs in an entry way.', 'a girl going into a wooden building.', 'a little girl climbing into a wooden playhouse', 'a little girl in a pink dress going into a wooden cabin.', 'a little girl climbing the stairs to her playhouse.']\n",
            "After punctuation removal: \n",
            "['a child in a pink dress is climbing up a set of stairs in an entry way ', 'a girl going into a wooden building ', 'a little girl climbing into a wooden playhouse', 'a little girl in a pink dress going into a wooden cabin ', 'a little girl climbing the stairs to her playhouse ']\n",
            "After lemmatization: \n",
            "['a child in a pink dress be climb up a set of stair in an entry way', 'a girl go into a wooden building', 'a little girl climb into a wooden playhouse', 'a little girl in a pink dress go into a wooden cabin', 'a little girl climb the stair to her playhouse']\n",
            "After stopword removal: \n",
            "['child pink dress climb set stair entry way', 'girl wooden building', 'little girl climb wooden playhouse', 'little girl pink dress wooden cabin', 'little girl climb stair playhouse']\n"
          ]
        }
      ]
    },
    {
      "cell_type": "code",
      "source": [
        "processed_pic19521 = process(pic19521)"
      ],
      "metadata": {
        "colab": {
          "base_uri": "https://localhost:8080/"
        },
        "id": "KfnQWw2ocgsC",
        "outputId": "33a4e129-0f0d-4a07-fe47-e4b51c1e0f93"
      },
      "execution_count": 14,
      "outputs": [
        {
          "output_type": "stream",
          "name": "stdout",
          "text": [
            "Original: \n",
            "['Four young boy scouts on stage in front of green tents.', 'Four boy scouts are on a stage in front of their green tents.', 'Children performing on a stage with tents in the background.', 'Four boy scouts perform on stage.', 'Four Eagle Scouts are on stage with camping gear in the background.']\n",
            "After case normalisation: \n",
            "['four young boy scouts on stage in front of green tents.', 'four boy scouts are on a stage in front of their green tents.', 'children performing on a stage with tents in the background.', 'four boy scouts perform on stage.', 'four eagle scouts are on stage with camping gear in the background.']\n",
            "After punctuation removal: \n",
            "['four young boy scouts on stage in front of green tents ', 'four boy scouts are on a stage in front of their green tents ', 'children performing on a stage with tents in the background ', 'four boy scouts perform on stage ', 'four eagle scouts are on stage with camping gear in the background ']\n",
            "After lemmatization: \n",
            "['four young boy scout on stage in front of green tent', 'four boy scout be on a stage in front of their green tent', 'child perform on a stage with tent in the background', 'four boy scout perform on stage', 'four eagle scout be on stage with camping gear in the background']\n",
            "After stopword removal: \n",
            "['young boy scout stage green tent', 'boy scout stage green tent', 'child perform stage tent background', 'boy scout perform stage', 'eagle scout stage camping gear background']\n"
          ]
        }
      ]
    },
    {
      "cell_type": "code",
      "source": [
        "processed_pic31782 = process(pic31782)"
      ],
      "metadata": {
        "colab": {
          "base_uri": "https://localhost:8080/"
        },
        "id": "15jR7yDLq6MA",
        "outputId": "83831230-cd87-491e-f039-a2871f8b0b76"
      },
      "execution_count": 15,
      "outputs": [
        {
          "output_type": "stream",
          "name": "stdout",
          "text": [
            "Original: \n",
            "['A man riding a small boat in a harbor, with fog and mountains in the background.', 'A man in shorts and a Hawaiian shirt leans over the rail of a pilot boat, with fog and mountains in the background.', 'A young man hanging over the side of a boat, which is in a like with fog rolling over a hill behind it.', 'A man is leaning off of the side of a blue and white boat as it sits in a body of water.', 'A man on a moored blue and white boat with hills and mist in the background.']\n",
            "After case normalisation: \n",
            "['a man riding a small boat in a harbor, with fog and mountains in the background.', 'a man in shorts and a hawaiian shirt leans over the rail of a pilot boat, with fog and mountains in the background.', 'a young man hanging over the side of a boat, which is in a like with fog rolling over a hill behind it.', 'a man is leaning off of the side of a blue and white boat as it sits in a body of water.', 'a man on a moored blue and white boat with hills and mist in the background.']\n",
            "After punctuation removal: \n",
            "['a man riding a small boat in a harbor  with fog and mountains in the background ', 'a man in shorts and a hawaiian shirt leans over the rail of a pilot boat  with fog and mountains in the background ', 'a young man hanging over the side of a boat  which is in a like with fog rolling over a hill behind it ', 'a man is leaning off of the side of a blue and white boat as it sits in a body of water ', 'a man on a moored blue and white boat with hills and mist in the background ']\n",
            "After lemmatization: \n",
            "['a man ride a small boat in a harbor   with fog and mountain in the background', 'a man in short and a hawaiian shirt lean over the rail of a pilot boat   with fog and mountain in the background', 'a young man hang over the side of a boat   which be in a like with fog roll over a hill behind it', 'a man be lean off of the side of a blue and white boat as it sit in a body of water', 'a man on a moor blue and white boat with hill and mist in the background']\n",
            "After stopword removal: \n",
            "['man ride small boat harbor fog mountain background', 'man short hawaiian shirt lean rail pilot boat fog mountain background', 'young man hang boat like fog roll hill', 'man lean blue white boat sit body water', 'man moor blue white boat hill mist background']\n"
          ]
        }
      ]
    },
    {
      "cell_type": "code",
      "source": [
        "cv = CountVectorizer()\n",
        "X2 = cv.fit_transform(processed_pic11013)\n",
        "cv.get_feature_names_out()"
      ],
      "metadata": {
        "colab": {
          "base_uri": "https://localhost:8080/"
        },
        "id": "XTMQwy7Orh1U",
        "outputId": "662782fa-d87b-4be9-cccf-222a87b53498"
      },
      "execution_count": 16,
      "outputs": [
        {
          "output_type": "execute_result",
          "data": {
            "text/plain": [
              "array(['alike', 'dance', 'group', 'look', 'participate', 'people',\n",
              "       'perform', 'skit', 'stage', 'white', 'woman'], dtype=object)"
            ]
          },
          "metadata": {},
          "execution_count": 16
        }
      ]
    },
    {
      "cell_type": "code",
      "source": [
        "pic_sentence_labels = [n+l for n in ['1','2','3','4'] for l in ['A','B','C','D','E']]"
      ],
      "metadata": {
        "id": "xBs8d3_keHkB"
      },
      "execution_count": 17,
      "outputs": []
    },
    {
      "cell_type": "code",
      "source": [
        "twodim = PCA().fit_transform(X2.toarray())[:,:2]\n",
        "plt.figure(figsize=(12,6))\n",
        "plt.scatter(twodim[:,0], twodim[:,1], edgecolors='k', c='r')\n",
        "for word, (x,y) in zip(pic_sentence_labels, twodim):\n",
        "    plt.text(x+0.01, y+0.01, word)\n",
        "plt.show()"
      ],
      "metadata": {
        "colab": {
          "base_uri": "https://localhost:8080/",
          "height": 522
        },
        "id": "IFAo1V_Hrhla",
        "outputId": "a28e55c2-d80f-472b-ba33-6372ea7437b7"
      },
      "execution_count": 18,
      "outputs": [
        {
          "output_type": "display_data",
          "data": {
            "text/plain": [
              "<Figure size 1200x600 with 1 Axes>"
            ],
            "image/png": "[encoded data removed]"
          },
          "metadata": {}
        }
      ]
    },
    {
      "cell_type": "code",
      "source": [
        "cv = CountVectorizer()\n",
        "X3 = cv.fit_transform(processed_pic11013+processed_pic16+processed_pic2+processed_pic31782)\n",
        "cv.get_feature_names_out()"
      ],
      "metadata": {
        "colab": {
          "base_uri": "https://localhost:8080/"
        },
        "id": "aSjNNekQkxJM",
        "outputId": "cf2fafb2-ea93-4b02-ffae-99799c3b6297"
      },
      "execution_count": 19,
      "outputs": [
        {
          "output_type": "execute_result",
          "data": {
            "text/plain": [
              "array(['alike', 'background', 'blue', 'boat', 'body', 'bowl', 'building',\n",
              "       'cabin', 'canvas', 'child', 'climb', 'cover', 'dance', 'dress',\n",
              "       'entry', 'fingerpaint', 'fog', 'girl', 'grass', 'group', 'hand',\n",
              "       'hang', 'harbor', 'hawaiian', 'hill', 'large', 'lean', 'like',\n",
              "       'little', 'look', 'man', 'mist', 'moor', 'mountain', 'outside',\n",
              "       'paint', 'painting', 'participate', 'people', 'perform', 'pigtail',\n",
              "       'pilot', 'pink', 'play', 'playhouse', 'rail', 'rainbow', 'ride',\n",
              "       'roll', 'set', 'shirt', 'short', 'sit', 'skit', 'small', 'stage',\n",
              "       'stair', 'water', 'way', 'white', 'woman', 'wooden', 'young'],\n",
              "      dtype=object)"
            ]
          },
          "metadata": {},
          "execution_count": 19
        }
      ]
    },
    {
      "cell_type": "code",
      "source": [
        "sns.heatmap(cosine_similarity(X3), xticklabels=pic_sentence_labels, yticklabels=pic_sentence_labels)"
      ],
      "metadata": {
        "colab": {
          "base_uri": "https://localhost:8080/",
          "height": 453
        },
        "id": "vyXbuAIzmIyF",
        "outputId": "6436f5e0-3404-4de0-9f32-4fce7f6d2784"
      },
      "execution_count": 20,
      "outputs": [
        {
          "output_type": "execute_result",
          "data": {
            "text/plain": [
              "<Axes: >"
            ]
          },
          "metadata": {},
          "execution_count": 20
        },
        {
          "output_type": "display_data",
          "data": {
            "text/plain": [
              "<Figure size 640x480 with 2 Axes>"
            ],
            "image/png": "[encoded data removed]"
          },
          "metadata": {}
        }
      ]
    },
    {
      "cell_type": "code",
      "source": [
        "from sklearn.cluster import KMeans\n",
        "cls = KMeans(n_clusters=4)\n",
        "cls.fit_predict(X3)\n",
        "\n",
        "# to get cluster labels for the dataset used while\n",
        "# training the model (used for models that do not\n",
        "# support prediction on new dataset).\n",
        "cls.labels_"
      ],
      "metadata": {
        "colab": {
          "base_uri": "https://localhost:8080/"
        },
        "id": "W2c6X8LDetWX",
        "outputId": "b129add0-ce1e-499e-95f0-4a62015625a0"
      },
      "execution_count": 21,
      "outputs": [
        {
          "output_type": "stream",
          "name": "stderr",
          "text": [
            "/usr/local/lib/python3.10/dist-packages/sklearn/cluster/_kmeans.py:1416: FutureWarning: The default value of `n_init` will change from 10 to 'auto' in 1.4. Set the value of `n_init` explicitly to suppress the warning\n",
            "  super()._check_params_vs_input(X, default_n_init=10)\n"
          ]
        },
        {
          "output_type": "execute_result",
          "data": {
            "text/plain": [
              "array([2, 2, 2, 2, 2, 3, 3, 2, 3, 3, 1, 1, 1, 1, 1, 0, 0, 0, 0, 0],\n",
              "      dtype=int32)"
            ]
          },
          "metadata": {},
          "execution_count": 21
        }
      ]
    },
    {
      "cell_type": "code",
      "source": [
        "twodim = PCA().fit_transform(X3.toarray())[:,:2]\n",
        "plt.figure(figsize=(12,6))\n",
        "plt.scatter(twodim[:,0], twodim[:,1], c=cls.labels_)\n",
        "for word, (x,y) in zip(pic_sentence_labels, twodim):\n",
        "    plt.text(x+0.02, y+0.01, word)\n",
        "plt.show()"
      ],
      "metadata": {
        "colab": {
          "base_uri": "https://localhost:8080/",
          "height": 522
        },
        "id": "8G2w27lcsKsZ",
        "outputId": "54fea657-8bb1-4a5b-b7ab-74b9aab3a8f4"
      },
      "execution_count": 22,
      "outputs": [
        {
          "output_type": "display_data",
          "data": {
            "text/plain": [
              "<Figure size 1200x600 with 1 Axes>"
            ],
            "image/png": "[encoded data removed]"
          },
          "metadata": {}
        }
      ]
    },
    {
      "cell_type": "markdown",
      "source": [],
      "metadata": {
        "id": "XJxYXnZph1D4"
      }
    },
    {
      "cell_type": "markdown",
      "source": [
        "# TF-IDF"
      ],
      "metadata": {
        "id": "0QPzH0E5vL2Q"
      }
    },
    {
      "cell_type": "code",
      "source": [
        "for n in range(1,5):\n",
        "  print(f\"word appearing in {n} of 4 documents, will have idf = np.log(4/{n})+1 =\",\n",
        "        np.log(4/n)+1)"
      ],
      "metadata": {
        "colab": {
          "base_uri": "https://localhost:8080/"
        },
        "id": "S_HwdC4NoGHb",
        "outputId": "506ba480-438f-4886-a65d-02da514e908e"
      },
      "execution_count": 23,
      "outputs": [
        {
          "output_type": "stream",
          "name": "stdout",
          "text": [
            "word appearing in 1 of 4 documents, will have idf = np.log(4/1)+1 = 2.386294361119891\n",
            "word appearing in 2 of 4 documents, will have idf = np.log(4/2)+1 = 1.6931471805599454\n",
            "word appearing in 3 of 4 documents, will have idf = np.log(4/3)+1 = 1.2876820724517808\n",
            "word appearing in 4 of 4 documents, will have idf = np.log(4/4)+1 = 1.0\n"
          ]
        }
      ]
    },
    {
      "cell_type": "code",
      "source": [
        "vectorizer = TfidfVectorizer(smooth_idf=False, norm=None)\n",
        "tfidf_matrix = vectorizer.fit_transform(processed_pic11013[:4])"
      ],
      "metadata": {
        "id": "eVTjyDYAljPr"
      },
      "execution_count": 24,
      "outputs": []
    },
    {
      "cell_type": "code",
      "source": [
        "tfidf_matrix.todense()"
      ],
      "metadata": {
        "colab": {
          "base_uri": "https://localhost:8080/"
        },
        "id": "Rp9BiSNvlns9",
        "outputId": "4cc1fbcc-aece-4c27-9cc7-9e78136f7b26"
      },
      "execution_count": 25,
      "outputs": [
        {
          "output_type": "execute_result",
          "data": {
            "text/plain": [
              "matrix([[0.        , 0.        , 0.        , 0.        , 1.28768207,\n",
              "         0.        , 1.        , 2.38629436, 1.        ],\n",
              "        [2.38629436, 0.        , 2.38629436, 0.        , 1.28768207,\n",
              "         0.        , 1.        , 0.        , 1.        ],\n",
              "        [0.        , 0.        , 0.        , 2.38629436, 0.        ,\n",
              "         2.38629436, 1.        , 0.        , 1.        ],\n",
              "        [0.        , 2.38629436, 0.        , 0.        , 1.28768207,\n",
              "         0.        , 1.        , 0.        , 1.        ]])"
            ]
          },
          "metadata": {},
          "execution_count": 25
        }
      ]
    },
    {
      "cell_type": "code",
      "source": [
        "vectorizer.idf_"
      ],
      "metadata": {
        "colab": {
          "base_uri": "https://localhost:8080/"
        },
        "id": "hpUXFsYCdZih",
        "outputId": "083f279c-6ed8-4a2a-c7a4-2f3784ffe267"
      },
      "execution_count": 26,
      "outputs": [
        {
          "output_type": "execute_result",
          "data": {
            "text/plain": [
              "array([2.38629436, 2.38629436, 2.38629436, 2.38629436, 1.28768207,\n",
              "       2.38629436, 1.        , 2.38629436, 1.        ])"
            ]
          },
          "metadata": {},
          "execution_count": 26
        }
      ]
    },
    {
      "cell_type": "code",
      "source": [
        "dictionary = vectorizer.get_feature_names_out()\n",
        "dictionary"
      ],
      "metadata": {
        "colab": {
          "base_uri": "https://localhost:8080/"
        },
        "id": "neM56_21mneI",
        "outputId": "12f26710-aa9e-4a73-9805-f82822f6574e"
      },
      "execution_count": 27,
      "outputs": [
        {
          "output_type": "execute_result",
          "data": {
            "text/plain": [
              "array(['alike', 'group', 'look', 'participate', 'perform', 'skit',\n",
              "       'stage', 'white', 'woman'], dtype=object)"
            ]
          },
          "metadata": {},
          "execution_count": 27
        }
      ]
    },
    {
      "cell_type": "code",
      "source": [
        "norm_vectorizer = TfidfVectorizer(smooth_idf=False)\n",
        "norm_tfidf_matrix = norm_vectorizer.fit_transform(processed_pic11013[:4])"
      ],
      "metadata": {
        "id": "knMeVEKvrGB3"
      },
      "execution_count": 28,
      "outputs": []
    },
    {
      "cell_type": "code",
      "source": [
        "norm_tfidf_matrix.todense()"
      ],
      "metadata": {
        "colab": {
          "base_uri": "https://localhost:8080/"
        },
        "id": "uY7cAK42rR7n",
        "outputId": "4a2dd542-25a5-45b3-acf0-9cd1ac69b2d1"
      },
      "execution_count": 29,
      "outputs": [
        {
          "output_type": "execute_result",
          "data": {
            "text/plain": [
              "matrix([[0.        , 0.        , 0.        , 0.        , 0.4210602 ,\n",
              "         0.        , 0.3269908 , 0.78029631, 0.3269908 ],\n",
              "        [0.61517703, 0.        , 0.61517703, 0.        , 0.33195923,\n",
              "         0.        , 0.25779595, 0.        , 0.25779595],\n",
              "        [0.        , 0.        , 0.        , 0.65215851, 0.        ,\n",
              "         0.65215851, 0.2732934 , 0.        , 0.2732934 ],\n",
              "        [0.        , 0.78029631, 0.        , 0.        , 0.4210602 ,\n",
              "         0.        , 0.3269908 , 0.        , 0.3269908 ]])"
            ]
          },
          "metadata": {},
          "execution_count": 29
        }
      ]
    },
    {
      "cell_type": "code",
      "source": [
        "norm_vectorizer.idf_ == vectorizer.idf_"
      ],
      "metadata": {
        "colab": {
          "base_uri": "https://localhost:8080/"
        },
        "id": "gCxEXdD-uFKV",
        "outputId": "78df1ab3-785e-4b0e-f844-997b6f015c62"
      },
      "execution_count": 30,
      "outputs": [
        {
          "output_type": "execute_result",
          "data": {
            "text/plain": [
              "array([ True,  True,  True,  True,  True,  True,  True,  True,  True])"
            ]
          },
          "metadata": {},
          "execution_count": 30
        }
      ]
    },
    {
      "cell_type": "code",
      "source": [
        "print(np.argmin(vectorizer.idf_))\n",
        "print(dictionary[np.argmin(vectorizer.idf_)])"
      ],
      "metadata": {
        "colab": {
          "base_uri": "https://localhost:8080/"
        },
        "id": "JcPpU9bpmm3Z",
        "outputId": "e354b792-e52f-4b7d-da91-341af20d7295"
      },
      "execution_count": 31,
      "outputs": [
        {
          "output_type": "stream",
          "name": "stdout",
          "text": [
            "6\n",
            "stage\n"
          ]
        }
      ]
    },
    {
      "cell_type": "code",
      "source": [
        "print(np.argmax(vectorizer.idf_))\n",
        "print(dictionary[np.argmax(vectorizer.idf_)])"
      ],
      "metadata": {
        "colab": {
          "base_uri": "https://localhost:8080/"
        },
        "id": "aXJWdfxkrc62",
        "outputId": "47f1d7d4-6cba-4323-d713-0fe73863d967"
      },
      "execution_count": 32,
      "outputs": [
        {
          "output_type": "stream",
          "name": "stdout",
          "text": [
            "0\n",
            "alike\n"
          ]
        }
      ]
    },
    {
      "cell_type": "code",
      "source": [
        "vectorizer = TfidfVectorizer(smooth_idf=False)\n",
        "tfidf_matrix = vectorizer.fit_transform(processed_pic11013+processed_pic16+processed_pic2+processed_pic31782)\n",
        "vectorizer.get_feature_names_out()"
      ],
      "metadata": {
        "colab": {
          "base_uri": "https://localhost:8080/"
        },
        "id": "9Sl8qykGvIYT",
        "outputId": "ffa9efe7-3bef-4f73-d6a5-6a9d7f9ecb99"
      },
      "execution_count": 33,
      "outputs": [
        {
          "output_type": "execute_result",
          "data": {
            "text/plain": [
              "array(['alike', 'background', 'blue', 'boat', 'body', 'bowl', 'building',\n",
              "       'cabin', 'canvas', 'child', 'climb', 'cover', 'dance', 'dress',\n",
              "       'entry', 'fingerpaint', 'fog', 'girl', 'grass', 'group', 'hand',\n",
              "       'hang', 'harbor', 'hawaiian', 'hill', 'large', 'lean', 'like',\n",
              "       'little', 'look', 'man', 'mist', 'moor', 'mountain', 'outside',\n",
              "       'paint', 'painting', 'participate', 'people', 'perform', 'pigtail',\n",
              "       'pilot', 'pink', 'play', 'playhouse', 'rail', 'rainbow', 'ride',\n",
              "       'roll', 'set', 'shirt', 'short', 'sit', 'skit', 'small', 'stage',\n",
              "       'stair', 'water', 'way', 'white', 'woman', 'wooden', 'young'],\n",
              "      dtype=object)"
            ]
          },
          "metadata": {},
          "execution_count": 33
        }
      ]
    },
    {
      "cell_type": "code",
      "source": [
        "vectorizer.idf_"
      ],
      "metadata": {
        "colab": {
          "base_uri": "https://localhost:8080/"
        },
        "id": "gnF5aQC_b9tf",
        "outputId": "2c445352-7a2a-4555-df08-4a49d6f3dfca"
      },
      "execution_count": 34,
      "outputs": [
        {
          "output_type": "execute_result",
          "data": {
            "text/plain": [
              "array([3.99573227, 2.89711998, 3.30258509, 2.38629436, 3.99573227,\n",
              "       3.99573227, 3.99573227, 3.99573227, 3.99573227, 3.99573227,\n",
              "       2.89711998, 3.99573227, 3.99573227, 3.30258509, 3.99573227,\n",
              "       3.99573227, 2.89711998, 1.7985077 , 3.30258509, 3.99573227,\n",
              "       3.99573227, 3.99573227, 3.99573227, 3.99573227, 3.30258509,\n",
              "       3.99573227, 3.30258509, 3.99573227, 2.38629436, 3.99573227,\n",
              "       2.38629436, 3.99573227, 3.99573227, 3.30258509, 3.99573227,\n",
              "       2.89711998, 3.99573227, 3.99573227, 3.99573227, 2.89711998,\n",
              "       3.30258509, 3.99573227, 3.30258509, 3.99573227, 3.30258509,\n",
              "       3.99573227, 2.60943791, 3.99573227, 3.99573227, 3.99573227,\n",
              "       3.99573227, 3.99573227, 2.60943791, 3.99573227, 3.30258509,\n",
              "       2.60943791, 3.30258509, 3.99573227, 3.99573227, 2.60943791,\n",
              "       2.60943791, 2.89711998, 3.30258509])"
            ]
          },
          "metadata": {},
          "execution_count": 34
        }
      ]
    },
    {
      "cell_type": "code",
      "source": [
        "print(np.argmin(vectorizer.idf_))\n",
        "print(vectorizer.get_feature_names_out()[np.argmin(vectorizer.idf_)])"
      ],
      "metadata": {
        "colab": {
          "base_uri": "https://localhost:8080/"
        },
        "id": "kd-4At9tpaAQ",
        "outputId": "fa9cdd1d-65dd-457d-c523-a808038a3c94"
      },
      "execution_count": 35,
      "outputs": [
        {
          "output_type": "stream",
          "name": "stdout",
          "text": [
            "17\n",
            "girl\n"
          ]
        }
      ]
    },
    {
      "cell_type": "code",
      "source": [
        "print(np.argmax(vectorizer.idf_))\n",
        "print(vectorizer.get_feature_names_out()[np.argmax(vectorizer.idf_)])"
      ],
      "metadata": {
        "colab": {
          "base_uri": "https://localhost:8080/"
        },
        "id": "M1QfRhGxpbup",
        "outputId": "a7fdd559-abbf-4a05-8f7e-f60a25ea8f54"
      },
      "execution_count": 36,
      "outputs": [
        {
          "output_type": "stream",
          "name": "stdout",
          "text": [
            "0\n",
            "alike\n"
          ]
        }
      ]
    },
    {
      "cell_type": "code",
      "source": [
        "tfidf_matrix"
      ],
      "metadata": {
        "colab": {
          "base_uri": "https://localhost:8080/"
        },
        "id": "LL2PBYiMP02m",
        "outputId": "e651ace4-53c5-4065-ed21-3f712bbecd36"
      },
      "execution_count": 37,
      "outputs": [
        {
          "output_type": "execute_result",
          "data": {
            "text/plain": [
              "<20x63 sparse matrix of type '<class 'numpy.float64'>'\n",
              "\twith 122 stored elements in Compressed Sparse Row format>"
            ]
          },
          "metadata": {},
          "execution_count": 37
        }
      ]
    },
    {
      "cell_type": "code",
      "source": [
        "import seaborn as sns\n",
        "sns.heatmap(cosine_similarity(tfidf_matrix), xticklabels=pic_sentence_labels, yticklabels=pic_sentence_labels )"
      ],
      "metadata": {
        "colab": {
          "base_uri": "https://localhost:8080/",
          "height": 453
        },
        "id": "Kvq6g8dzfG3f",
        "outputId": "7d8844e5-f5cd-4c6a-bae0-188f0859fb48"
      },
      "execution_count": 38,
      "outputs": [
        {
          "output_type": "execute_result",
          "data": {
            "text/plain": [
              "<Axes: >"
            ]
          },
          "metadata": {},
          "execution_count": 38
        },
        {
          "output_type": "display_data",
          "data": {
            "text/plain": [
              "<Figure size 640x480 with 2 Axes>"
            ],
            "image/png": "[encoded data removed]"
          },
          "metadata": {}
        }
      ]
    },
    {
      "cell_type": "code",
      "source": [
        "cls = KMeans(n_clusters=4)\n",
        "cls.fit_predict(tfidf_matrix)\n",
        "\n",
        "# to get cluster labels for the dataset used while\n",
        "# training the model (used for models that do not\n",
        "# support prediction on new dataset).\n",
        "cls.labels_"
      ],
      "metadata": {
        "colab": {
          "base_uri": "https://localhost:8080/"
        },
        "id": "OLHuj1exgUHf",
        "outputId": "751fa9fd-cfa2-4700-b2a4-6ae5cebadc67"
      },
      "execution_count": 39,
      "outputs": [
        {
          "output_type": "stream",
          "name": "stderr",
          "text": [
            "/usr/local/lib/python3.10/dist-packages/sklearn/cluster/_kmeans.py:1416: FutureWarning: The default value of `n_init` will change from 10 to 'auto' in 1.4. Set the value of `n_init` explicitly to suppress the warning\n",
            "  super()._check_params_vs_input(X, default_n_init=10)\n"
          ]
        },
        {
          "output_type": "execute_result",
          "data": {
            "text/plain": [
              "array([0, 0, 0, 0, 3, 2, 2, 2, 2, 2, 1, 1, 1, 1, 1, 3, 3, 3, 3, 3],\n",
              "      dtype=int32)"
            ]
          },
          "metadata": {},
          "execution_count": 39
        }
      ]
    },
    {
      "cell_type": "code",
      "source": [
        "twodim = PCA().fit_transform(np.array(tfidf_matrix.todense()))[:,:2]\n",
        "plt.figure(figsize=(12,6))\n",
        "plt.scatter(twodim[:,0], twodim[:,1], c=cls.labels_)\n",
        "for word, (x,y) in zip(pic_sentence_labels, twodim):\n",
        "    plt.text(x+0.01, y+0.01, word)\n",
        "plt.show()"
      ],
      "metadata": {
        "colab": {
          "base_uri": "https://localhost:8080/",
          "height": 522
        },
        "id": "2keLCVpKSVVc",
        "outputId": "83636c90-51fc-4254-defa-97ddc6a998c7"
      },
      "execution_count": 40,
      "outputs": [
        {
          "output_type": "display_data",
          "data": {
            "text/plain": [
              "<Figure size 1200x600 with 1 Axes>"
            ],
            "image/png": "[encoded data removed]"
          },
          "metadata": {}
        }
      ]
    },
    {
      "cell_type": "markdown",
      "source": [
        "# Word Embeddings"
      ],
      "metadata": {
        "id": "I-prD9UFtOWY"
      }
    },
    {
      "cell_type": "code",
      "source": [
        "medium_example = pd.DataFrame(np.array([[0.96,0.92,0.08,0.67],[0.98,0.07,0.98,0.71],[0.05,0.90,0.10,0.56],[0.56,0.09,0.91,0.11],[0.95,0.85,0.15,0.42]]),\n",
        "                                       columns=['Royalty', 'Masculinity', 'Femininity', 'Age'], index=['KING', 'QUEEN', 'MAN', 'GIRL', 'PRINCE'])"
      ],
      "metadata": {
        "id": "cmhH4dz8yD7i"
      },
      "execution_count": 41,
      "outputs": []
    },
    {
      "cell_type": "code",
      "source": [
        "medium_example"
      ],
      "metadata": {
        "colab": {
          "base_uri": "https://localhost:8080/",
          "height": 206
        },
        "id": "gcrCyEKCy_b4",
        "outputId": "273bc31f-d5aa-45fa-9783-b7bec0de91e9"
      },
      "execution_count": 42,
      "outputs": [
        {
          "output_type": "execute_result",
          "data": {
            "text/plain": [
              "        Royalty  Masculinity  Femininity   Age\n",
              "KING       0.96         0.92        0.08  0.67\n",
              "QUEEN      0.98         0.07        0.98  0.71\n",
              "MAN        0.05         0.90        0.10  0.56\n",
              "GIRL       0.56         0.09        0.91  0.11\n",
              "PRINCE     0.95         0.85        0.15  0.42"
            ],
            "text/html": [
              "\n",
              "  <div id=\"df-e6932187-207d-45f3-92d3-e5c45bb68c26\" class=\"colab-df-container\">\n",
              "    <div>\n",
              "<style scoped>\n",
              "    .dataframe tbody tr th:only-of-type {\n",
              "        vertical-align: middle;\n",
              "    }\n",
              "\n",
              "    .dataframe tbody tr th {\n",
              "        vertical-align: top;\n",
              "    }\n",
              "\n",
              "    .dataframe thead th {\n",
              "        text-align: right;\n",
              "    }\n",
              "</style>\n",
              "<table border=\"1\" class=\"dataframe\">\n",
              "  <thead>\n",
              "    <tr style=\"text-align: right;\">\n",
              "      <th></th>\n",
              "      <th>Royalty</th>\n",
              "      <th>Masculinity</th>\n",
              "      <th>Femininity</th>\n",
              "      <th>Age</th>\n",
              "    </tr>\n",
              "  </thead>\n",
              "  <tbody>\n",
              "    <tr>\n",
              "      <th>KING</th>\n",
              "      <td>0.96</td>\n",
              "      <td>0.92</td>\n",
              "      <td>0.08</td>\n",
              "      <td>0.67</td>\n",
              "    </tr>\n",
              "    <tr>\n",
              "      <th>QUEEN</th>\n",
              "      <td>0.98</td>\n",
              "      <td>0.07</td>\n",
              "      <td>0.98</td>\n",
              "      <td>0.71</td>\n",
              "    </tr>\n",
              "    <tr>\n",
              "      <th>MAN</th>\n",
              "      <td>0.05</td>\n",
              "      <td>0.90</td>\n",
              "      <td>0.10</td>\n",
              "      <td>0.56</td>\n",
              "    </tr>\n",
              "    <tr>\n",
              "      <th>GIRL</th>\n",
              "      <td>0.56</td>\n",
              "      <td>0.09</td>\n",
              "      <td>0.91</td>\n",
              "      <td>0.11</td>\n",
              "    </tr>\n",
              "    <tr>\n",
              "      <th>PRINCE</th>\n",
              "      <td>0.95</td>\n",
              "      <td>0.85</td>\n",
              "      <td>0.15</td>\n",
              "      <td>0.42</td>\n",
              "    </tr>\n",
              "  </tbody>\n",
              "</table>\n",
              "</div>\n",
              "    <div class=\"colab-df-buttons\">\n",
              "\n",
              "  <div class=\"colab-df-container\">\n",
              "    <button class=\"colab-df-convert\" onclick=\"convertToInteractive('df-e6932187-207d-45f3-92d3-e5c45bb68c26')\"\n",
              "            title=\"Convert this dataframe to an interactive table.\"\n",
              "            style=\"display:none;\">\n",
              "\n",
              "  <svg xmlns=\"http://www.w3.org/2000/svg\" height=\"24px\" viewBox=\"0 -960 960 960\">\n",
              "    <path d=\"M120-120v-720h720v720H120Zm60-500h600v-160H180v160Zm220 220h160v-160H400v160Zm0 220h160v-160H400v160ZM180-400h160v-160H180v160Zm440 0h160v-160H620v160ZM180-180h160v-160H180v160Zm440 0h160v-160H620v160Z\"/>\n",
              "  </svg>\n",
              "    </button>\n",
              "\n",
              "  <style>\n",
              "    .colab-df-container {\n",
              "      display:flex;\n",
              "      gap: 12px;\n",
              "    }\n",
              "\n",
              "    .colab-df-convert {\n",
              "      background-color: #E8F0FE;\n",
              "      border: none;\n",
              "      border-radius: 50%;\n",
              "      cursor: pointer;\n",
              "      display: none;\n",
              "      fill: #1967D2;\n",
              "      height: 32px;\n",
              "      padding: 0 0 0 0;\n",
              "      width: 32px;\n",
              "    }\n",
              "\n",
              "    .colab-df-convert:hover {\n",
              "      background-color: #E2EBFA;\n",
              "      box-shadow: 0px 1px 2px rgba(60, 64, 67, 0.3), 0px 1px 3px 1px rgba(60, 64, 67, 0.15);\n",
              "      fill: #174EA6;\n",
              "    }\n",
              "\n",
              "    .colab-df-buttons div {\n",
              "      margin-bottom: 4px;\n",
              "    }\n",
              "\n",
              "    [theme=dark] .colab-df-convert {\n",
              "      background-color: #3B4455;\n",
              "      fill: #D2E3FC;\n",
              "    }\n",
              "\n",
              "    [theme=dark] .colab-df-convert:hover {\n",
              "      background-color: #434B5C;\n",
              "      box-shadow: 0px 1px 3px 1px rgba(0, 0, 0, 0.15);\n",
              "      filter: drop-shadow(0px 1px 2px rgba(0, 0, 0, 0.3));\n",
              "      fill: #FFFFFF;\n",
              "    }\n",
              "  </style>\n",
              "\n",
              "    <script>\n",
              "      const buttonEl =\n",
              "        document.querySelector('#df-e6932187-207d-45f3-92d3-e5c45bb68c26 button.colab-df-convert');\n",
              "      buttonEl.style.display =\n",
              "        google.colab.kernel.accessAllowed ? 'block' : 'none';\n",
              "\n",
              "      async function convertToInteractive(key) {\n",
              "        const element = document.querySelector('#df-e6932187-207d-45f3-92d3-e5c45bb68c26');\n",
              "        const dataTable =\n",
              "          await google.colab.kernel.invokeFunction('convertToInteractive',\n",
              "                                                    [key], {});\n",
              "        if (!dataTable) return;\n",
              "\n",
              "        const docLinkHtml = 'Like what you see? Visit the ' +\n",
              "          '<a target=\"_blank\" href=https://colab.research.google.com/notebooks/data_table.ipynb>data table notebook</a>'\n",
              "          + ' to learn more about interactive tables.';\n",
              "        element.innerHTML = '';\n",
              "        dataTable['output_type'] = 'display_data';\n",
              "        await google.colab.output.renderOutput(dataTable, element);\n",
              "        const docLink = document.createElement('div');\n",
              "        docLink.innerHTML = docLinkHtml;\n",
              "        element.appendChild(docLink);\n",
              "      }\n",
              "    </script>\n",
              "  </div>\n",
              "\n",
              "\n",
              "<div id=\"df-4b3d3d0f-56d2-4501-9847-3605853907cd\">\n",
              "  <button class=\"colab-df-quickchart\" onclick=\"quickchart('df-4b3d3d0f-56d2-4501-9847-3605853907cd')\"\n",
              "            title=\"Suggest charts\"\n",
              "            style=\"display:none;\">\n",
              "\n",
              "<svg xmlns=\"http://www.w3.org/2000/svg\" height=\"24px\"viewBox=\"0 0 24 24\"\n",
              "     width=\"24px\">\n",
              "    <g>\n",
              "        <path d=\"M19 3H5c-1.1 0-2 .9-2 2v14c0 1.1.9 2 2 2h14c1.1 0 2-.9 2-2V5c0-1.1-.9-2-2-2zM9 17H7v-7h2v7zm4 0h-2V7h2v10zm4 0h-2v-4h2v4z\"/>\n",
              "    </g>\n",
              "</svg>\n",
              "  </button>\n",
              "\n",
              "<style>\n",
              "  .colab-df-quickchart {\n",
              "      --bg-color: #E8F0FE;\n",
              "      --fill-color: #1967D2;\n",
              "      --hover-bg-color: #E2EBFA;\n",
              "      --hover-fill-color: #174EA6;\n",
              "      --disabled-fill-color: #AAA;\n",
              "      --disabled-bg-color: #DDD;\n",
              "  }\n",
              "\n",
              "  [theme=dark] .colab-df-quickchart {\n",
              "      --bg-color: #3B4455;\n",
              "      --fill-color: #D2E3FC;\n",
              "      --hover-bg-color: #434B5C;\n",
              "      --hover-fill-color: #FFFFFF;\n",
              "      --disabled-bg-color: #3B4455;\n",
              "      --disabled-fill-color: #666;\n",
              "  }\n",
              "\n",
              "  .colab-df-quickchart {\n",
              "    background-color: var(--bg-color);\n",
              "    border: none;\n",
              "    border-radius: 50%;\n",
              "    cursor: pointer;\n",
              "    display: none;\n",
              "    fill: var(--fill-color);\n",
              "    height: 32px;\n",
              "    padding: 0;\n",
              "    width: 32px;\n",
              "  }\n",
              "\n",
              "  .colab-df-quickchart:hover {\n",
              "    background-color: var(--hover-bg-color);\n",
              "    box-shadow: 0 1px 2px rgba(60, 64, 67, 0.3), 0 1px 3px 1px rgba(60, 64, 67, 0.15);\n",
              "    fill: var(--button-hover-fill-color);\n",
              "  }\n",
              "\n",
              "  .colab-df-quickchart-complete:disabled,\n",
              "  .colab-df-quickchart-complete:disabled:hover {\n",
              "    background-color: var(--disabled-bg-color);\n",
              "    fill: var(--disabled-fill-color);\n",
              "    box-shadow: none;\n",
              "  }\n",
              "\n",
              "  .colab-df-spinner {\n",
              "    border: 2px solid var(--fill-color);\n",
              "    border-color: transparent;\n",
              "    border-bottom-color: var(--fill-color);\n",
              "    animation:\n",
              "      spin 1s steps(1) infinite;\n",
              "  }\n",
              "\n",
              "  @keyframes spin {\n",
              "    0% {\n",
              "      border-color: transparent;\n",
              "      border-bottom-color: var(--fill-color);\n",
              "      border-left-color: var(--fill-color);\n",
              "    }\n",
              "    20% {\n",
              "      border-color: transparent;\n",
              "      border-left-color: var(--fill-color);\n",
              "      border-top-color: var(--fill-color);\n",
              "    }\n",
              "    30% {\n",
              "      border-color: transparent;\n",
              "      border-left-color: var(--fill-color);\n",
              "      border-top-color: var(--fill-color);\n",
              "      border-right-color: var(--fill-color);\n",
              "    }\n",
              "    40% {\n",
              "      border-color: transparent;\n",
              "      border-right-color: var(--fill-color);\n",
              "      border-top-color: var(--fill-color);\n",
              "    }\n",
              "    60% {\n",
              "      border-color: transparent;\n",
              "      border-right-color: var(--fill-color);\n",
              "    }\n",
              "    80% {\n",
              "      border-color: transparent;\n",
              "      border-right-color: var(--fill-color);\n",
              "      border-bottom-color: var(--fill-color);\n",
              "    }\n",
              "    90% {\n",
              "      border-color: transparent;\n",
              "      border-bottom-color: var(--fill-color);\n",
              "    }\n",
              "  }\n",
              "</style>\n",
              "\n",
              "  <script>\n",
              "    async function quickchart(key) {\n",
              "      const quickchartButtonEl =\n",
              "        document.querySelector('#' + key + ' button');\n",
              "      quickchartButtonEl.disabled = true;  // To prevent multiple clicks.\n",
              "      quickchartButtonEl.classList.add('colab-df-spinner');\n",
              "      try {\n",
              "        const charts = await google.colab.kernel.invokeFunction(\n",
              "            'suggestCharts', [key], {});\n",
              "      } catch (error) {\n",
              "        console.error('Error during call to suggestCharts:', error);\n",
              "      }\n",
              "      quickchartButtonEl.classList.remove('colab-df-spinner');\n",
              "      quickchartButtonEl.classList.add('colab-df-quickchart-complete');\n",
              "    }\n",
              "    (() => {\n",
              "      let quickchartButtonEl =\n",
              "        document.querySelector('#df-4b3d3d0f-56d2-4501-9847-3605853907cd button');\n",
              "      quickchartButtonEl.style.display =\n",
              "        google.colab.kernel.accessAllowed ? 'block' : 'none';\n",
              "    })();\n",
              "  </script>\n",
              "</div>\n",
              "\n",
              "  <div id=\"id_48248335-df31-4ca1-8c70-c69db7c960d0\">\n",
              "    <style>\n",
              "      .colab-df-generate {\n",
              "        background-color: #E8F0FE;\n",
              "        border: none;\n",
              "        border-radius: 50%;\n",
              "        cursor: pointer;\n",
              "        display: none;\n",
              "        fill: #1967D2;\n",
              "        height: 32px;\n",
              "        padding: 0 0 0 0;\n",
              "        width: 32px;\n",
              "      }\n",
              "\n",
              "      .colab-df-generate:hover {\n",
              "        background-color: #E2EBFA;\n",
              "        box-shadow: 0px 1px 2px rgba(60, 64, 67, 0.3), 0px 1px 3px 1px rgba(60, 64, 67, 0.15);\n",
              "        fill: #174EA6;\n",
              "      }\n",
              "\n",
              "      [theme=dark] .colab-df-generate {\n",
              "        background-color: #3B4455;\n",
              "        fill: #D2E3FC;\n",
              "      }\n",
              "\n",
              "      [theme=dark] .colab-df-generate:hover {\n",
              "        background-color: #434B5C;\n",
              "        box-shadow: 0px 1px 3px 1px rgba(0, 0, 0, 0.15);\n",
              "        filter: drop-shadow(0px 1px 2px rgba(0, 0, 0, 0.3));\n",
              "        fill: #FFFFFF;\n",
              "      }\n",
              "    </style>\n",
              "    <button class=\"colab-df-generate\" onclick=\"generateWithVariable('medium_example')\"\n",
              "            title=\"Generate code using this dataframe.\"\n",
              "            style=\"display:none;\">\n",
              "\n",
              "  <svg xmlns=\"http://www.w3.org/2000/svg\" height=\"24px\"viewBox=\"0 0 24 24\"\n",
              "       width=\"24px\">\n",
              "    <path d=\"M7,19H8.4L18.45,9,17,7.55,7,17.6ZM5,21V16.75L18.45,3.32a2,2,0,0,1,2.83,0l1.4,1.43a1.91,1.91,0,0,1,.58,1.4,1.91,1.91,0,0,1-.58,1.4L9.25,21ZM18.45,9,17,7.55Zm-12,3A5.31,5.31,0,0,0,4.9,8.1,5.31,5.31,0,0,0,1,6.5,5.31,5.31,0,0,0,4.9,4.9,5.31,5.31,0,0,0,6.5,1,5.31,5.31,0,0,0,8.1,4.9,5.31,5.31,0,0,0,12,6.5,5.46,5.46,0,0,0,6.5,12Z\"/>\n",
              "  </svg>\n",
              "    </button>\n",
              "    <script>\n",
              "      (() => {\n",
              "      const buttonEl =\n",
              "        document.querySelector('#id_48248335-df31-4ca1-8c70-c69db7c960d0 button.colab-df-generate');\n",
              "      buttonEl.style.display =\n",
              "        google.colab.kernel.accessAllowed ? 'block' : 'none';\n",
              "\n",
              "      buttonEl.onclick = () => {\n",
              "        google.colab.notebook.generateWithVariable('medium_example');\n",
              "      }\n",
              "      })();\n",
              "    </script>\n",
              "  </div>\n",
              "\n",
              "    </div>\n",
              "  </div>\n"
            ],
            "application/vnd.google.colaboratory.intrinsic+json": {
              "type": "dataframe",
              "variable_name": "medium_example",
              "summary": "{\n  \"name\": \"medium_example\",\n  \"rows\": 5,\n  \"fields\": [\n    {\n      \"column\": \"Royalty\",\n      \"properties\": {\n        \"dtype\": \"number\",\n        \"std\": 0.4032988966015156,\n        \"min\": 0.05,\n        \"max\": 0.98,\n        \"num_unique_values\": 5,\n        \"samples\": [\n          0.98,\n          0.95,\n          0.05\n        ],\n        \"semantic_type\": \"\",\n        \"description\": \"\"\n      }\n    },\n    {\n      \"column\": \"Masculinity\",\n      \"properties\": {\n        \"dtype\": \"number\",\n        \"std\": 0.4444434722211589,\n        \"min\": 0.07,\n        \"max\": 0.92,\n        \"num_unique_values\": 5,\n        \"samples\": [\n          0.07,\n          0.85,\n          0.9\n        ],\n        \"semantic_type\": \"\",\n        \"description\": \"\"\n      }\n    },\n    {\n      \"column\": \"Femininity\",\n      \"properties\": {\n        \"dtype\": \"number\",\n        \"std\": 0.4587264980355942,\n        \"min\": 0.08,\n        \"max\": 0.98,\n        \"num_unique_values\": 5,\n        \"samples\": [\n          0.98,\n          0.15,\n          0.1\n        ],\n        \"semantic_type\": \"\",\n        \"description\": \"\"\n      }\n    },\n    {\n      \"column\": \"Age\",\n      \"properties\": {\n        \"dtype\": \"number\",\n        \"std\": 0.24234273250914706,\n        \"min\": 0.11,\n        \"max\": 0.71,\n        \"num_unique_values\": 5,\n        \"samples\": [\n          0.71,\n          0.42,\n          0.56\n        ],\n        \"semantic_type\": \"\",\n        \"description\": \"\"\n      }\n    }\n  ]\n}"
            }
          },
          "metadata": {},
          "execution_count": 42
        }
      ]
    },
    {
      "cell_type": "code",
      "source": [
        "ax1 = medium_example.plot.scatter(x='Royalty', y='Masculinity', figsize=(8,4))\n",
        "for k, v in medium_example[[\"Royalty\", \"Masculinity\"]].iterrows():\n",
        "    ax1.annotate(k, v+0.01)\n",
        "ax1.set_xlim(0,1.1)\n",
        "ax1.set_ylim(0,1)\n",
        "\n",
        "\n",
        "#ax2 = medium_example.plot.scatter(x='Femininity', y='Age')\n",
        "#for k, v in medium_example[[\"Femininity\", \"Age\"]].iterrows():\n",
        "#    ax2.annotate(k, v)\n"
      ],
      "metadata": {
        "colab": {
          "base_uri": "https://localhost:8080/",
          "height": 411
        },
        "id": "fpi3dfnW4M2H",
        "outputId": "ebe3a29e-b29d-460b-e016-698e5932cf7d"
      },
      "execution_count": 43,
      "outputs": [
        {
          "output_type": "execute_result",
          "data": {
            "text/plain": [
              "(0.0, 1.0)"
            ]
          },
          "metadata": {},
          "execution_count": 43
        },
        {
          "output_type": "display_data",
          "data": {
            "text/plain": [
              "<Figure size 800x400 with 1 Axes>"
            ],
            "image/png": "[encoded data removed]"
          },
          "metadata": {}
        }
      ]
    },
    {
      "cell_type": "code",
      "source": [
        "word_vectors = np.array(medium_example)\n",
        "twodim = PCA().fit_transform(word_vectors)[:,:2]\n",
        "plt.figure(figsize=(12,6))\n",
        "plt.scatter(twodim[:,0], twodim[:,1], edgecolors='k', c='r')\n",
        "for word, (x,y) in zip(medium_example.index, twodim):\n",
        "    plt.text(x+0.01, y+0.01, word)\n",
        "plt.xlim(right=1.0)\n",
        "plt.show()"
      ],
      "metadata": {
        "colab": {
          "base_uri": "https://localhost:8080/",
          "height": 522
        },
        "id": "peCBi82r6qZb",
        "outputId": "a53ac664-8ab0-439d-f38c-c8380268cfb1"
      },
      "execution_count": 44,
      "outputs": [
        {
          "output_type": "display_data",
          "data": {
            "text/plain": [
              "<Figure size 1200x600 with 1 Axes>"
            ],
            "image/png": "[encoded data removed]"
          },
          "metadata": {}
        }
      ]
    },
    {
      "cell_type": "code",
      "source": [
        "def display_pca_scatterplot(model, words=None, sample=0):\n",
        "    if words == None:\n",
        "        if sample > 0:\n",
        "            words = np.random.choice(list(model.key_to_index), sample)\n",
        "        else:\n",
        "            words = [ word for word in model.vocab ]\n",
        "\n",
        "    word_vectors = np.array([model(w).vector for w in words])\n",
        "\n",
        "    twodim = PCA().fit_transform(word_vectors)[:,:2]\n",
        "\n",
        "    plt.figure(figsize=(12,6))\n",
        "    plt.scatter(twodim[:,0], twodim[:,1], edgecolors='k', c='r')\n",
        "    for word, (x,y) in zip(words, twodim):\n",
        "        plt.text(x+0.5, y+0.5, word)"
      ],
      "metadata": {
        "id": "OyGt6Zm4Ocji"
      },
      "execution_count": 45,
      "outputs": []
    },
    {
      "cell_type": "code",
      "source": [
        "display_pca_scatterplot(nlp,words=dictionary.tolist())"
      ],
      "metadata": {
        "colab": {
          "base_uri": "https://localhost:8080/",
          "height": 522
        },
        "id": "cOTrQCOSOciV",
        "outputId": "d1f59082-6332-4395-feec-242c3b17040c"
      },
      "execution_count": 46,
      "outputs": [
        {
          "output_type": "display_data",
          "data": {
            "text/plain": [
              "<Figure size 1200x600 with 1 Axes>"
            ],
            "image/png": "[encoded data removed]"
          },
          "metadata": {}
        }
      ]
    },
    {
      "cell_type": "code",
      "source": [
        "example_sentences = [\"President Obama visited Beijing last week\", \"The first African-American US President arrived at Peking a few days ago\",\n",
        "             \"Hamilton beats Button and wins the game\", \"Button beats Hamilton and wins the game\"]"
      ],
      "metadata": {
        "id": "q9t1u-3hnSC-"
      },
      "execution_count": 47,
      "outputs": []
    },
    {
      "cell_type": "code",
      "source": [
        "Jaccard(example_sentences[0], example_sentences[1], True)"
      ],
      "metadata": {
        "colab": {
          "base_uri": "https://localhost:8080/"
        },
        "id": "hqki0ePDoeO4",
        "outputId": "a6e961af-459e-4788-fd44-a7eac264b699"
      },
      "execution_count": 48,
      "outputs": [
        {
          "output_type": "stream",
          "name": "stdout",
          "text": [
            "{'last', 'President', 'Beijing', 'week', 'visited', 'Obama'}\n",
            "{'a', 'President', 'at', 'ago', 'Peking', 'African-American', 'days', 'arrived', 'US', 'The', 'first', 'few'}\n",
            "overlap:  {'President'}\n",
            "Total words:  17\n"
          ]
        },
        {
          "output_type": "execute_result",
          "data": {
            "text/plain": [
              "0.058823529411764705"
            ]
          },
          "metadata": {},
          "execution_count": 48
        }
      ]
    },
    {
      "cell_type": "code",
      "source": [
        "Jaccard(example_sentences[2], example_sentences[3], True)"
      ],
      "metadata": {
        "colab": {
          "base_uri": "https://localhost:8080/"
        },
        "id": "AWb_bSHRoeJa",
        "outputId": "96472925-622e-46c6-f309-299c4c6d2146"
      },
      "execution_count": 49,
      "outputs": [
        {
          "output_type": "stream",
          "name": "stdout",
          "text": [
            "{'beats', 'the', 'wins', 'game', 'Hamilton', 'and', 'Button'}\n",
            "{'beats', 'the', 'wins', 'game', 'Hamilton', 'and', 'Button'}\n",
            "overlap:  {'beats', 'the', 'wins', 'game', 'Hamilton', 'and', 'Button'}\n",
            "Total words:  7\n"
          ]
        },
        {
          "output_type": "execute_result",
          "data": {
            "text/plain": [
              "1.0"
            ]
          },
          "metadata": {},
          "execution_count": 49
        }
      ]
    },
    {
      "cell_type": "code",
      "source": [
        "vec = TfidfVectorizer(smooth_idf=False,stop_words=\"english\")\n",
        "tfidf_mat = vec.fit_transform(example_sentences)"
      ],
      "metadata": {
        "id": "txKgSrth0W9i"
      },
      "execution_count": 50,
      "outputs": []
    },
    {
      "cell_type": "code",
      "source": [
        "cosine_similarity(tfidf_mat)"
      ],
      "metadata": {
        "colab": {
          "base_uri": "https://localhost:8080/"
        },
        "id": "yCDCV7FZv-HF",
        "outputId": "c8f0c0db-28be-4d6c-b3ca-e1cfb946b243"
      },
      "execution_count": 51,
      "outputs": [
        {
          "output_type": "execute_result",
          "data": {
            "text/plain": [
              "array([[1.        , 0.09302469, 0.        , 0.        ],\n",
              "       [0.09302469, 1.        , 0.        , 0.        ],\n",
              "       [0.        , 0.        , 1.        , 1.        ],\n",
              "       [0.        , 0.        , 1.        , 1.        ]])"
            ]
          },
          "metadata": {},
          "execution_count": 51
        }
      ]
    },
    {
      "cell_type": "code",
      "source": [
        "display_pca_scatterplot(nlp, vec.get_feature_names_out().tolist())"
      ],
      "metadata": {
        "colab": {
          "base_uri": "https://localhost:8080/",
          "height": 522
        },
        "id": "FinBJgPfwW0-",
        "outputId": "7cace520-c06e-48a3-9ffc-b633a367fd43"
      },
      "execution_count": 52,
      "outputs": [
        {
          "output_type": "display_data",
          "data": {
            "text/plain": [
              "<Figure size 1200x600 with 1 Axes>"
            ],
            "image/png": "[encoded data removed]"
          },
          "metadata": {}
        }
      ]
    },
    {
      "cell_type": "code",
      "source": [],
      "metadata": {
        "id": "MtZvcbaTEeIq"
      },
      "execution_count": 52,
      "outputs": []
    },
    {
      "cell_type": "code",
      "source": [],
      "metadata": {
        "id": "2Qbt69unEeDs"
      },
      "execution_count": 52,
      "outputs": []
    },
    {
      "cell_type": "code",
      "source": [],
      "metadata": {
        "id": "toPjDT_cEd7n"
      },
      "execution_count": 52,
      "outputs": []
    },
    {
      "cell_type": "code",
      "source": [
        "cosine_similarity([nlp(\"king\").vector], [nlp(\"girl\").vector])"
      ],
      "metadata": {
        "colab": {
          "base_uri": "https://localhost:8080/"
        },
        "id": "uQeAlK_5wsbB",
        "outputId": "a0458e1f-c9af-47ef-e84f-27d68a8d4bdd"
      },
      "execution_count": 53,
      "outputs": [
        {
          "output_type": "execute_result",
          "data": {
            "text/plain": [
              "array([[0.22843453]], dtype=float32)"
            ]
          },
          "metadata": {},
          "execution_count": 53
        }
      ]
    },
    {
      "cell_type": "code",
      "source": [
        "nlp(\"king\").similarity(nlp(\"girl\"))"
      ],
      "metadata": {
        "colab": {
          "base_uri": "https://localhost:8080/"
        },
        "id": "kJENEj5ZEoFk",
        "outputId": "7ad15582-cb70-4ae6-a41b-2845e1915c22"
      },
      "execution_count": 54,
      "outputs": [
        {
          "output_type": "execute_result",
          "data": {
            "text/plain": [
              "0.228434522148802"
            ]
          },
          "metadata": {},
          "execution_count": 54
        }
      ]
    },
    {
      "cell_type": "code",
      "source": [
        "nlp11013 = []\n",
        "nlp2 = []\n",
        "nlp16 = []\n",
        "nlp31782 = []\n",
        "for i in range(5):\n",
        "  nlp11013.append(nlp(pic11013[i]).vector)\n",
        "  nlp2.append(nlp(pic2[i]).vector)\n",
        "  nlp16.append(nlp(pic16[i]).vector)\n",
        "  nlp31782.append(nlp(pic31782[i]).vector)"
      ],
      "metadata": {
        "id": "rB_vgs90E-2E"
      },
      "execution_count": 55,
      "outputs": []
    },
    {
      "cell_type": "code",
      "source": [
        "sns.heatmap(cosine_similarity(nlp11013+nlp2+nlp16+nlp31782), xticklabels=pic_sentence_labels,yticklabels=pic_sentence_labels)"
      ],
      "metadata": {
        "colab": {
          "base_uri": "https://localhost:8080/",
          "height": 453
        },
        "id": "k8C2KwgMFZ2q",
        "outputId": "9f251360-d71b-45a0-8970-9ed6a3cdd0cc"
      },
      "execution_count": 56,
      "outputs": [
        {
          "output_type": "execute_result",
          "data": {
            "text/plain": [
              "<Axes: >"
            ]
          },
          "metadata": {},
          "execution_count": 56
        },
        {
          "output_type": "display_data",
          "data": {
            "text/plain": [
              "<Figure size 640x480 with 2 Axes>"
            ],
            "image/png": "[encoded data removed]"
          },
          "metadata": {}
        }
      ]
    },
    {
      "cell_type": "code",
      "source": [
        "cls = KMeans(n_clusters=4)\n",
        "cls.fit_predict(nlp11013+nlp2+nlp16+nlp31782)\n",
        "\n",
        "# to get cluster labels for the dataset used while\n",
        "# training the model (used for models that do not\n",
        "# support prediction on new dataset).\n",
        "cls.labels_\n",
        "\n",
        "twodim = PCA().fit_transform(nlp11013+nlp2+nlp16+nlp31782)[:,:2]\n",
        "plt.figure(figsize=(12,6))\n",
        "plt.scatter(twodim[:,0], twodim[:,1], c=cls.labels_)\n",
        "for word, (x,y) in zip(pic_sentence_labels, twodim):\n",
        "    plt.text(x+0.02, y+0.01, word)\n",
        "plt.show()"
      ],
      "metadata": {
        "colab": {
          "base_uri": "https://localhost:8080/",
          "height": 578
        },
        "id": "ou5lJXtIhfEQ",
        "outputId": "0f98ccda-7c55-40ad-84e2-66574b256d41"
      },
      "execution_count": 57,
      "outputs": [
        {
          "output_type": "stream",
          "name": "stderr",
          "text": [
            "/usr/local/lib/python3.10/dist-packages/sklearn/cluster/_kmeans.py:1416: FutureWarning: The default value of `n_init` will change from 10 to 'auto' in 1.4. Set the value of `n_init` explicitly to suppress the warning\n",
            "  super()._check_params_vs_input(X, default_n_init=10)\n"
          ]
        },
        {
          "output_type": "display_data",
          "data": {
            "text/plain": [
              "<Figure size 1200x600 with 1 Axes>"
            ],
            "image/png": "[encoded data removed]"
          },
          "metadata": {}
        }
      ]
    },
    {
      "cell_type": "code",
      "source": [
        "nlp(pic11013[4])"
      ],
      "metadata": {
        "colab": {
          "base_uri": "https://localhost:8080/"
        },
        "id": "xSCjYu-HF_-g",
        "outputId": "fec6dd24-c805-43d0-fb38-7388069eb4e0"
      },
      "execution_count": 58,
      "outputs": [
        {
          "output_type": "execute_result",
          "data": {
            "text/plain": [
              "People in a dance"
            ]
          },
          "metadata": {},
          "execution_count": 58
        }
      ]
    },
    {
      "cell_type": "code",
      "source": [
        "(nlp(pic11013[4]).vector == np.mean([nlp(\"People\").vector,nlp(\"in\").vector,nlp(\"a\").vector,nlp(\"dance\").vector],axis=0)).all()"
      ],
      "metadata": {
        "colab": {
          "base_uri": "https://localhost:8080/"
        },
        "id": "kB5K5rZiGjYt",
        "outputId": "704a50d9-ab71-4117-f0d4-bc05ae7dd04d"
      },
      "execution_count": 68,
      "outputs": [
        {
          "output_type": "execute_result",
          "data": {
            "text/plain": [
              "True"
            ]
          },
          "metadata": {},
          "execution_count": 68
        }
      ]
    },
    {
      "cell_type": "code",
      "source": [],
      "metadata": {
        "id": "AAI3AN5Kjqwx"
      },
      "execution_count": null,
      "outputs": []
    }
  ]
}